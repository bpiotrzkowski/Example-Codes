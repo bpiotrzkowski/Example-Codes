{
 "cells": [
  {
   "cell_type": "code",
   "execution_count": 1,
   "metadata": {},
   "outputs": [],
   "source": [
    "import pickle\n",
    "import numpy as np\n",
    "import pandas as pd\n",
    "from matplotlib import pyplot as plt\n",
    "import seaborn as sns\n",
    "\n",
    "from sklearn.neighbors import KNeighborsClassifier\n",
    "from sklearn.model_selection import train_test_split\n",
    "import pickle\n",
    "#from injections import "
   ]
  },
  {
   "cell_type": "code",
   "execution_count": null,
   "metadata": {},
   "outputs": [],
   "source": []
  },
  {
   "cell_type": "code",
   "execution_count": 2,
   "metadata": {},
   "outputs": [],
   "source": [
    "BBH_path='data'\n",
    "BNS_path='data2'\n",
    "BBH_check_path='data_check'\n",
    "BNS_check_path='data2_check'"
   ]
  },
  {
   "cell_type": "code",
   "execution_count": 3,
   "metadata": {},
   "outputs": [],
   "source": [
    "injections_BNS = pickle.load(open(BNS_path+'/injections-BNS.p', \"rb\"))\n",
    "injections_BBH = pickle.load(open(BBH_path+'/injections-BBH.p', \"rb\"))\n",
    "injections_check_BNS = pickle.load(open(BNS_check_path+'/injections-BNS.p', \"rb\"))\n",
    "injections_check_BBH = pickle.load(open(BBH_check_path+'/injections-BBH.p', \"rb\"))"
   ]
  },
  {
   "cell_type": "code",
   "execution_count": 4,
   "metadata": {},
   "outputs": [],
   "source": [
    "mass_1=np.array([])\n",
    "mass_2=np.array([])\n",
    "mass_1_check=np.array([])\n",
    "mass_2_check=np.array([])\n",
    "identity=np.array([],dtype=bool)\n",
    "identity_check=np.array([],dtype=bool)\n",
    "num_injections=len(injections_BNS)+len(injections_BBH)\n",
    "num_injections_check=len(injections_check_BNS)+len(injections_check_BBH)\n",
    "\n",
    "for i in range(len(injections_BNS)):\n",
    "    mass_1=np.append(mass_1,injections_BNS[i][\"mass_1\"])\n",
    "    mass_2=np.append(mass_2,injections_BNS[i][\"mass_2\"])\n",
    "    identity=np.append(identity,True)\n",
    "\n",
    "for i in range(len(injections_BBH)):\n",
    "    mass_1=np.append(mass_1,injections_BBH[i][\"mass_1\"])\n",
    "    mass_2=np.append(mass_2,injections_BBH[i][\"mass_2\"])\n",
    "    identity=np.append(identity,False)\n",
    "    \n",
    "for i in range(len(injections_check_BNS)):\n",
    "    mass_1_check=np.append(mass_1_check,injections_check_BNS[i][\"mass_1\"])\n",
    "    mass_2_check=np.append(mass_2_check,injections_check_BNS[i][\"mass_2\"])\n",
    "    identity_check=np.append(identity_check,True)\n",
    "\n",
    "for i in range(len(injections_check_BBH)):\n",
    "    mass_1_check=np.append(mass_1_check,injections_check_BBH[i][\"mass_1\"])\n",
    "    mass_2_check=np.append(mass_2_check,injections_check_BBH[i][\"mass_2\"])\n",
    "    identity_check=np.append(identity_check,False)"
   ]
  },
  {
   "cell_type": "code",
   "execution_count": 5,
   "metadata": {},
   "outputs": [],
   "source": [
    "M_chirp=(mass_1*mass_2)**(3/5)/(mass_1+mass_2)**(1/5)\n",
    "eta=(mass_1*mass_2)/(mass_1+mass_2)**2.0\n",
    "\n",
    "M_chirp_check=(mass_1_check*mass_2_check)**(3/5)/(mass_1_check+mass_2_check)**(1/5)\n",
    "eta_check=(mass_1_check*mass_2_check)/(mass_1_check+mass_2_check)**2.0"
   ]
  },
  {
   "cell_type": "code",
   "execution_count": 6,
   "metadata": {},
   "outputs": [],
   "source": [
    "# For now we have 2features, so let's use 2N+1 neighbors\n",
    "num_neighbors = 5\n",
    "KNC = KNeighborsClassifier(num_neighbors)"
   ]
  },
  {
   "cell_type": "code",
   "execution_count": 7,
   "metadata": {},
   "outputs": [
    {
     "name": "stdout",
     "output_type": "stream",
     "text": [
      "[[ 1.11517732  1.27435042  1.31728931  1.03674033  1.16940107  1.07080856\n",
      "   1.15899711  1.26005789  1.04290961  1.16268526  1.20381869  1.04822215\n",
      "   1.12819129  1.24832397  1.04984739  1.26647736  1.17182152  1.19162864\n",
      "   1.22309244  1.10108386  1.18075338  1.25344761  1.06015737  1.31438586\n",
      "   1.28557651  1.19679612  1.2295786   1.09275829  1.2952859   1.22908994\n",
      "   1.15636168  1.19127425  1.09667306  1.25882388  1.02491625  1.24848678\n",
      "   1.12075978  1.01268846  1.22392549  1.27235847  1.09068224  1.01375755\n",
      "   1.18834001  1.15725502  1.06263314  1.02710093  1.24727625  1.015645\n",
      "   1.16897904  1.27498988  1.15117717  1.26127536  1.12748988  1.22011952\n",
      "   1.05826397  0.91664972  1.08560863  1.37230802  1.01047611  1.01667811\n",
      "   1.10934902  1.02330661  1.1924749   1.05656912  1.16678765  1.1173331\n",
      "   1.06342787  1.12105594  1.04663489  1.21951155  1.14626094  1.17216307\n",
      "   1.21151374  1.14308168  1.07215447  1.25534078  1.07367141  1.16279836\n",
      "   1.19469934  1.30034147  1.28397728  1.08811893  1.26603349  1.14596268\n",
      "   0.97447564  1.10005624  1.21519598  1.03940135  1.12077597  1.12534638\n",
      "   1.27752227  0.90552428  1.44883504  1.47081904  1.20548769  1.08701524\n",
      "   1.09595274  1.14737936  1.14482936  1.29813829  5.39248541 25.24160514\n",
      "  30.34896358 15.86416598  4.57900788  4.58666361  5.01135289 13.81980798\n",
      "   7.35682758  7.14393854 15.385486   37.63411526  7.56920021 13.29708627\n",
      "  10.54260405 15.29476987 25.29112493 15.12979987 21.87528035  9.22125742\n",
      "   5.09120672 17.54251887 15.21296405  5.52140716  6.07399686 20.7829579\n",
      "   5.15746489  6.50237903 14.51090693  4.44569036 15.46931444  4.44562663\n",
      "  16.68710464 27.13375974  5.18003347 21.29502306  4.81832694 31.80891171\n",
      "  21.51025143  6.51176806 14.40289231 29.80674464 10.2778198   5.34487028\n",
      "  28.52600593 27.2906496  14.10012866  5.52971974 10.73945819  5.1582271\n",
      "  25.32857313 20.01035924 23.73428805 11.18707575  4.6266437   8.73213005\n",
      "  14.49281653  8.50064115 13.1631559  10.73356041 20.94513521  7.09433706\n",
      "   8.97010508  4.47763466  8.98408487 10.90950493 19.57298545  4.95021588\n",
      "   5.651937   12.30385248 16.92261106  4.91192032 21.87205096 10.12010557\n",
      "  14.4358123   7.78048849 25.91929588  8.24449124  7.6478402  11.28402423\n",
      "   6.15211962 22.86323417  5.51701068 12.62529192 24.84696859  7.31047833\n",
      "  14.16603933  5.01799106 11.91493034 11.72470948 24.52509783 12.78093032\n",
      "  19.00532723  6.78640527 15.72957437 19.36004119 14.90761539  6.52957629\n",
      "   4.45014087 11.21351198]\n",
      " [ 0.24374987  0.24736141  0.24997632  0.24880658  0.24993947  0.24840655\n",
      "   0.24671429  0.24626713  0.24969604  0.2474526   0.24932845  0.24974458\n",
      "   0.24999973  0.24986871  0.24942957  0.24957583  0.23941955  0.24946183\n",
      "   0.24999091  0.24508648  0.24650076  0.24999338  0.24870464  0.24999975\n",
      "   0.24467982  0.24999257  0.24828548  0.24808445  0.24880277  0.24997492\n",
      "   0.24976278  0.23946091  0.24857057  0.2484479   0.24666516  0.24973402\n",
      "   0.24941714  0.24757447  0.2457051   0.24960223  0.24980146  0.23715801\n",
      "   0.24987846  0.24958176  0.24841449  0.24990394  0.24980824  0.24998866\n",
      "   0.24996692  0.24836336  0.24921742  0.2469541   0.24974582  0.24998742\n",
      "   0.24823908  0.24999996  0.25        0.24977411  0.24924871  0.24768687\n",
      "   0.24806268  0.24944714  0.24617038  0.24973666  0.2488626   0.24904905\n",
      "   0.2498418   0.24839387  0.24996634  0.24912342  0.24948129  0.24998704\n",
      "   0.24897642  0.24892109  0.2463281   0.24852853  0.24420181  0.24891122\n",
      "   0.24993399  0.24999798  0.24903617  0.2474202   0.24998125  0.24983692\n",
      "   0.24174092  0.24998838  0.24894889  0.24962315  0.2471675   0.24977707\n",
      "   0.24998443  0.23563685  0.24991689  0.24877447  0.24944615  0.24769138\n",
      "   0.2434794   0.24947195  0.24997834  0.24992643  0.24290592  0.23526307\n",
      "   0.2472353   0.24994887  0.24974427  0.24999142  0.24850499  0.09939928\n",
      "   0.24908404  0.24963732  0.24025546  0.24528444  0.18736896  0.229721\n",
      "   0.24623179  0.18812626  0.22190111  0.24208231  0.24896448  0.2124056\n",
      "   0.24957931  0.24985994  0.23746867  0.2499499   0.24809456  0.2462156\n",
      "   0.24934366  0.23637177  0.21343749  0.24997067  0.24088504  0.24999987\n",
      "   0.22374281  0.22701371  0.242364    0.24882026  0.24905049  0.23087522\n",
      "   0.23307121  0.23881654  0.24988914  0.24662996  0.24819089  0.24908598\n",
      "   0.23385375  0.23488263  0.17256229  0.24963925  0.23549554  0.24489815\n",
      "   0.2233337   0.23583583  0.24614971  0.24548197  0.24918752  0.2499748\n",
      "   0.22230648  0.17271638  0.24599359  0.24315028  0.24678883  0.24982102\n",
      "   0.18456948  0.24999998  0.2473284   0.23692585  0.2478988   0.24817504\n",
      "   0.24892308  0.24164215  0.23548976  0.24999974  0.24737625  0.24473708\n",
      "   0.22928291  0.24882884  0.23105485  0.22704927  0.22234747  0.2349452\n",
      "   0.24696648  0.24962991  0.24990376  0.24689405  0.24483798  0.23819868\n",
      "   0.2464502   0.24912388  0.14547962  0.1513463   0.23953084  0.24506115\n",
      "   0.21184109  0.24926601  0.24726147  0.2489755   0.24656491  0.24950358\n",
      "   0.24998942  0.23693336]]\n",
      "[ True  True  True  True  True  True  True  True  True  True  True  True\n",
      "  True  True  True  True  True  True  True  True  True  True  True  True\n",
      "  True  True  True  True  True  True  True  True  True  True  True  True\n",
      "  True  True  True  True  True  True  True  True  True  True  True  True\n",
      "  True  True  True  True  True  True  True  True  True  True  True  True\n",
      "  True  True  True  True  True  True  True  True  True  True  True  True\n",
      "  True  True  True  True  True  True  True  True  True  True  True  True\n",
      "  True  True  True  True  True  True  True  True  True  True  True  True\n",
      "  True  True  True  True False False False False False False False False\n",
      " False False False False False False False False False False False False\n",
      " False False False False False False False False False False False False\n",
      " False False False False False False False False False False False False\n",
      " False False False False False False False False False False False False\n",
      " False False False False False False False False False False False False\n",
      " False False False False False False False False False False False False\n",
      " False False False False False False False False False False False False\n",
      " False False False False False False False False]\n"
     ]
    },
    {
     "data": {
      "text/plain": [
       "((200, 2), (200,))"
      ]
     },
     "execution_count": 7,
     "metadata": {},
     "output_type": "execute_result"
    }
   ],
   "source": [
    "X_train = np.array([M_chirp,eta])\n",
    "Y_train = identity\n",
    "\n",
    "print(X_train)\n",
    "print(Y_train)\n",
    "\n",
    "X_train=np.reshape(X_train,(num_injections,2))\n",
    "\n",
    "X_train.shape, Y_train.shape"
   ]
  },
  {
   "cell_type": "code",
   "execution_count": 8,
   "metadata": {},
   "outputs": [
    {
     "data": {
      "text/plain": [
       "KNeighborsClassifier(algorithm='auto', leaf_size=30, metric='minkowski',\n",
       "           metric_params=None, n_jobs=None, n_neighbors=5, p=2,\n",
       "           weights='uniform')"
      ]
     },
     "execution_count": 8,
     "metadata": {},
     "output_type": "execute_result"
    }
   ],
   "source": [
    "KNC.fit(X_train, Y_train)"
   ]
  },
  {
   "cell_type": "code",
   "execution_count": 13,
   "metadata": {},
   "outputs": [
    {
     "name": "stdout",
     "output_type": "stream",
     "text": [
      "200\n",
      "[array([ True,  True,  True,  True,  True,  True,  True,  True,  True,\n",
      "        True,  True,  True,  True,  True,  True,  True,  True,  True,\n",
      "        True,  True,  True,  True,  True,  True,  True,  True,  True,\n",
      "        True,  True,  True,  True,  True,  True,  True,  True,  True,\n",
      "        True,  True,  True,  True,  True,  True,  True,  True,  True,\n",
      "        True,  True,  True,  True,  True,  True,  True,  True,  True,\n",
      "        True,  True,  True,  True,  True,  True,  True,  True,  True,\n",
      "        True,  True,  True,  True,  True,  True,  True,  True,  True,\n",
      "        True,  True,  True,  True,  True,  True,  True,  True,  True,\n",
      "        True,  True,  True,  True,  True,  True,  True,  True,  True,\n",
      "        True,  True,  True,  True,  True,  True,  True,  True,  True,\n",
      "        True,  True,  True,  True,  True,  True,  True,  True,  True,\n",
      "        True,  True,  True,  True,  True,  True,  True,  True,  True,\n",
      "        True,  True,  True,  True,  True,  True,  True,  True,  True,\n",
      "        True,  True,  True,  True,  True,  True,  True,  True,  True,\n",
      "        True,  True,  True,  True,  True,  True,  True,  True,  True,\n",
      "        True,  True,  True,  True,  True,  True,  True,  True,  True,\n",
      "        True,  True,  True,  True,  True,  True,  True,  True,  True,\n",
      "        True,  True,  True,  True,  True,  True,  True,  True,  True,\n",
      "        True,  True,  True,  True,  True,  True,  True,  True,  True,\n",
      "        True,  True,  True,  True,  True,  True,  True,  True,  True,\n",
      "        True,  True,  True,  True,  True,  True,  True,  True,  True,\n",
      "        True,  True])]\n",
      "[]\n",
      "1.0\n"
     ]
    },
    {
     "name": "stderr",
     "output_type": "stream",
     "text": [
      "/home/brandon/.conda/envs/pycbc/lib/python3.6/site-packages/ipykernel_launcher.py:15: FutureWarning: Using a non-tuple sequence for multidimensional indexing is deprecated; use `arr[tuple(seq)]` instead of `arr[seq]`. In the future this will be interpreted as an array index, `arr[np.array(seq)]`, which will result either in an error or a different result.\n",
      "  from ipykernel import kernelapp as app\n"
     ]
    }
   ],
   "source": [
    "X_check=np.array([M_chirp_check,eta_check])\n",
    "print(len(X_check[0]))\n",
    "Y_check= identity_check\n",
    "X_check=np.reshape(X_check,(num_injections_check,2))\n",
    "    \n",
    "real_sol=KNC.predict(X_check)\n",
    "#print(Y_check,real_sol)\n",
    "\n",
    "Comparison=[Y_check==real_sol]\n",
    "ind=[~Y_check==real_sol]\n",
    "num_right=np.sum(Comparison)\n",
    "    \n",
    "print(Comparison)\n",
    "#ind=np.where(X_check[Comparison])\n",
    "print(X_check[ind])\n",
    "frac_right=num_right/num_injections_check\n",
    "    \n",
    "#tot_num_right=tot_num_right+num_right\n",
    "print(frac_right)\n",
    "\n",
    "\n",
    "#print(tot_num_right/(checks*check_points))"
   ]
  },
  {
   "cell_type": "code",
   "execution_count": 16,
   "metadata": {},
   "outputs": [],
   "source": [
    "data={'M_chirp' : M_chirp,'eta' : eta, 'identity' : identity}\n",
    "datapanda=pd.DataFrame(data=data)\n",
    "\n",
    "data_check={'M_chirp' : M_chirp_check,'eta' : eta_check, 'identity' : identity_check}\n",
    "datapanda_check=pd.DataFrame(data=data_check)"
   ]
  },
  {
   "cell_type": "code",
   "execution_count": 12,
   "metadata": {},
   "outputs": [
    {
     "data": {
      "image/png": "[encoded data removed]",
      "text/plain": [
       "<Figure size 422.125x360 with 6 Axes>"
      ]
     },
     "metadata": {
      "needs_background": "light"
     },
     "output_type": "display_data"
    }
   ],
   "source": [
    "pairplots = sns.pairplot(datapanda,vars=['M_chirp','eta'],hue='identity',diag_kind='auto')"
   ]
  },
  {
   "cell_type": "code",
   "execution_count": 18,
   "metadata": {},
   "outputs": [
    {
     "data": {
      "image/png": "[encoded data removed]",
      "text/plain": [
       "<Figure size 422.125x360 with 6 Axes>"
      ]
     },
     "metadata": {
      "needs_background": "light"
     },
     "output_type": "display_data"
    }
   ],
   "source": [
    "pairplots_check = sns.pairplot(datapanda_check,vars=['M_chirp','eta'],hue='identity',diag_kind='auto')"
   ]
  },
  {
   "cell_type": "code",
   "execution_count": null,
   "metadata": {},
   "outputs": [],
   "source": []
  }
 ],
 "metadata": {
  "kernelspec": {
   "display_name": "Python 3",
   "language": "python",
   "name": "python3"
  },
  "language_info": {
   "codemirror_mode": {
    "name": "ipython",
    "version": 3
   },
   "file_extension": ".py",
   "mimetype": "text/x-python",
   "name": "python",
   "nbconvert_exporter": "python",
   "pygments_lexer": "ipython3",
   "version": "3.6.7"
  }
 },
 "nbformat": 4,
 "nbformat_minor": 2
}
