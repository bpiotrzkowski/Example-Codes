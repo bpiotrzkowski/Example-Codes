{
 "cells": [
  {
   "cell_type": "code",
   "execution_count": 76,
   "metadata": {},
   "outputs": [],
   "source": [
    "import pickle\n",
    "import numpy as np\n",
    "import pandas as pd\n",
    "from matplotlib import pyplot as plt\n",
    "import seaborn as sns\n",
    "\n",
    "from sklearn.neighbors import KNeighborsClassifier\n",
    "from sklearn.model_selection import train_test_split\n",
    "import pickle\n",
    "\n",
    "sns.set(font_scale=1.1)\n",
    "#from injections import "
   ]
  },
  {
   "cell_type": "code",
   "execution_count": 26,
   "metadata": {},
   "outputs": [],
   "source": [
    "def shuffle_in_unison_scary(a, b):\n",
    "    rng_state = np.random.get_state()\n",
    "    np.random.shuffle(a)\n",
    "    np.random.set_state(rng_state)\n",
    "    np.random.shuffle(b)\n",
    "    return a,b"
   ]
  },
  {
   "cell_type": "code",
   "execution_count": 27,
   "metadata": {},
   "outputs": [],
   "source": [
    "BBH_path='data_BBH'\n",
    "BNS_path='data_BNS'\n",
    "BBH_check_path='data_BBH_check'\n",
    "BNS_check_path='data_BNS_check'"
   ]
  },
  {
   "cell_type": "code",
   "execution_count": 28,
   "metadata": {},
   "outputs": [],
   "source": [
    "injections_BNS = pickle.load(open(BNS_path+'/injections-BNS.p', \"rb\"))\n",
    "injections_BBH = pickle.load(open(BBH_path+'/injections-BBH.p', \"rb\"))\n",
    "injections_BNS_check = pickle.load(open(BNS_check_path+'/injections-BNS.p', \"rb\"))\n",
    "injections_BBH_check = pickle.load(open(BBH_check_path+'/injections-BBH.p', \"rb\"))"
   ]
  },
  {
   "cell_type": "code",
   "execution_count": 55,
   "metadata": {},
   "outputs": [
    {
     "name": "stdout",
     "output_type": "stream",
     "text": [
      "360\n",
      "11\n"
     ]
    }
   ],
   "source": [
    "mass_1=np.array([])\n",
    "mass_2=np.array([])\n",
    "mass_1_check=np.array([])\n",
    "mass_2_check=np.array([])\n",
    "identity=np.array([],dtype=bool)\n",
    "identity_check=np.array([],dtype=bool)\n",
    "#num_injections=len(injections_BNS)+len(injections_BBH)\n",
    "#num_injections_check=len(injections_check_BNS)+len(injections_check_BBH)\n",
    "\n",
    "\n",
    "\n",
    "for i in range(len(injections_BBH)):\n",
    "    mass_1=np.append(mass_1,injections_BBH[i][0][\"mass_1\"])\n",
    "    mass_2=np.append(mass_2,injections_BBH[i][0][\"mass_2\"])\n",
    "    identity=np.append(identity,False)\n",
    "    \n",
    "for i in range(len(injections_BNS)):\n",
    "    mass_1=np.append(mass_1,injections_BNS[i][0][\"mass_1\"])\n",
    "    mass_2=np.append(mass_2,injections_BNS[i][0][\"mass_2\"])\n",
    "    identity=np.append(identity,True)\n",
    "    \n",
    "#for i in range(len(injections_BNS_check)):\n",
    "    #mass_1_check=np.append(mass_1_check,injections_BNS_check[i][0][\"mass_1\"])\n",
    "    #mass_2_check=np.append(mass_2_check,injections_BNS_check[i][0][\"mass_2\"])\n",
    "    #identity_check=np.append(identity_check,True)\n",
    "\n",
    "#for i in range(len(injections_BBH_check)):\n",
    "    #mass_1_check=np.append(mass_1_check,injections_BBH_check[i][0][\"mass_1\"])\n",
    "    #mass_2_check=np.append(mass_2_check,injections_BBH_check[i][0][\"mass_2\"])\n",
    "    #identity_check=np.append(identity_check,False)\n",
    "  \n",
    "\n",
    "\n",
    "mass_1_check=np.array([35.6,23.3,13.7,31.0,10.9,50.6,35.2,30.7,1.46,35.5,39.6])\n",
    "mass_2_check=np.array([30.6,13.6,7.7,20.1,7.6,34.3,23.8,25.3,1.27,26.8,29.4])\n",
    "identity_check=np.array([False,False,False,False,False,False,False,False,True,False,False])\n",
    "\n",
    "\n",
    "num_injections=len(injections_BNS)+len(injections_BBH)\n",
    "num_injections_check=len(mass_1_check)\n",
    "\n",
    "print(num_injections)\n",
    "print(num_injections_check)\n",
    "\n",
    "#print(mass_1)"
   ]
  },
  {
   "cell_type": "code",
   "execution_count": 56,
   "metadata": {},
   "outputs": [
    {
     "name": "stdout",
     "output_type": "stream",
     "text": [
      "[28.71648349 15.38620889  8.86837442 21.62969875  7.89786505 36.1314378\n",
      " 25.10159799 24.23916933  1.18484466 26.7991043  29.63846392]\n",
      "[0.24857385 0.2327245  0.23034763 0.23862501 0.24204529 0.2407849\n",
      " 0.24066648 0.24767538 0.24878906 0.24512469 0.24453686]\n"
     ]
    }
   ],
   "source": [
    "M_chirp=(mass_1*mass_2)**(3/5)/(mass_1+mass_2)**(1/5)\n",
    "eta=(mass_1*mass_2)/(mass_1+mass_2)**2.0\n",
    "\n",
    "M_chirp_check=(mass_1_check*mass_2_check)**(3/5)/(mass_1_check+mass_2_check)**(1/5)\n",
    "eta_check=(mass_1_check*mass_2_check)/(mass_1_check+mass_2_check)**2.0\n",
    "\n",
    "\n",
    "print(M_chirp_check)\n",
    "print(eta_check)"
   ]
  },
  {
   "cell_type": "code",
   "execution_count": 64,
   "metadata": {},
   "outputs": [],
   "source": [
    "# For now we have 2features, so let's use 2N+1 neighbors\n",
    "num_neighbors = 5\n",
    "KNC = KNeighborsClassifier(num_neighbors)"
   ]
  },
  {
   "cell_type": "code",
   "execution_count": 72,
   "metadata": {},
   "outputs": [
    {
     "name": "stdout",
     "output_type": "stream",
     "text": [
      "4.977805938656289 0.24883167912601017\n",
      "[4.97780594 0.24883168]\n"
     ]
    }
   ],
   "source": [
    "X_train = np.column_stack([M_chirp,eta])\n",
    "Y_train = identity\n",
    "\n",
    "\n",
    "\n",
    "X_train=np.reshape(X_train,(num_injections,2))\n",
    "\n",
    "#X_train, Y_train=shuffle_in_unison_scary(X_train, Y_train)\n",
    "\n",
    "X_train.shape, Y_train.shape\n",
    "\n",
    "#print(M_chirp[1],eta[1])\n",
    "#print(X_train[1])\n",
    "\n",
    "#print(X_train)\n",
    "#print(Y_train)"
   ]
  },
  {
   "cell_type": "code",
   "execution_count": 66,
   "metadata": {},
   "outputs": [
    {
     "data": {
      "text/plain": [
       "KNeighborsClassifier(algorithm='auto', leaf_size=30, metric='minkowski',\n",
       "           metric_params=None, n_jobs=None, n_neighbors=5, p=2,\n",
       "           weights='uniform')"
      ]
     },
     "execution_count": 66,
     "metadata": {},
     "output_type": "execute_result"
    }
   ],
   "source": [
    "KNC.fit(X_train, Y_train)"
   ]
  },
  {
   "cell_type": "code",
   "execution_count": 67,
   "metadata": {},
   "outputs": [
    {
     "name": "stdout",
     "output_type": "stream",
     "text": [
      "2\n",
      "[False False False False False False False False  True False False]\n",
      "[array([ True,  True,  True,  True,  True,  True,  True,  True,  True,\n",
      "        True,  True])]\n",
      "[]\n",
      "1.0\n"
     ]
    },
    {
     "name": "stderr",
     "output_type": "stream",
     "text": [
      "/miniconda3/envs/genv/lib/python3.6/site-packages/ipykernel_launcher.py:16: FutureWarning: Using a non-tuple sequence for multidimensional indexing is deprecated; use `arr[tuple(seq)]` instead of `arr[seq]`. In the future this will be interpreted as an array index, `arr[np.array(seq)]`, which will result either in an error or a different result.\n",
      "  app.launch_new_instance()\n"
     ]
    }
   ],
   "source": [
    "X_check=np.column_stack([M_chirp_check,eta_check])\n",
    "print(len(X_check[0]))\n",
    "Y_check= identity_check\n",
    "X_check=np.reshape(X_check,(num_injections_check,2))\n",
    "    \n",
    "real_sol=KNC.predict(X_check)\n",
    "#print(Y_check,real_sol)\n",
    "\n",
    "Comparison=[Y_check==real_sol]\n",
    "ind=[~Y_check==real_sol]\n",
    "num_right=np.sum(Comparison)\n",
    "\n",
    "print(real_sol)\n",
    "print(Comparison)\n",
    "#ind=np.where(X_check[Comparison])\n",
    "print(X_check[ind])\n",
    "frac_right=num_right/num_injections_check\n",
    "    \n",
    "#tot_num_right=tot_num_right+num_right\n",
    "print(frac_right)\n",
    "\n",
    "\n",
    "#print(tot_num_right/(checks*check_points))"
   ]
  },
  {
   "cell_type": "code",
   "execution_count": 73,
   "metadata": {},
   "outputs": [],
   "source": [
    "data={r'$\\mathcal{M}$' : M_chirp, r'$\\eta$' : eta, 'identity' : identity}\n",
    "datapanda=pd.DataFrame(data=data)\n",
    "\n",
    "data_check={r'$\\mathcal{M}$' : M_chirp_check, r'$\\eta$' : eta_check, 'identity' : identity_check}\n",
    "datapanda_check=pd.DataFrame(data=data_check)"
   ]
  },
  {
   "cell_type": "code",
   "execution_count": 77,
   "metadata": {},
   "outputs": [
    {
     "data": {
      "image/png": "[encoded data removed]",
      "text/plain": [
       "<Figure size 433.185x360 with 6 Axes>"
      ]
     },
     "metadata": {},
     "output_type": "display_data"
    }
   ],
   "source": [
    "pairplots = sns.pairplot(datapanda,vars=[r'$\\mathcal{M}$',r'$\\eta$'],hue='identity',diag_kind='auto')"
   ]
  },
  {
   "cell_type": "code",
   "execution_count": 78,
   "metadata": {},
   "outputs": [
    {
     "data": {
      "image/png": "[encoded data removed]",
      "text/plain": [
       "<Figure size 433.185x360 with 6 Axes>"
      ]
     },
     "metadata": {},
     "output_type": "display_data"
    }
   ],
   "source": [
    "pairplots_check = sns.pairplot(datapanda_check,vars=[r'$\\mathcal{M}$',r'$\\eta$'],hue='identity',diag_kind='auto')"
   ]
  },
  {
   "cell_type": "code",
   "execution_count": null,
   "metadata": {},
   "outputs": [],
   "source": []
  }
 ],
 "metadata": {
  "kernelspec": {
   "display_name": "Python 3",
   "language": "python",
   "name": "python3"
  },
  "language_info": {
   "codemirror_mode": {
    "name": "ipython",
    "version": 3
   },
   "file_extension": ".py",
   "mimetype": "text/x-python",
   "name": "python",
   "nbconvert_exporter": "python",
   "pygments_lexer": "ipython3",
   "version": "3.6.6"
  }
 },
 "nbformat": 4,
 "nbformat_minor": 2
}
