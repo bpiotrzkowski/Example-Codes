{
 "cells": [
  {
   "cell_type": "code",
   "execution_count": 1,
   "metadata": {},
   "outputs": [],
   "source": [
    "import pickle\n",
    "import numpy as np\n",
    "import pandas as pd\n",
    "from matplotlib import pyplot as plt\n",
    "import seaborn as sns\n",
    "\n",
    "from sklearn.neighbors import KNeighborsClassifier\n",
    "from sklearn.model_selection import train_test_split\n",
    "import pickle\n",
    "#from injections import "
   ]
  },
  {
   "cell_type": "code",
   "execution_count": null,
   "metadata": {},
   "outputs": [],
   "source": []
  },
  {
   "cell_type": "code",
   "execution_count": 2,
   "metadata": {},
   "outputs": [],
   "source": [
    "BBH_path='data_BBH'\n",
    "BNS_path='data_BNS'\n",
    "BBH_check_path='data_BBH_check'\n",
    "BNS_check_path='data_BNS_check'"
   ]
  },
  {
   "cell_type": "code",
   "execution_count": 3,
   "metadata": {},
   "outputs": [
    {
     "name": "stderr",
     "output_type": "stream",
     "text": [
      "PyCBC.libutils: pkg-config call failed, setting NO_PKGCONFIG=1\n"
     ]
    }
   ],
   "source": [
    "injections_BNS = pickle.load(open(BNS_path+'/injections-BNS.p', \"rb\"))\n",
    "injections_BBH = pickle.load(open(BBH_path+'/injections-BBH.p', \"rb\"))\n",
    "injections_check_BNS = pickle.load(open(BNS_check_path+'/injections-BNS.p', \"rb\"))\n",
    "injections_check_BBH = pickle.load(open(BBH_check_path+'/injections-BBH.p', \"rb\"))"
   ]
  },
  {
   "cell_type": "code",
   "execution_count": 4,
   "metadata": {},
   "outputs": [],
   "source": [
    "mass_1=np.array([])\n",
    "mass_2=np.array([])\n",
    "mass_1_check=np.array([])\n",
    "mass_2_check=np.array([])\n",
    "identity=np.array([],dtype=bool)\n",
    "identity_check=np.array([],dtype=bool)\n",
    "#num_injections=len(injections_BNS)+len(injections_BBH)\n",
    "#num_injections_check=len(injections_check_BNS)+len(injections_check_BBH)\n",
    "\n",
    "for i in range(len(injections_BNS)):\n",
    "    mass_1=np.append(mass_1,injections_BNS[i][0][\"mass_1\"])\n",
    "    mass_2=np.append(mass_2,injections_BNS[i][0][\"mass_2\"])\n",
    "    identity=np.append(identity,True)\n",
    "\n",
    "for i in range(len(injections_BBH)):\n",
    "    mass_1=np.append(mass_1,injections_BBH[i][0][\"mass_1\"])\n",
    "    mass_2=np.append(mass_2,injections_BBH[i][0][\"mass_2\"])\n",
    "    identity=np.append(identity,False)\n",
    "    \n",
    "for i in range(len(injections_check_BNS)):\n",
    "    mass_1_check=np.append(mass_1_check,injections_check_BNS[i][0][\"mass_1\"])\n",
    "    mass_2_check=np.append(mass_2_check,injections_check_BNS[i][0][\"mass_2\"])\n",
    "    identity_check=np.append(identity_check,True)\n",
    "\n",
    "for i in range(len(injections_check_BBH)):\n",
    "    mass_1_check=np.append(mass_1_check,injections_check_BBH[i][0][\"mass_1\"])\n",
    "    mass_2_check=np.append(mass_2_check,injections_check_BBH[i][0][\"mass_2\"])\n",
    "    identity_check=np.append(identity_check,False)\n",
    "    \n",
    "\n",
    "num_injections=len(injections_BNS)+len(injections_BBH)\n",
    "num_injections_check=len(injections_check_BNS)+len(injections_check_BBH)"
   ]
  },
  {
   "cell_type": "code",
   "execution_count": 5,
   "metadata": {},
   "outputs": [],
   "source": [
    "M_chirp=(mass_1*mass_2)**(3/5)/(mass_1+mass_2)**(1/5)\n",
    "eta=(mass_1*mass_2)/(mass_1+mass_2)**2.0\n",
    "\n",
    "M_chirp_check=(mass_1_check*mass_2_check)**(3/5)/(mass_1_check+mass_2_check)**(1/5)\n",
    "eta_check=(mass_1_check*mass_2_check)/(mass_1_check+mass_2_check)**2.0"
   ]
  },
  {
   "cell_type": "code",
   "execution_count": 6,
   "metadata": {},
   "outputs": [],
   "source": [
    "# For now we have 2features, so let's use 2N+1 neighbors\n",
    "num_neighbors = 5\n",
    "KNC = KNeighborsClassifier(num_neighbors)"
   ]
  },
  {
   "cell_type": "code",
   "execution_count": 7,
   "metadata": {},
   "outputs": [
    {
     "name": "stdout",
     "output_type": "stream",
     "text": [
      "[[ 1.29035298  1.12588518  1.11666327  1.27156564  1.1262607   1.26884481\n",
      "   1.15394332  1.18403758  1.05770484  1.23793927  1.22074617  1.21021168\n",
      "   1.19968162  1.26572253  1.21497215  1.12908083  1.08545332  1.05230209\n",
      "   1.16760273  1.08240616  1.09078654  1.16647     1.20295621  1.23487958\n",
      "   1.24692055  1.14310903  1.26816972  1.15080213  1.19177948  1.26498921\n",
      "   1.18071194  1.22735387  1.1644246   1.06655639  1.03385937  1.13583771\n",
      "   1.18755845  1.27381333  1.20252763  1.06332744  1.01119532  0.97109689\n",
      "   1.2862053   1.13422134  1.20243933  1.12337638  1.04877686  1.17639147\n",
      "   1.17560773  1.19002476  1.2678684   0.98469609  1.1505356   1.0019868\n",
      "   1.09143389  1.13627315  1.21458163  1.0740684   1.13894153  1.02844694\n",
      "   1.20949858  1.09807591  1.14237217  1.23588461  1.10806529  1.21816859\n",
      "   1.02016494  1.19120167  1.05978336  1.04342403  1.11072443  1.27296864\n",
      "   1.31833064  1.16166999  1.11609649  1.34741825  1.13916302  1.03540916\n",
      "   1.12989314  1.09869948  1.13731768  1.29404043  1.13802503  1.21615578\n",
      "   1.19693575  1.30351842  1.13641912  1.23428307  1.04302125  1.0798247\n",
      "   1.3634522   1.17570756  1.17776754  0.96132339  1.17325594  1.1497088\n",
      "   1.25505697  1.22393752  1.10034265  1.15116825  1.0312946   1.14340227\n",
      "   1.11452871  1.04053219  1.20850378  1.30169275  1.0789009   1.01958698\n",
      "   1.3112767   1.15118139  1.3217757   1.12359158  1.10369669  1.1572243\n",
      "   1.13216179  1.08873153  1.09734575  1.26246324  1.26695614  1.06308576\n",
      "   1.05356219  1.3629278   1.16572986  1.19446321  1.28358695  1.31111741\n",
      "   1.1351308   1.18174306  1.38965541  1.24570077  1.22909851  1.1435502\n",
      "   1.2829864   1.15369828  1.20792886  1.19911604  1.26614949  1.30626822\n",
      "   1.13744226  1.22672007  1.20573946  1.36522347  1.06610835  1.46994108\n",
      "   1.09621916  1.20686201  1.19852053  1.28564338  1.20307843  1.27808837\n",
      "   1.21516045  1.30253073  1.09003532  1.20567815  1.30355225  1.28877017\n",
      "   1.38566813  1.14263281  1.14432355  1.09437444  1.07954277  1.05089893\n",
      "   1.25331663  1.176652    1.06590735  1.28801332  1.26186328  1.08448994\n",
      "   1.2150113   1.10559336  1.11164075  1.10778879  1.12799429  1.17164388\n",
      "   1.12643244  1.12407092  1.15831151  1.25803869  1.16083079  1.07599282\n",
      "   5.0587341   4.97780594  5.74877728 16.20840423  7.36956369 14.52943499\n",
      "  26.64035811 37.07214249 15.18046466  5.94860833  7.30483843  4.73981003\n",
      "  10.28854548  8.64071673  9.12269097  5.905682    5.45998616 17.69486239\n",
      "   4.40276029  9.35257182  6.95630178  7.34025075  4.61067877 14.54647858\n",
      "   5.19342169 24.24360734 14.54198953  5.24681811  9.56651915  5.04446003\n",
      "  25.92686099  4.35642016 22.29572336 16.490643    5.92630104  5.56194305\n",
      "   4.44728065  8.81210456  4.37892332 15.32865714 12.64848496  8.61164686\n",
      "   7.8011766   4.55230903  4.74923724 31.93097715  8.28021212  4.51139006\n",
      "  11.56778592 19.98950488  6.80238002 16.44924929 16.77588798  7.97330372\n",
      "   5.88572038  8.56621738 18.79863198  8.96993611 15.98210243 11.11247829\n",
      "   8.12219265 14.75813562 10.99643857 19.24642953  6.39144741  4.37401969\n",
      "  24.53938248  6.54753989 16.49248014 10.31582025 14.71014594  7.22110231\n",
      "  30.8301924  35.26141402  5.22021158  5.92489652  8.81951169  7.60567492\n",
      "   8.72819815  5.00698518  8.33833015 16.58754391 12.8162168  14.85808807\n",
      "  19.10879272  4.43309255  7.86866107 31.20685583  7.12995356  8.0145192\n",
      "  12.04255338 18.79038158  4.59180817  9.64568212 10.2452268   8.77926975\n",
      "  10.09590409  5.57123186  7.53741591  9.80921185  6.52002715 28.1852059\n",
      "  20.60134615  4.71986351  5.65073992 13.79280877  5.87993758 20.69024085\n",
      "   5.60672588  4.94830725 11.96006786 29.62420576  5.04008707 18.80838157\n",
      "   4.55494602 27.74102947  8.22138257  6.70852299 11.83770144  4.77559865\n",
      "  11.37728662  6.64614335  4.92934234  5.00548076  6.47761205  6.5833993\n",
      "   6.00483466 32.79363362  7.00935617 11.13489484  7.09391155  7.04200183\n",
      "  13.53417825 37.68524197  4.92765188  6.32464083 28.00316697 16.38639813\n",
      "  10.34972236  9.64696819 12.9068457   8.6011453   8.38803395  7.83170002\n",
      "   6.73499102 20.44951013 18.64811386 14.65151516  5.70995346 30.56814535\n",
      "  13.09661263  7.57888896  4.80904313  8.89075715 31.52551677  5.0989435\n",
      "   8.1234096  18.81470617  6.93335554  4.49878763  5.28947258 12.27561765\n",
      "  40.12669257 13.25779346  9.36966224  9.82084532 15.0623357  35.84730693\n",
      "   5.53681628 29.25286718 16.78338076 16.19635886 18.69717896  6.7307697\n",
      "   7.42787699  7.95639903 10.92605194  6.78273571 18.92285016 23.36422368]\n",
      " [ 0.24980587  0.2484806   0.24998255  0.24774179  0.2497245   0.24988416\n",
      "   0.2495651   0.24446446  0.24793244  0.24753015  0.24954097  0.24986538\n",
      "   0.24991543  0.24841955  0.24950176  0.24969867  0.24993051  0.24581442\n",
      "   0.24842993  0.24751327  0.24913716  0.24911478  0.24879655  0.24920751\n",
      "   0.24817441  0.23967279  0.24865542  0.24830781  0.24995341  0.24997939\n",
      "   0.24946038  0.24700605  0.24723801  0.24966039  0.24386796  0.24214366\n",
      "   0.24876124  0.24994899  0.24892644  0.2488279   0.24935589  0.24993084\n",
      "   0.24997533  0.24900012  0.24934504  0.24434327  0.24951832  0.24934523\n",
      "   0.24627224  0.24938589  0.24780042  0.24982701  0.24822344  0.2495288\n",
      "   0.24880617  0.24930492  0.24992192  0.24991397  0.24979243  0.24855238\n",
      "   0.24920354  0.24870447  0.2496037   0.24989685  0.24910456  0.2452554\n",
      "   0.24761592  0.24785756  0.24868078  0.24383937  0.24993783  0.24862837\n",
      "   0.24978294  0.24994365  0.24875934  0.24971341  0.23545329  0.24563779\n",
      "   0.24816843  0.2499353   0.24986741  0.24995987  0.24999372  0.24944971\n",
      "   0.24997069  0.24958306  0.24691702  0.2492889   0.24947138  0.24954981\n",
      "   0.24969524  0.24969713  0.24923034  0.24952222  0.24973737  0.24949439\n",
      "   0.24962765  0.24681798  0.2496992   0.24904195  0.24889341  0.24878666\n",
      "   0.24994806  0.24975496  0.24885478  0.24882159  0.24978983  0.24936694\n",
      "   0.24994275  0.24994341  0.24996539  0.24971834  0.2499627   0.24723048\n",
      "   0.2488403   0.24992682  0.24881017  0.24183066  0.24792656  0.24948482\n",
      "   0.24997028  0.24949801  0.24986821  0.24910174  0.24910143  0.24994312\n",
      "   0.24983761  0.24928134  0.249969    0.24561725  0.24959341  0.24966568\n",
      "   0.24952165  0.2488922   0.24955485  0.2499928   0.24800807  0.24535041\n",
      "   0.24977681  0.24958526  0.24909062  0.24991274  0.24919247  0.24993627\n",
      "   0.24986142  0.24514215  0.24993228  0.24909643  0.24882217  0.24978967\n",
      "   0.24998406  0.24888163  0.24994325  0.24866578  0.24814877  0.24966863\n",
      "   0.24881063  0.24993878  0.24988452  0.24948945  0.24970879  0.24998037\n",
      "   0.24857804  0.24999471  0.24885372  0.24989841  0.24993574  0.24972779\n",
      "   0.24987602  0.24838453  0.24982735  0.24854719  0.24738927  0.24970463\n",
      "   0.24954     0.24985101  0.24998934  0.24983416  0.24895945  0.24144901\n",
      "   0.24560079  0.24883168  0.24962613  0.2497203   0.23728011  0.24711022\n",
      "   0.22805625  0.24766071  0.24485734  0.24909147  0.23615185  0.24969685\n",
      "   0.24939461  0.17425948  0.14094456  0.23349446  0.24287525  0.21848518\n",
      "   0.24999306  0.23661817  0.2432698   0.24258799  0.24992093  0.23301593\n",
      "   0.24999089  0.23807268  0.23850857  0.24327644  0.18071968  0.24707632\n",
      "   0.22203247  0.24999999  0.24647606  0.2456299   0.23514706  0.23701254\n",
      "   0.24994708  0.23001786  0.24999899  0.2498369   0.20193967  0.20918105\n",
      "   0.24425716  0.24999682  0.24972829  0.23314125  0.24586798  0.24999989\n",
      "   0.23392474  0.24808032  0.24921348  0.24989486  0.2496727   0.24746553\n",
      "   0.2405672   0.23262589  0.24891728  0.22212036  0.24961656  0.2496295\n",
      "   0.2433717   0.24262476  0.15467831  0.24292436  0.24997603  0.24999888\n",
      "   0.2473357   0.24859626  0.2496287   0.23413037  0.24583052  0.21121698\n",
      "   0.24986327  0.24339575  0.24710708  0.24629883  0.24649027  0.2456062\n",
      "   0.24379222  0.24996857  0.24473469  0.24971043  0.17956276  0.2459117\n",
      "   0.18504048  0.24999469  0.24972665  0.24172521  0.24854728  0.20158296\n",
      "   0.21044634  0.22527766  0.24984829  0.18632936  0.24995693  0.24982937\n",
      "   0.22322841  0.24560086  0.20067449  0.2497532   0.24525327  0.2175454\n",
      "   0.2480626   0.24861254  0.24866562  0.21119339  0.24556574  0.24947384\n",
      "   0.24626005  0.2483826   0.24059332  0.24882507  0.24600246  0.16192357\n",
      "   0.24957468  0.2379412   0.21724827  0.22704513  0.24777373  0.24998941\n",
      "   0.2330586   0.24733993  0.2496439   0.24759771  0.24202801  0.24078831\n",
      "   0.24999296  0.2484928   0.24983299  0.17854372  0.22162202  0.24193202\n",
      "   0.16379421  0.24878818  0.24954834  0.24823101  0.24402472  0.23116807\n",
      "   0.24430071  0.24878465  0.11982776  0.20834071  0.24999415  0.24835843\n",
      "   0.20670583  0.22762001  0.15642567  0.22190566  0.24985697  0.22957867\n",
      "   0.21617222  0.23245474  0.2481157   0.21011031  0.24219752  0.24534525\n",
      "   0.2455954   0.19683646  0.2415252   0.24982578  0.24870192  0.21533278\n",
      "   0.24999394  0.24917602  0.24964515  0.23555185  0.24619711  0.24371479\n",
      "   0.2494437   0.24434871  0.24993818  0.24525739  0.21242955  0.2498265\n",
      "   0.18677601  0.24931634  0.24993997  0.24085515  0.1950066   0.24231361]]\n",
      "[ True  True  True  True  True  True  True  True  True  True  True  True\n",
      "  True  True  True  True  True  True  True  True  True  True  True  True\n",
      "  True  True  True  True  True  True  True  True  True  True  True  True\n",
      "  True  True  True  True  True  True  True  True  True  True  True  True\n",
      "  True  True  True  True  True  True  True  True  True  True  True  True\n",
      "  True  True  True  True  True  True  True  True  True  True  True  True\n",
      "  True  True  True  True  True  True  True  True  True  True  True  True\n",
      "  True  True  True  True  True  True  True  True  True  True  True  True\n",
      "  True  True  True  True  True  True  True  True  True  True  True  True\n",
      "  True  True  True  True  True  True  True  True  True  True  True  True\n",
      "  True  True  True  True  True  True  True  True  True  True  True  True\n",
      "  True  True  True  True  True  True  True  True  True  True  True  True\n",
      "  True  True  True  True  True  True  True  True  True  True  True  True\n",
      "  True  True  True  True  True  True  True  True  True  True  True  True\n",
      "  True  True  True  True  True  True  True  True  True  True  True  True\n",
      " False False False False False False False False False False False False\n",
      " False False False False False False False False False False False False\n",
      " False False False False False False False False False False False False\n",
      " False False False False False False False False False False False False\n",
      " False False False False False False False False False False False False\n",
      " False False False False False False False False False False False False\n",
      " False False False False False False False False False False False False\n",
      " False False False False False False False False False False False False\n",
      " False False False False False False False False False False False False\n",
      " False False False False False False False False False False False False\n",
      " False False False False False False False False False False False False\n",
      " False False False False False False False False False False False False\n",
      " False False False False False False False False False False False False\n",
      " False False False False False False False False False False False False\n",
      " False False False False False False False False False False False False]\n"
     ]
    },
    {
     "data": {
      "text/plain": [
       "((360, 2), (360,))"
      ]
     },
     "execution_count": 7,
     "metadata": {},
     "output_type": "execute_result"
    }
   ],
   "source": [
    "X_train = np.array([M_chirp,eta])\n",
    "Y_train = identity\n",
    "\n",
    "print(X_train)\n",
    "print(Y_train)\n",
    "\n",
    "X_train=np.reshape(X_train,(num_injections,2))\n",
    "\n",
    "X_train.shape, Y_train.shape"
   ]
  },
  {
   "cell_type": "code",
   "execution_count": 8,
   "metadata": {},
   "outputs": [
    {
     "data": {
      "text/plain": [
       "KNeighborsClassifier(algorithm='auto', leaf_size=30, metric='minkowski',\n",
       "           metric_params=None, n_jobs=None, n_neighbors=5, p=2,\n",
       "           weights='uniform')"
      ]
     },
     "execution_count": 8,
     "metadata": {},
     "output_type": "execute_result"
    }
   ],
   "source": [
    "KNC.fit(X_train, Y_train)"
   ]
  },
  {
   "cell_type": "code",
   "execution_count": 9,
   "metadata": {},
   "outputs": [
    {
     "name": "stdout",
     "output_type": "stream",
     "text": [
      "40\n",
      "[array([ True,  True,  True,  True,  True,  True,  True,  True,  True,\n",
      "        True,  True,  True,  True,  True,  True,  True,  True,  True,\n",
      "        True,  True,  True,  True,  True,  True,  True,  True,  True,\n",
      "        True,  True,  True,  True,  True,  True,  True,  True,  True,\n",
      "        True,  True,  True,  True])]\n",
      "[]\n",
      "1.0\n"
     ]
    },
    {
     "name": "stderr",
     "output_type": "stream",
     "text": [
      "/miniconda3/envs/genv/lib/python3.6/site-packages/ipykernel_launcher.py:15: FutureWarning: Using a non-tuple sequence for multidimensional indexing is deprecated; use `arr[tuple(seq)]` instead of `arr[seq]`. In the future this will be interpreted as an array index, `arr[np.array(seq)]`, which will result either in an error or a different result.\n",
      "  from ipykernel import kernelapp as app\n"
     ]
    }
   ],
   "source": [
    "X_check=np.array([M_chirp_check,eta_check])\n",
    "print(len(X_check[0]))\n",
    "Y_check= identity_check\n",
    "X_check=np.reshape(X_check,(num_injections_check,2))\n",
    "    \n",
    "real_sol=KNC.predict(X_check)\n",
    "#print(Y_check,real_sol)\n",
    "\n",
    "Comparison=[Y_check==real_sol]\n",
    "ind=[~Y_check==real_sol]\n",
    "num_right=np.sum(Comparison)\n",
    "    \n",
    "print(Comparison)\n",
    "#ind=np.where(X_check[Comparison])\n",
    "print(X_check[ind])\n",
    "frac_right=num_right/num_injections_check\n",
    "    \n",
    "#tot_num_right=tot_num_right+num_right\n",
    "print(frac_right)\n",
    "\n",
    "\n",
    "#print(tot_num_right/(checks*check_points))"
   ]
  },
  {
   "cell_type": "code",
   "execution_count": 10,
   "metadata": {},
   "outputs": [],
   "source": [
    "data={'M_chirp' : M_chirp,'eta' : eta, 'identity' : identity}\n",
    "datapanda=pd.DataFrame(data=data)\n",
    "\n",
    "data_check={'M_chirp' : M_chirp_check,'eta' : eta_check, 'identity' : identity_check}\n",
    "datapanda_check=pd.DataFrame(data=data_check)"
   ]
  },
  {
   "cell_type": "code",
   "execution_count": 11,
   "metadata": {},
   "outputs": [
    {
     "data": {
      "image/png": "[encoded data removed]",
      "text/plain": [
       "<Figure size 422.125x360 with 6 Axes>"
      ]
     },
     "metadata": {
      "needs_background": "light"
     },
     "output_type": "display_data"
    }
   ],
   "source": [
    "pairplots = sns.pairplot(datapanda,vars=['M_chirp','eta'],hue='identity',diag_kind='auto')"
   ]
  },
  {
   "cell_type": "code",
   "execution_count": 12,
   "metadata": {},
   "outputs": [
    {
     "data": {
      "image/png": "[encoded data removed]",
      "text/plain": [
       "<Figure size 422.125x360 with 6 Axes>"
      ]
     },
     "metadata": {
      "needs_background": "light"
     },
     "output_type": "display_data"
    }
   ],
   "source": [
    "pairplots_check = sns.pairplot(datapanda_check,vars=['M_chirp','eta'],hue='identity',diag_kind='auto')"
   ]
  },
  {
   "cell_type": "code",
   "execution_count": null,
   "metadata": {},
   "outputs": [],
   "source": []
  }
 ],
 "metadata": {
  "kernelspec": {
   "display_name": "Python 3",
   "language": "python",
   "name": "python3"
  },
  "language_info": {
   "codemirror_mode": {
    "name": "ipython",
    "version": 3
   },
   "file_extension": ".py",
   "mimetype": "text/x-python",
   "name": "python",
   "nbconvert_exporter": "python",
   "pygments_lexer": "ipython3",
   "version": "3.6.6"
  }
 },
 "nbformat": 4,
 "nbformat_minor": 2
}
