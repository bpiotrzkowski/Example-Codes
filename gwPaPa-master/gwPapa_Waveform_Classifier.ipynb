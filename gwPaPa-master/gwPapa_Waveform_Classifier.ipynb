{
 "cells": [
  {
   "cell_type": "code",
   "execution_count": 1,
   "metadata": {},
   "outputs": [
    {
     "name": "stderr",
     "output_type": "stream",
     "text": [
      "PyCBC.libutils: pkg-config call failed, setting NO_PKGCONFIG=1\n"
     ]
    }
   ],
   "source": [
    "import pickle\n",
    "import numpy as np\n",
    "import pandas as pd\n",
    "from matplotlib import pyplot as plt\n",
    "import seaborn as sns\n",
    "import scipy.fftpack\n",
    "import glob,os\n",
    "import gwPaPa_func as gwpapa\n",
    "\n",
    "from sklearn.neighbors import KNeighborsClassifier\n",
    "from sklearn.model_selection import train_test_split\n",
    "#from skimage.util.shape import view_as_windows\n",
    "\n",
    "import tensorflow as tf\n",
    "from tensorflow import keras\n",
    "\n",
    "import pickle\n",
    "from pycbc import frame,types\n",
    "import timeit"
   ]
  },
  {
   "cell_type": "code",
   "execution_count": 2,
   "metadata": {},
   "outputs": [],
   "source": [
    "###timer\n",
    "start = timeit.default_timer()"
   ]
  },
  {
   "cell_type": "code",
   "execution_count": 3,
   "metadata": {},
   "outputs": [],
   "source": [
    "BNS_test_path='data_BNS'\n",
    "BNS_check_path='data_BNS_check'\n",
    "BBH_test_path='data_BBH'\n",
    "BBH_check_path='data_BBH_check'"
   ]
  },
  {
   "cell_type": "code",
   "execution_count": 4,
   "metadata": {},
   "outputs": [],
   "source": [
    "injections_BNS = pickle.load(open(BNS_test_path+'/injections-BNS.p', \"rb\"))\n",
    "injections_BBH = pickle.load(open(BBH_test_path+'/injections-BBH.p', \"rb\"))\n",
    "injections_BNS_check = pickle.load(open(BNS_check_path+'/injections-BNS.p', \"rb\"))\n",
    "injections_BBH_check = pickle.load(open(BBH_check_path+'/injections-BBH.p', \"rb\"))"
   ]
  },
  {
   "cell_type": "code",
   "execution_count": 5,
   "metadata": {},
   "outputs": [
    {
     "data": {
      "text/plain": [
       "[{'sim-id': 'BNS-3',\n",
       "  'mass_1': 1.293481192566282,\n",
       "  'mass_2': 1.272044793533854,\n",
       "  'S1x': 0.0,\n",
       "  'S1y': 0.0,\n",
       "  'S1z': 0.0,\n",
       "  'S2x': 0.0,\n",
       "  'S2y': 0.0,\n",
       "  'S2z': 0.0,\n",
       "  'distance': 1000.0,\n",
       "  'inclination': 0.0,\n",
       "  'right_ascension': 0.3,\n",
       "  'declination': -0.4,\n",
       "  'psi': 0.0,\n",
       "  'phiRef': 0.0,\n",
       "  'lambda1': 0.0,\n",
       "  'lambda2': 0.0,\n",
       "  'f_min': 20.0,\n",
       "  'f_ref': 20.0,\n",
       "  'deltaT': 0.000244140625,\n",
       "  'start_time': 752,\n",
       "  'duration': 252},\n",
       " <pycbc.types.timeseries.TimeSeries at 0x13318f1d0>]"
      ]
     },
     "execution_count": 5,
     "metadata": {},
     "output_type": "execute_result"
    }
   ],
   "source": [
    "injections_BNS[2]"
   ]
  },
  {
   "cell_type": "code",
   "execution_count": 6,
   "metadata": {},
   "outputs": [
    {
     "data": {
      "image/png": "[encoded data removed]",
      "text/plain": [
       "<Figure size 432x288 with 1 Axes>"
      ]
     },
     "metadata": {
      "needs_background": "light"
     },
     "output_type": "display_data"
    }
   ],
   "source": [
    "sample_rate=4096\n",
    "t=np.arange(0,400,1/sample_rate)\n",
    "\n",
    "try:\n",
    "    d0 =injections_BBH[2][1]\n",
    "    t0 = np.arange(0,len(d0)/sample_rate,1/sample_rate)\n",
    "    plt.plot(t0,d0)\n",
    "    plt.show()\n",
    "except:\n",
    "    pass"
   ]
  },
  {
   "cell_type": "code",
   "execution_count": 7,
   "metadata": {},
   "outputs": [
    {
     "name": "stdout",
     "output_type": "stream",
     "text": [
      "180\n",
      "180\n",
      "20\n",
      "20\n",
      "done\n"
     ]
    }
   ],
   "source": [
    "num_BNS_injections=len(injections_BNS)\n",
    "num_BBH_injections=len(injections_BBH)\n",
    "\n",
    "print(num_BNS_injections)\n",
    "print(num_BBH_injections)\n",
    "print(len(injections_BNS_check))\n",
    "print(len(injections_BBH_check))\n",
    "\n",
    "\n",
    "BNS_data=[]\n",
    "BBH_data=[]\n",
    "BNS_check_data=[]\n",
    "BBH_check_data=[]\n",
    "train_labels=[]\n",
    "check_labels=[]\n",
    "t0=50\n",
    "tl=3\n",
    "\n",
    "for i in range(len(injections_BNS)):\n",
    "    d = np.array(injections_BNS[i][1])\n",
    "    t = np.arange(0,len(d)/sample_rate,1/sample_rate)\n",
    "    BNS_data.append(gwpapa.twindow(t,d,t0,tl))\n",
    "    train_labels.append(1)\n",
    "    \n",
    "for i in range(len(injections_BNS_check)):\n",
    "    d = np.array(injections_BNS_check[i][1])\n",
    "    t = np.arange(0,len(d)/sample_rate,1/sample_rate)\n",
    "    BNS_check_data.append(gwpapa.twindow(t,d,t0,tl))\n",
    "    check_labels.append(1)\n",
    " \n",
    "t0=7\n",
    "tl=3\n",
    "\n",
    "for i in range(len(injections_BBH)):\n",
    "    d = np.array(injections_BBH[i][1])\n",
    "    t = np.arange(0,len(d)/sample_rate,1/sample_rate)\n",
    "    BBH_data.append(gwpapa.twindow(t,d,t0,tl))\n",
    "    train_labels.append(0)\n",
    "    \n",
    "for i in range(len(injections_BBH_check)):\n",
    "    d = np.array(injections_BBH_check[i][1])\n",
    "    t = np.arange(0,len(d)/sample_rate,1/sample_rate)\n",
    "    BBH_check_data.append(gwpapa.twindow(t,d,t0,tl))\n",
    "    check_labels.append(0)\n",
    "\n",
    "print('done')"
   ]
  },
  {
   "cell_type": "code",
   "execution_count": 8,
   "metadata": {},
   "outputs": [
    {
     "name": "stdout",
     "output_type": "stream",
     "text": [
      "[array([-2.06862751e-25, -1.81610889e-25, -1.56294786e-25, ...,\n",
      "       -5.44886597e-25, -5.24390312e-25, -5.03501357e-25]), array([-2.21301402e-25, -2.40051405e-25, -2.58587137e-25, ...,\n",
      "        5.95188886e-25,  5.85645136e-25,  5.75572473e-25]), array([ 4.65795781e-25,  4.79461976e-25,  4.92746905e-25, ...,\n",
      "       -5.09511009e-25, -4.96641290e-25, -4.83269260e-25]), array([-3.21160776e-25, -2.97715088e-25, -2.74097034e-25, ...,\n",
      "       -7.80131190e-25, -7.70850812e-25, -7.60946091e-25]), array([-4.27847341e-25, -4.43002761e-25, -4.57734248e-25, ...,\n",
      "        4.85255961e-25,  4.71086175e-25,  4.56518122e-25]), array([8.06312285e-25, 8.11054934e-25, 8.14943145e-25, ...,\n",
      "       1.01522525e-25, 1.26751478e-25, 1.51762013e-25]), array([5.77635338e-25, 5.89042354e-25, 5.99898463e-25, ...,\n",
      "       3.28121191e-25, 3.46643739e-25, 3.64835264e-25]), array([-6.80108159e-25, -6.71840279e-25, -6.63070885e-25, ...,\n",
      "        7.43525935e-26,  9.65078419e-26,  1.18466891e-25]), array([-2.90736496e-25, -3.06198116e-25, -3.21350762e-25, ...,\n",
      "       -1.45247631e-25, -1.27750544e-25, -1.10101845e-25]), array([ 7.81587949e-25,  7.84321160e-25,  7.86226515e-25, ...,\n",
      "       -7.61214477e-25, -7.54077721e-25, -7.46338683e-25]), array([-4.98764751e-25, -4.80799443e-25, -4.62477094e-25, ...,\n",
      "        7.56202735e-25,  7.51076657e-25,  7.45172990e-25]), array([1.41600738e-25, 1.64043099e-25, 1.86263218e-25, ...,\n",
      "       6.33909864e-25, 6.20852918e-25, 6.07152820e-25]), array([-3.26114997e-25, -3.46166752e-25, -3.65965675e-25, ...,\n",
      "       -6.90818288e-25, -6.81668643e-25, -6.71947162e-25]), array([ 4.34992372e-25,  4.55979567e-25,  4.76438740e-25, ...,\n",
      "       -7.10833499e-25, -6.97662294e-25, -6.83938586e-25]), array([-3.02729492e-25, -3.23762042e-25, -3.44577012e-25, ...,\n",
      "        2.90782281e-27,  2.63342654e-26,  4.96608604e-26]), array([-5.63573215e-25, -5.74191706e-25, -5.84273274e-25, ...,\n",
      "        2.39560412e-25,  2.20468901e-25,  2.01201647e-25]), array([ 4.67314947e-25,  4.79496084e-25,  4.91360170e-25, ...,\n",
      "       -6.04344276e-25, -6.09345980e-25, -6.13688745e-25]), array([-5.89965994e-25, -5.88217346e-25, -5.85906802e-25, ...,\n",
      "        1.14218622e-25,  1.31583330e-25,  1.48872639e-25]), array([-7.01103812e-25, -6.97167823e-25, -6.92654722e-25, ...,\n",
      "       -5.08031275e-25, -4.92530472e-25, -4.76627467e-25]), array([ 5.05321255e-25,  5.15896403e-25,  5.26058177e-25, ...,\n",
      "       -4.07343198e-25, -4.21389258e-25, -4.35010944e-25]), array([ 3.64668296e-25,  3.79872278e-25,  3.94818418e-25, ...,\n",
      "       -6.06864726e-25, -6.12170854e-25, -6.16841829e-25]), array([-3.16263092e-25, -3.35195748e-25, -3.53868360e-25, ...,\n",
      "       -3.57776813e-25, -3.76256486e-25, -3.94429502e-25]), array([-6.24659055e-25, -6.36806506e-25, -6.48453769e-25, ...,\n",
      "       -3.29742189e-25, -3.08973017e-25, -2.87994692e-25]), array([ 7.81930420e-25,  7.79757072e-25,  7.76771837e-25, ...,\n",
      "       -7.74329898e-25, -7.69343038e-25, -7.63729114e-25]), array([-4.75832289e-25, -4.94996810e-25, -5.13809280e-25, ...,\n",
      "        7.27575059e-25,  7.37609058e-25,  7.46851182e-25]), array([6.07930771e-26, 4.03389748e-26, 1.97269797e-26, ...,\n",
      "       4.27306019e-25, 4.10873900e-25, 3.93948209e-25]), array([-7.83485592e-25, -7.75411667e-25, -7.66722169e-25, ...,\n",
      "       -5.68703811e-25, -5.86842928e-25, -6.04531996e-25]), array([-6.06320492e-25, -5.95976283e-25, -5.85135038e-25, ...,\n",
      "       -6.91553896e-25, -6.93571884e-25, -6.94991725e-25]), array([-6.81369248e-25, -6.89506738e-25, -6.97070111e-25, ...,\n",
      "       -3.82747725e-25, -3.63274457e-25, -3.43515297e-25]), array([ 3.19099954e-25,  3.41965941e-25,  3.64415043e-25, ...,\n",
      "       -7.18098045e-25, -7.05342039e-25, -6.92019176e-25]), array([-8.03799264e-26, -1.02066392e-25, -1.23711294e-25, ...,\n",
      "       -6.99169078e-25, -7.05090694e-25, -7.10408387e-25]), array([ 4.75688676e-25,  4.56944797e-25,  4.37675486e-25, ...,\n",
      "       -5.94822753e-25, -5.79088262e-25, -5.62917276e-25]), array([-4.96889258e-25, -5.11805034e-25, -5.26329387e-25, ...,\n",
      "       -6.73469738e-25, -6.80059500e-25, -6.86092057e-25]), array([-4.21858392e-25, -4.08708024e-25, -3.95161346e-25, ...,\n",
      "        6.08356246e-25,  6.07116129e-25,  6.05365224e-25]), array([-2.67543864e-25, -2.52335645e-25, -2.36863231e-25, ...,\n",
      "        4.69033718e-25,  4.78846274e-25,  4.88273406e-25]), array([-2.85977099e-25, -3.04169628e-25, -3.22210127e-25, ...,\n",
      "        5.20266490e-25,  5.06891460e-25,  4.92939736e-25]), array([7.28478431e-26, 9.48584360e-26, 1.16713406e-25, ...,\n",
      "       7.35762829e-25, 7.36355145e-25, 7.36202975e-25]), array([-4.28248849e-25, -4.06381947e-25, -3.84239918e-25, ...,\n",
      "       -8.17220380e-25, -8.21816206e-25, -8.25737521e-25]), array([ 2.96914436e-25,  2.76058064e-25,  2.54870513e-25, ...,\n",
      "       -7.38265263e-25, -7.42302916e-25, -7.45728043e-25]), array([-5.71654726e-25, -5.65646191e-25, -5.59099654e-25, ...,\n",
      "        5.65454130e-25,  5.71723058e-25,  5.77515196e-25]), array([-5.24985976e-25, -5.29934143e-25, -5.34418920e-25, ...,\n",
      "       -5.31474156e-25, -5.26423843e-25, -5.20909597e-25]), array([4.28844404e-25, 4.20202826e-25, 4.11161485e-25, ...,\n",
      "       5.15759190e-25, 5.16935167e-25, 5.17622559e-25]), array([-9.73339135e-26, -1.22788731e-25, -1.48233637e-25, ...,\n",
      "        4.33286683e-25,  4.10720604e-25,  3.87663189e-25]), array([ 1.17840569e-25,  1.37751515e-25,  1.57536037e-25, ...,\n",
      "       -4.80673161e-25, -4.65984952e-25, -4.50869787e-25]), array([5.05164557e-25, 5.21656487e-25, 5.37598698e-25, ...,\n",
      "       4.23390088e-25, 4.04310204e-25, 3.84787349e-25]), array([ 6.52884184e-25,  6.56246283e-25,  6.58932682e-25, ...,\n",
      "       -1.68583639e-25, -1.49021952e-25, -1.29404740e-25]), array([5.38094913e-25, 5.44982602e-25, 5.51412423e-25, ...,\n",
      "       9.26288218e-26, 7.51087651e-26, 5.75451226e-26]), array([3.95340906e-25, 3.77075564e-25, 3.58418088e-25, ...,\n",
      "       1.01945363e-25, 8.02166918e-26, 5.83692777e-26]), array([-3.69372976e-25, -3.87746009e-25, -4.05861866e-25, ...,\n",
      "       -6.52364469e-25, -6.61454540e-25, -6.70026445e-25]), array([2.40285949e-25, 2.61132898e-25, 2.81679558e-25, ...,\n",
      "       7.08101876e-25, 7.14133614e-25, 7.19449452e-25]), array([8.04325293e-25, 8.09243543e-25, 8.13304396e-25, ...,\n",
      "       2.36511491e-25, 2.60797225e-25, 2.84732784e-25]), array([-3.49746996e-26, -5.05117393e-26, -6.60293989e-26, ...,\n",
      "        2.75720287e-25,  2.62177770e-25,  2.48378937e-25]), array([-1.51560427e-26,  5.66273953e-27,  2.64346189e-26, ...,\n",
      "       -3.84169821e-25, -3.66447672e-25, -3.48427144e-25]), array([-3.39802349e-25, -3.52265715e-25, -3.64430556e-25, ...,\n",
      "       -4.85531241e-25, -4.92804551e-25, -4.99652655e-25]), array([-1.89045932e-25, -2.07010346e-25, -2.24717683e-25, ...,\n",
      "        4.67130832e-25,  4.79792707e-25,  4.92094864e-25]), array([6.09996286e-25, 6.00821299e-25, 5.91105979e-25, ...,\n",
      "       6.68539687e-25, 6.72210538e-25, 6.75273896e-25]), array([ 3.02293449e-25,  2.80980023e-25,  2.59334855e-25, ...,\n",
      "       -5.14517900e-25, -4.96906566e-25, -4.78902062e-25]), array([ 6.78152501e-26,  4.95763828e-26,  3.13297503e-26, ...,\n",
      "       -3.13510047e-25, -2.97474344e-25, -2.81135517e-25]), array([ 1.81810765e-26,  3.85522062e-26,  5.88955927e-26, ...,\n",
      "       -6.26455694e-25, -6.17947937e-25, -6.08866476e-25]), array([-8.29081229e-27, -2.51752988e-26, -4.20209045e-26, ...,\n",
      "       -4.34174952e-25, -4.45067326e-25, -4.55548217e-25]), array([ 6.75900605e-25,  6.85881075e-25,  6.95153818e-25, ...,\n",
      "       -5.15753855e-26, -7.46051006e-26, -9.76416162e-26]), array([-4.67240507e-25, -4.54077444e-25, -4.40453924e-25, ...,\n",
      "        2.13429993e-25,  1.95146562e-25,  1.76744337e-25]), array([5.14788448e-25, 5.00997512e-25, 4.86753066e-25, ...,\n",
      "       6.54370002e-25, 6.47661846e-25, 6.40365140e-25]), array([-7.84797705e-25, -7.83674474e-25, -7.81919510e-25, ...,\n",
      "        7.88641469e-25,  7.89392590e-25,  7.89322664e-25]), array([-4.33164587e-25, -4.47445222e-25, -4.61280087e-25, ...,\n",
      "        6.20548629e-25,  6.14254875e-25,  6.07452358e-25]), array([-3.08646872e-25, -2.87282361e-25, -2.65763781e-25, ...,\n",
      "        7.62887203e-25,  7.59615693e-25,  7.55532946e-25]), array([-5.63381044e-26, -3.97423525e-26, -2.30944905e-26, ...,\n",
      "        4.12868480e-25,  4.24130767e-25,  4.35032546e-25]), array([ 5.11738623e-25,  4.95555103e-25,  4.78834959e-25, ...,\n",
      "       -5.08507715e-25, -5.24585563e-25, -5.40258577e-25]), array([ 5.98793232e-25,  5.99852059e-25,  6.00413304e-25, ...,\n",
      "       -4.82949306e-25, -4.93563193e-25, -5.03699601e-25]), array([3.77963549e-25, 3.91013426e-25, 4.03760660e-25, ...,\n",
      "       3.68471293e-25, 3.54649250e-25, 3.40553610e-25]), array([4.82308831e-25, 4.68949874e-25, 4.55229444e-25, ...,\n",
      "       2.92564462e-25, 3.10029465e-25, 3.27274334e-25]), array([ 5.82704456e-25,  6.00416843e-25,  6.17465882e-25, ...,\n",
      "       -2.40823959e-25, -2.16174702e-25, -1.91425439e-25]), array([ 1.42065689e-25,  1.15355330e-25,  8.84321524e-26, ...,\n",
      "       -8.50850336e-25, -8.58160488e-25, -8.64753830e-25]), array([2.15135928e-25, 2.35247212e-25, 2.55124642e-25, ...,\n",
      "       3.76401017e-25, 3.94405685e-25, 4.12032592e-25]), array([4.72138685e-25, 4.58223927e-25, 4.43919924e-25, ...,\n",
      "       4.66936270e-25, 4.80774306e-25, 4.94201799e-25]), array([-1.65735094e-25, -1.37895254e-25, -1.10021967e-25, ...,\n",
      "        6.47556131e-25,  6.26940230e-25,  6.05622315e-25]), array([6.75413237e-25, 6.72856799e-25, 6.69621352e-25, ...,\n",
      "       2.75204991e-25, 2.93972253e-25, 3.12396980e-25]), array([5.71351817e-25, 5.68967358e-25, 5.66118655e-25, ...,\n",
      "       1.99310950e-25, 1.83016284e-25, 1.66595494e-25]), array([-5.36413142e-25, -5.48219858e-25, -5.59549691e-25, ...,\n",
      "        3.83468798e-25,  3.66604273e-25,  3.49396560e-25]), array([-2.99633368e-25, -2.82702468e-25, -2.65436934e-25, ...,\n",
      "        8.55289528e-26,  6.63569149e-26,  4.72079004e-26]), array([-5.76088312e-25, -5.86613890e-25, -5.96599077e-25, ...,\n",
      "       -1.05873237e-25, -1.26178995e-25, -1.46353784e-25]), array([8.46417873e-25, 8.49130641e-25, 8.50945339e-25, ...,\n",
      "       8.27478115e-25, 8.34050456e-25, 8.39727839e-25]), array([-1.55944035e-25, -1.36042836e-25, -1.16005986e-25, ...,\n",
      "       -6.43882788e-25, -6.36757106e-25, -6.29034025e-25]), array([-7.46203642e-25, -7.40899898e-25, -7.34998373e-25, ...,\n",
      "        7.02016181e-25,  7.11203886e-25,  7.19653341e-25]), array([4.47142505e-25, 4.64831949e-25, 4.82038226e-25, ...,\n",
      "       7.11265825e-25, 7.04157575e-25, 6.96344434e-25]), array([6.04933466e-25, 5.85884833e-25, 5.66183255e-25, ...,\n",
      "       5.46841950e-25, 5.25853949e-25, 5.04261851e-25]), array([6.59403448e-25, 6.63891298e-25, 6.67730705e-25, ...,\n",
      "       4.13702052e-25, 4.29891856e-25, 4.45645537e-25]), array([-7.47068295e-25, -7.53886696e-25, -7.60104089e-25, ...,\n",
      "        7.85587597e-25,  7.87236712e-25,  7.88060967e-25]), array([ 3.17243737e-25,  3.02514366e-25,  2.87537896e-25, ...,\n",
      "       -5.62558307e-25, -5.67262762e-25, -5.71440474e-25]), array([-1.49658439e-25, -1.67535906e-25, -1.85224152e-25, ...,\n",
      "       -6.16564781e-26, -4.30898134e-26, -2.44442758e-26]), array([-7.05146147e-25, -6.85865436e-25, -6.66024905e-25, ...,\n",
      "        7.97720014e-25,  7.81882556e-25,  7.65197735e-25]), array([6.77794385e-25, 6.70257728e-25, 6.62069992e-25, ...,\n",
      "       4.39674814e-25, 4.22094552e-25, 4.04088546e-25]), array([6.41430204e-25, 6.51156667e-25, 6.60238371e-25, ...,\n",
      "       6.43386605e-25, 6.32931134e-25, 6.21845066e-25]), array([5.02735952e-25, 5.04430371e-25, 5.05649680e-25, ...,\n",
      "       2.12389760e-25, 2.26025006e-25, 2.39425748e-25]), array([6.69222040e-25, 6.61249263e-25, 6.52637578e-25, ...,\n",
      "       5.77307681e-25, 5.64029033e-25, 5.50198083e-25]), array([5.52158542e-25, 5.64442130e-25, 5.76201596e-25, ...,\n",
      "       3.51738087e-25, 3.69711370e-25, 3.87337161e-25]), array([ 7.37788976e-25,  7.27584465e-25,  7.16609003e-25, ...,\n",
      "       -2.96696403e-25, -2.73400319e-25, -2.49944480e-25]), array([-5.07025441e-25, -5.24376467e-25, -5.41352181e-25, ...,\n",
      "        2.27388947e-25,  2.49970359e-25,  2.72215964e-25]), array([3.88908578e-25, 3.73481021e-25, 3.57793546e-25, ...,\n",
      "       2.58075923e-26, 4.50861965e-26, 6.43990205e-26]), array([-5.05753046e-25, -4.91294806e-25, -4.76419951e-25, ...,\n",
      "       -6.94734986e-25, -6.93052439e-25, -6.90758577e-25]), array([-2.09201879e-25, -2.24946061e-25, -2.40475488e-25, ...,\n",
      "       -5.61797543e-25, -5.57917886e-25, -5.53525420e-25]), array([-5.78142767e-25, -5.66825504e-25, -5.55017253e-25, ...,\n",
      "       -6.87652393e-25, -6.88375328e-25, -6.88485038e-25]), array([ 6.17041432e-25,  6.23324345e-25,  6.29100579e-25, ...,\n",
      "       -4.25619067e-25, -4.10345243e-25, -3.94645219e-25]), array([ 7.72896881e-26,  6.01091659e-26,  4.28923133e-26, ...,\n",
      "       -5.81630613e-25, -5.79812344e-25, -5.77460026e-25]), array([ 4.01592436e-26,  1.73573690e-26, -5.54391945e-27, ...,\n",
      "       -5.95315045e-25, -5.80634657e-25, -5.65494548e-25]), array([ 2.85870703e-25,  2.60916916e-25,  2.35615253e-25, ...,\n",
      "       -7.34010609e-26, -9.99516790e-26, -1.26510632e-25]), array([-1.17283732e-25, -9.91238888e-26, -8.08368138e-26, ...,\n",
      "        2.05636158e-25,  1.87930380e-25,  1.70094332e-25]), array([2.77559442e-25, 2.91915411e-25, 3.06018261e-25, ...,\n",
      "       5.63653495e-25, 5.63383936e-25, 5.62616545e-25]), array([8.70695604e-25, 8.68575127e-25, 8.65534915e-25, ...,\n",
      "       6.39009135e-25, 6.20177185e-25, 6.00649459e-25]), array([-6.91816706e-25, -6.90374754e-25, -6.88317989e-25, ...,\n",
      "       -5.60852621e-25, -5.73056480e-25, -5.84740381e-25]), array([-8.42591504e-25, -8.33909412e-25, -8.24549107e-25, ...,\n",
      "       -3.72374613e-25, -3.47189103e-25, -3.21776820e-25]), array([ 8.44908714e-26,  1.04170112e-25,  1.23786324e-25, ...,\n",
      "       -6.67165436e-25, -6.66399307e-25, -6.64994410e-25]), array([-3.49337939e-25, -3.33054215e-25, -3.16399990e-25, ...,\n",
      "       -6.79022425e-26, -8.72413408e-26, -1.06427618e-25]), array([1.74728041e-25, 1.54338185e-25, 1.33741072e-25, ...,\n",
      "       4.24817333e-25, 4.07731997e-25, 3.90211624e-25]), array([-5.62732430e-25, -5.73553157e-25, -5.83861493e-25, ...,\n",
      "        1.87290248e-25,  1.67602447e-25,  1.47763599e-25]), array([-4.93780346e-25, -4.81969044e-25, -4.69623944e-25, ...,\n",
      "        2.91215127e-25,  2.74186529e-25,  2.57012956e-25]), array([ 5.99198117e-25,  6.05419497e-25,  6.11159398e-25, ...,\n",
      "       -6.14464926e-25, -6.08783734e-25, -6.02491156e-25]), array([2.82724255e-25, 2.59367272e-25, 2.35716475e-25, ...,\n",
      "       6.15372445e-25, 6.31705891e-25, 6.47389800e-25]), array([ 6.51969627e-25,  6.66863300e-25,  6.81033960e-25, ...,\n",
      "       -6.51830257e-25, -6.35973386e-25, -6.19623408e-25]), array([-5.95549216e-25, -5.98205737e-25, -6.00298546e-25, ...,\n",
      "        4.20360002e-25,  4.33227169e-25,  4.45738195e-25]), array([-2.72484305e-25, -2.88078286e-25, -3.03392880e-25, ...,\n",
      "       -3.50605236e-25, -3.36029348e-25, -3.21129107e-25]), array([-6.59386620e-25, -6.38635544e-25, -6.17367507e-25, ...,\n",
      "        7.06600268e-25,  6.87021323e-25,  6.66687799e-25]), array([6.41756184e-25, 6.50527406e-25, 6.58681536e-25, ...,\n",
      "       6.94198998e-25, 6.98716708e-25, 7.02570605e-25]), array([7.11521116e-25, 7.17379392e-25, 7.22512787e-25, ...,\n",
      "       1.05390647e-25, 8.29784124e-26, 6.04242020e-26]), array([-8.23268844e-25, -8.27813462e-25, -8.31694490e-25, ...,\n",
      "       -2.03427912e-25, -2.28441896e-25, -2.53344809e-25]), array([-4.50422215e-25, -4.27276410e-25, -4.03835060e-25, ...,\n",
      "        1.53389325e-25,  1.80046375e-25,  2.06427060e-25]), array([-4.15323713e-25, -3.99137672e-25, -3.82578305e-25, ...,\n",
      "       -6.60799412e-25, -6.65288858e-25, -6.69154361e-25]), array([-3.74168458e-25, -3.92732303e-25, -4.10994917e-25, ...,\n",
      "       -7.28430289e-25, -7.29390748e-25, -7.29730184e-25]), array([ 3.29244993e-25,  3.57344975e-25,  3.85020097e-25, ...,\n",
      "       -6.56436422e-25, -6.33529162e-25, -6.10087944e-25]), array([-2.70861315e-25, -2.47924658e-25, -2.24862826e-25, ...,\n",
      "       -2.90772978e-25, -3.13425214e-25, -3.35887017e-25]), array([ 6.75449745e-25,  6.63424024e-25,  6.50699926e-25, ...,\n",
      "       -5.12548108e-25, -4.94176897e-25, -4.75427288e-25]), array([5.98867538e-25, 6.08606113e-25, 6.17793721e-25, ...,\n",
      "       2.79879667e-25, 2.98760089e-25, 3.17370330e-25]), array([8.38258583e-25, 8.36969328e-25, 8.34796935e-25, ...,\n",
      "       4.67753750e-25, 4.89156853e-25, 5.09994655e-25]), array([ 1.61277196e-26, -4.76049940e-27, -2.56768529e-26, ...,\n",
      "        3.14535110e-25,  2.95531391e-25,  2.76230316e-25]), array([-7.32988164e-25, -7.27132713e-25, -7.20684817e-25, ...,\n",
      "        6.68763976e-25,  6.79426470e-25,  6.89388503e-25]), array([-1.75089426e-25, -1.53114337e-25, -1.31060387e-25, ...,\n",
      "        7.36028828e-25,  7.39872229e-25,  7.42975221e-25]), array([ 7.56438256e-25,  7.65744524e-25,  7.74235673e-25, ...,\n",
      "       -3.98659460e-25, -3.76295899e-25, -3.53682826e-25]), array([4.19431793e-25, 4.42491970e-25, 4.65065198e-25, ...,\n",
      "       7.69964139e-25, 7.82266628e-25, 7.93749759e-25]), array([ 3.49411938e-25,  3.66720979e-25,  3.83709243e-25, ...,\n",
      "       -2.29068767e-25, -2.09570438e-25, -1.89867210e-25]), array([ 7.47062203e-25,  7.40451964e-25,  7.33074681e-25, ...,\n",
      "       -7.65364777e-25, -7.60410733e-25, -7.54830261e-25]), array([3.51301147e-25, 3.71285182e-25, 3.90850752e-25, ...,\n",
      "       4.64821072e-25, 4.46493650e-25, 4.27677848e-25]), array([ 7.23850493e-25,  7.05129891e-25,  6.85645121e-25, ...,\n",
      "       -2.30240303e-25, -2.01569575e-25, -1.72797895e-25]), array([ 5.62740910e-25,  5.69195834e-25,  5.75181424e-25, ...,\n",
      "       -3.10422387e-25, -3.25984594e-25, -3.41219023e-25]), array([ 5.85194803e-25,  5.56909446e-25,  5.28052872e-25, ...,\n",
      "       -9.36989146e-25, -9.19648265e-25, -9.01421807e-25]), array([-3.48339117e-25, -3.32278919e-25, -3.15835352e-25, ...,\n",
      "       -1.86180004e-25, -2.04546043e-25, -2.22640783e-25]), array([-5.83405222e-25, -5.68708797e-25, -5.53602668e-25, ...,\n",
      "        5.82853899e-25,  5.97319450e-25,  6.11125080e-25]), array([ 7.21526988e-25,  7.15711612e-25,  7.09181618e-25, ...,\n",
      "       -3.02951883e-25, -3.23591378e-25, -3.43987824e-25]), array([6.33526882e-25, 6.16331990e-25, 5.98457394e-25, ...,\n",
      "       8.35591393e-25, 8.30899694e-25, 8.25317458e-25]), array([-2.38464101e-26, -1.18435716e-27,  2.13978269e-26, ...,\n",
      "        7.50631453e-25,  7.48602344e-25,  7.45804194e-25]), array([-5.07118426e-25, -4.86666371e-25, -4.65865720e-25, ...,\n",
      "       -8.28521626e-25, -8.32019286e-25, -8.34833851e-25]), array([-1.74076858e-26,  5.74196450e-27,  2.88128464e-26, ...,\n",
      "        3.41741522e-25,  3.20674845e-25,  2.99240577e-25]), array([8.23789545e-25, 8.15667406e-25, 8.06678417e-25, ...,\n",
      "       7.29657592e-25, 7.14901005e-25, 6.99361360e-25]), array([-5.98658672e-25, -6.04292224e-25, -6.09285998e-25, ...,\n",
      "        6.24033301e-25,  6.26863439e-25,  6.29229096e-25]), array([-1.04750832e-25, -8.21449690e-26, -5.95482029e-26, ...,\n",
      "        7.23659139e-25,  7.16706565e-25,  7.09009855e-25]), array([-7.85300484e-25, -7.95828795e-25, -8.05713158e-25, ...,\n",
      "       -8.17665867e-25, -8.26227702e-25, -8.34105368e-25]), array([6.32709973e-25, 6.15281971e-25, 5.97174372e-25, ...,\n",
      "       7.17749032e-25, 7.03350188e-25, 6.88180572e-25]), array([-9.48696342e-25, -9.53389889e-25, -9.57240117e-25, ...,\n",
      "        1.51119637e-25,  1.21183980e-25,  9.10580185e-26]), array([5.59695872e-25, 5.71292607e-25, 5.82379157e-25, ...,\n",
      "       3.28976205e-25, 3.47086628e-25, 3.64889809e-25]), array([-5.09093029e-25, -5.22660413e-25, -5.35755569e-25, ...,\n",
      "       -2.50781125e-26, -4.58684012e-26, -6.66112702e-26]), array([-6.32089417e-25, -6.33571005e-25, -6.34404947e-25, ...,\n",
      "        5.62413875e-25,  5.53091655e-25,  5.43352186e-25]), array([ 2.45504515e-25,  2.28420002e-25,  2.11171988e-25, ...,\n",
      "       -3.96243611e-25, -3.81708822e-25, -3.66791569e-25]), array([ 5.91259432e-25,  5.90561712e-25,  5.89363758e-25, ...,\n",
      "       -2.56016572e-25, -2.71937552e-25, -2.87593462e-25]), array([ 7.07378717e-25,  7.18813157e-25,  7.29479167e-25, ...,\n",
      "       -6.67093776e-25, -6.52659433e-25, -6.37713985e-25]), array([3.33241964e-25, 3.52325255e-25, 3.71050332e-25, ...,\n",
      "       5.53913718e-25, 5.67784751e-25, 5.81100542e-25]), array([ 1.71882437e-25,  1.54471187e-25,  1.36959996e-25, ...,\n",
      "       -4.76597571e-25, -4.65062904e-25, -4.53074163e-25]), array([-4.82260547e-25, -5.03230105e-25, -5.23833949e-25, ...,\n",
      "       -4.71382461e-25, -4.92932419e-25, -5.14117728e-25]), array([-6.20807049e-25, -6.36533813e-25, -6.51770344e-25, ...,\n",
      "        6.59895889e-25,  6.44737752e-25,  6.28877170e-25]), array([ 3.12511082e-25,  3.28447854e-25,  3.44201517e-25, ...,\n",
      "       -3.06787722e-25, -3.23115616e-25, -3.39045103e-25]), array([-4.83949331e-25, -5.01554413e-25, -5.18773967e-25, ...,\n",
      "        2.09337468e-25,  2.31778118e-25,  2.53932618e-25]), array([1.79508989e-25, 1.60847758e-25, 1.42074840e-25, ...,\n",
      "       4.11933078e-25, 4.26814449e-25, 4.41345341e-25]), array([-3.98584398e-25, -4.13877783e-25, -4.28745986e-25, ...,\n",
      "        6.42880820e-25,  6.38769779e-25,  6.34136922e-25]), array([-6.45240370e-25, -6.46914878e-25, -6.47977390e-25, ...,\n",
      "        2.92265649e-25,  2.74589594e-25,  2.56700447e-25]), array([3.76268651e-25, 3.59515744e-25, 3.42410549e-25, ...,\n",
      "       6.62335659e-25, 6.65544587e-25, 6.68124470e-25]), array([ 2.01352915e-25,  1.80605146e-25,  1.59655838e-25, ...,\n",
      "       -2.18436811e-25, -2.39082628e-25, -2.59541253e-25]), array([ 6.57735288e-25,  6.60779692e-25,  6.63252422e-25, ...,\n",
      "       -9.29248186e-26, -7.28885440e-26, -5.27605846e-26]), array([-4.83764012e-25, -4.97206623e-25, -5.10170997e-25, ...,\n",
      "        5.45817630e-25,  5.33970496e-25,  5.21674669e-25]), array([-2.68644218e-26, -5.75939052e-27,  1.53355650e-26, ...,\n",
      "        8.16646442e-26,  1.02825771e-25,  1.23882020e-25]), array([1.98645350e-25, 1.74706400e-25, 1.50507221e-25, ...,\n",
      "       6.31728950e-25, 6.47258509e-25, 6.62084690e-25]), array([-4.81259144e-25, -4.96497723e-25, -5.11324438e-25, ...,\n",
      "       -6.50806991e-25, -6.58906522e-25, -6.66434260e-25]), array([-4.77297520e-25, -4.65486283e-25, -4.53232797e-25, ...,\n",
      "        5.47936388e-25,  5.39059866e-25,  5.29727612e-25])]\n",
      "180\n",
      "12287 12287\n",
      "[array([ 9.60307706e-25,  9.75685374e-25,  9.90267324e-25, ...,\n",
      "       -5.66669095e-24, -5.81633711e-24, -5.96124289e-24]), array([-1.15356579e-24, -1.10619516e-24, -1.05795924e-24, ...,\n",
      "       -5.16283124e-24, -4.99669733e-24, -4.82630226e-24]), array([-7.06369869e-25, -6.57076215e-25, -6.07278794e-25, ...,\n",
      "       -9.42349494e-24, -9.48489926e-24, -9.53830319e-24]), array([5.39709194e-23, 5.34849443e-23, 5.29478324e-23, ...,\n",
      "       0.00000000e+00, 0.00000000e+00, 0.00000000e+00]), array([ 3.62946699e-24,  3.43398703e-24,  3.23585502e-24, ...,\n",
      "       -1.04364517e-23, -1.07649545e-23, -1.10834048e-23]), array([-2.43330002e-23, -2.32675727e-23, -2.21831421e-23, ...,\n",
      "        7.41938178e-26, -7.73370949e-26, -1.41836645e-25]), array([-3.02642323e-24, -2.45080365e-25,  2.23741699e-24, ...,\n",
      "        0.00000000e+00,  0.00000000e+00,  0.00000000e+00]), array([-1.52560517e-23, -8.52092037e-24, -1.56627164e-24, ...,\n",
      "        0.00000000e+00,  0.00000000e+00,  0.00000000e+00]), array([1.69839548e-23, 1.57421318e-23, 1.44881430e-23, ...,\n",
      "       2.92513923e-25, 2.92990951e-25, 1.60874009e-25]), array([-8.75117184e-25, -9.40594470e-25, -1.00544052e-24, ...,\n",
      "       -2.33525056e-25, -5.32283681e-25, -8.30597010e-25]), array([-8.37753171e-24, -8.29382866e-24, -8.20386625e-24, ...,\n",
      "        1.41389740e-23,  1.39825582e-23,  1.38129271e-23]), array([ 7.40122432e-25,  7.70364298e-25,  8.00132710e-25, ...,\n",
      "       -6.91776004e-24, -6.88752309e-24, -6.85141934e-24]), array([-2.28020577e-23, -2.28620770e-23, -2.29047682e-23, ...,\n",
      "        2.88199354e-23,  2.86603724e-23,  2.84644608e-23]), array([ 3.63758067e-24,  3.57021088e-24,  3.50024845e-24, ...,\n",
      "       -4.37431177e-24, -4.95019128e-24, -5.52148800e-24]), array([3.60203685e-24, 3.42544889e-24, 3.24629360e-24, ...,\n",
      "       2.15705436e-23, 2.15981482e-23, 2.16046746e-23]), array([-1.22610630e-24, -1.14295661e-24, -1.05891896e-24, ...,\n",
      "        4.48236540e-24,  4.74560889e-24,  5.00475082e-24]), array([-1.49032652e-24, -1.41584175e-24, -1.34030537e-24, ...,\n",
      "        6.26902801e-24,  6.44984939e-24,  6.62512090e-24]), array([3.79264361e-23, 3.65433251e-23, 3.51292806e-23, ...,\n",
      "       0.00000000e+00, 0.00000000e+00, 0.00000000e+00]), array([-9.39544531e-25, -9.41235375e-25, -9.41925679e-25, ...,\n",
      "        5.80337680e-24,  5.76286529e-24,  5.71820257e-24]), array([-5.36363924e-25, -1.07397435e-24, -1.61088167e-24, ...,\n",
      "       -9.32576327e-24, -8.56637489e-24, -7.79706547e-24]), array([ 3.57672620e-24,  3.40644890e-24,  3.23352523e-24, ...,\n",
      "       -5.71496400e-24, -6.08850714e-24, -6.45645250e-24]), array([ 8.10188533e-24,  8.15175397e-24,  8.19556197e-24, ...,\n",
      "       -6.65053652e-24, -7.06130132e-24, -7.46544431e-24]), array([-1.26658305e-24, -1.25992789e-24, -1.25216038e-24, ...,\n",
      "        1.12324540e-24,  9.34771930e-25,  7.45832170e-25]), array([-4.33272827e-23, -4.30377392e-23, -4.27133111e-23, ...,\n",
      "        3.07306967e-25,  1.75330572e-25,  6.42170404e-27]), array([-7.10989316e-25, -6.77351039e-25, -6.43184074e-25, ...,\n",
      "       -2.78422219e-24, -3.00553020e-24, -3.22430187e-24]), array([5.34591919e-23, 5.05676913e-23, 4.76287618e-23, ...,\n",
      "       0.00000000e+00, 0.00000000e+00, 0.00000000e+00]), array([ 1.58355855e-23,  1.46488738e-23,  1.34502630e-23, ...,\n",
      "        2.47467971e-25,  8.59235455e-26, -6.32277888e-26]), array([5.93881691e-25, 6.14242770e-25, 6.34081373e-25, ...,\n",
      "       4.03394454e-24, 3.82731608e-24, 3.61750009e-24]), array([ 5.70585625e-24,  5.28984779e-24,  4.86978651e-24, ...,\n",
      "       -6.57380107e-24, -7.35197431e-24, -8.12209675e-24]), array([-7.14575483e-26, -3.67933182e-26, -2.13201318e-27, ...,\n",
      "       -2.06709206e-24, -2.28106115e-24, -2.49314884e-24]), array([1.75824073e-24, 3.85416939e-24, 5.10964540e-24, ...,\n",
      "       0.00000000e+00, 0.00000000e+00, 0.00000000e+00]), array([6.95071723e-26, 8.17730773e-26, 9.42333884e-26, ...,\n",
      "       4.80562567e-24, 4.86571294e-24, 4.92248594e-24]), array([7.18723971e-23, 6.97156638e-23, 6.74856805e-23, ...,\n",
      "       0.00000000e+00, 0.00000000e+00, 0.00000000e+00]), array([5.23506798e-23, 5.30315638e-23, 5.36630621e-23, ...,\n",
      "       0.00000000e+00, 0.00000000e+00, 0.00000000e+00]), array([-2.91935071e-24, -2.91404530e-24, -2.90659514e-24, ...,\n",
      "       -9.87283445e-24, -9.80104596e-24, -9.72087783e-24]), array([ 1.43336802e-24,  1.41426565e-24,  1.39405973e-24, ...,\n",
      "       -4.64212007e-24, -4.41086965e-24, -4.17598691e-24]), array([ 4.91581690e-25,  4.85056601e-25,  4.78378530e-25, ...,\n",
      "       -2.74910416e-24, -2.88965877e-24, -3.02745763e-24]), array([1.15007435e-23, 1.17391423e-23, 1.19688811e-23, ...,\n",
      "       1.78167492e-24, 2.46481849e-24, 3.14539429e-24]), array([ 1.22767202e-24,  1.22735520e-24,  1.22645261e-24, ...,\n",
      "       -1.53138540e-24, -1.36427009e-24, -1.19544768e-24]), array([-4.57784599e-23, -4.61918374e-23, -4.65701971e-23, ...,\n",
      "        2.88911161e-25,  2.77082904e-25,  1.34363335e-25]), array([-3.45874145e-23, -3.47313570e-23, -3.48484311e-23, ...,\n",
      "       -1.10012516e-23, -1.31323370e-23, -1.52362300e-23]), array([-6.33691711e-25, -4.97631609e-25, -3.61084133e-25, ...,\n",
      "       -4.88228489e-24, -5.46092001e-24, -6.03442560e-24]), array([ 7.09131327e-24,  7.25319437e-24,  7.40977819e-24, ...,\n",
      "       -1.60503174e-23, -1.61955160e-23, -1.63251469e-23]), array([ 8.41995045e-26,  6.56323617e-26,  4.71705129e-26, ...,\n",
      "       -6.05404307e-24, -6.02201685e-24, -5.98478887e-24]), array([-7.51971417e-25, -7.25750545e-25, -6.98889566e-25, ...,\n",
      "       -5.38682146e-25, -7.37801348e-25, -9.36128757e-25]), array([1.21703526e-23, 8.23409831e-24, 3.77745254e-24, ...,\n",
      "       0.00000000e+00, 0.00000000e+00, 0.00000000e+00]), array([-1.15711032e-23, -1.15434638e-23, -1.15072287e-23, ...,\n",
      "       -1.31036168e-23, -1.26725289e-23, -1.22287463e-23]), array([-2.05200356e-25, -2.34519182e-25, -2.63459067e-25, ...,\n",
      "        3.31278377e-24,  3.46458106e-24,  3.61396699e-24]), array([2.38482363e-23, 2.42216316e-23, 2.45771065e-23, ...,\n",
      "       1.53501152e-23, 1.66219823e-23, 1.78696997e-23]), array([-2.69967835e-23, -2.41686558e-23, -2.13108417e-23, ...,\n",
      "        0.00000000e+00,  0.00000000e+00,  0.00000000e+00]), array([3.17546156e-24, 3.14430687e-24, 3.11080022e-24, ...,\n",
      "       6.87880433e-24, 6.55275381e-24, 6.22092119e-24]), array([-4.10271526e-23, -3.97954027e-23, -3.85262580e-23, ...,\n",
      "        0.00000000e+00,  0.00000000e+00,  0.00000000e+00]), array([-4.92593023e-23, -5.01953171e-23, -5.10856125e-23, ...,\n",
      "        0.00000000e+00,  0.00000000e+00,  0.00000000e+00]), array([-6.01557652e-24, -6.06670259e-24, -6.11344696e-24, ...,\n",
      "       -3.60124094e-24, -4.11407552e-24, -4.62307922e-24]), array([ 3.07171877e-24,  3.03045199e-24,  2.98686533e-24, ...,\n",
      "       -5.66755441e-24, -5.90946874e-24, -6.14630160e-24]), array([ 4.30800205e-24,  4.44114549e-24,  4.57120455e-24, ...,\n",
      "       -2.17773847e-24, -1.57698143e-24, -9.74692904e-25]), array([-3.18579055e-24, -1.30586387e-24,  5.75103894e-25, ...,\n",
      "        0.00000000e+00,  0.00000000e+00,  0.00000000e+00]), array([1.12691567e-23, 1.11718783e-23, 1.10663633e-23, ...,\n",
      "       3.30830149e-24, 2.62211964e-24, 1.93320987e-24]), array([-5.45614160e-23, -5.47221078e-23, -5.48295537e-23, ...,\n",
      "        0.00000000e+00,  0.00000000e+00,  0.00000000e+00]), array([-8.80604474e-25, -1.68309138e-24, -2.48430775e-24, ...,\n",
      "        3.20589070e-23,  3.26125451e-23,  3.31158101e-23]), array([-1.03624746e-23, -1.01100672e-23, -9.84991370e-24, ...,\n",
      "       -1.54299300e-23, -1.57391895e-23, -1.60323360e-23]), array([ 6.67496859e-24,  7.94784065e-24,  9.21439483e-24, ...,\n",
      "        2.79655794e-25,  1.34799152e-25, -2.80159402e-26]), array([-6.74860976e-24, -6.97033370e-24, -7.18744795e-24, ...,\n",
      "       -2.43186810e-23, -2.49390779e-23, -2.55316790e-23]), array([7.45162794e-23, 7.33068114e-23, 7.20048930e-23, ...,\n",
      "       0.00000000e+00, 0.00000000e+00, 0.00000000e+00]), array([-3.70090098e-24, -3.62522242e-24, -3.54680647e-24, ...,\n",
      "        8.77705550e-24,  8.54359413e-24,  8.30256381e-24]), array([-1.89525337e-25, -1.81295894e-25, -1.72714798e-25, ...,\n",
      "       -1.22492974e-24, -1.08541778e-24, -9.44495084e-25]), array([1.09936534e-22, 1.09600198e-22, 1.09163083e-22, ...,\n",
      "       0.00000000e+00, 0.00000000e+00, 0.00000000e+00]), array([-1.74909381e-24, -1.71551098e-24, -1.68066240e-24, ...,\n",
      "       -5.34305257e-24, -5.65446019e-24, -5.96102892e-24]), array([-3.81209747e-24, -2.06478860e-24, -3.15411713e-25, ...,\n",
      "        0.00000000e+00,  0.00000000e+00,  0.00000000e+00]), array([9.48389853e-24, 1.00540416e-23, 1.06167462e-23, ...,\n",
      "       1.98100933e-23, 1.90419738e-23, 1.82498573e-23]), array([-3.89232443e-23, -3.95681182e-23, -4.01812649e-23, ...,\n",
      "        2.06904345e-25,  3.88879364e-26, -9.66987251e-26]), array([ 2.38737729e-24,  2.42781213e-24,  2.46653375e-24, ...,\n",
      "       -6.06530425e-24, -5.68420358e-24, -5.29811734e-24]), array([ 5.11826607e-24,  8.29159654e-25, -3.07807645e-24, ...,\n",
      "        0.00000000e+00,  0.00000000e+00,  0.00000000e+00]), array([4.23290269e-24, 9.83847034e-24, 1.39133897e-23, ...,\n",
      "       0.00000000e+00, 0.00000000e+00, 0.00000000e+00]), array([-1.10900319e-25, -7.77849879e-26, -4.46371291e-26, ...,\n",
      "        2.38495653e-24,  2.15785155e-24,  1.92896080e-24]), array([-2.45895897e-24, -2.49335965e-24, -2.52595669e-24, ...,\n",
      "       -1.01549438e-23, -1.01528775e-23, -1.01421106e-23]), array([ 9.02024578e-25,  1.30538980e-24,  1.70793750e-24, ...,\n",
      "       -6.77421412e-24, -6.11673485e-24, -5.45275938e-24]), array([-1.20252697e-24, -1.53980032e-24, -1.87599780e-24, ...,\n",
      "       -1.07754492e-24, -5.65288523e-25, -5.24552279e-26]), array([-1.56950985e-23, -1.57732756e-23, -1.58395582e-23, ...,\n",
      "        3.31776708e-24,  3.99337855e-24,  4.66474681e-24]), array([-3.41503819e-25, -2.97712964e-25, -2.53641733e-25, ...,\n",
      "       -7.71993787e-24, -7.70133328e-24, -7.67623161e-24]), array([-2.78634924e-24, -2.51197447e-24, -2.23558919e-24, ...,\n",
      "       -1.72328786e-23, -1.69790717e-23, -1.67084227e-23]), array([5.61469530e-23, 5.65296882e-23, 5.68600736e-23, ...,\n",
      "       0.00000000e+00, 0.00000000e+00, 0.00000000e+00]), array([-3.18624184e-23, -3.22169011e-23, -3.25471734e-23, ...,\n",
      "        2.27847606e-24,  1.01209593e-25, -2.07670000e-24]), array([ 4.49125390e-23,  4.52035744e-23,  4.54588717e-23, ...,\n",
      "        2.66777939e-25,  1.19411280e-25, -4.35657730e-26]), array([1.16278664e-23, 9.80582206e-24, 7.97635228e-24, ...,\n",
      "       0.00000000e+00, 0.00000000e+00, 0.00000000e+00]), array([-4.81424821e-25, -4.69501995e-25, -4.56977594e-25, ...,\n",
      "        5.66764018e-24,  5.69999709e-24,  5.72824240e-24]), array([ 7.96483769e-24,  7.98899831e-24,  8.00728405e-24, ...,\n",
      "       -2.51170209e-24, -3.02821963e-24, -3.54187567e-24]), array([ 8.06630209e-24,  3.78936811e-24, -5.04142094e-25, ...,\n",
      "        0.00000000e+00,  0.00000000e+00,  0.00000000e+00]), array([ 3.65619580e-24,  3.70984985e-24,  3.76082237e-24, ...,\n",
      "       -1.41163810e-24, -1.83046708e-24, -2.24768277e-24]), array([-4.29391120e-24, -4.35796084e-24, -4.41893071e-24, ...,\n",
      "        8.88736920e-24,  9.32958386e-24,  9.76321470e-24]), array([ 8.33600725e-24,  7.83795613e-24,  7.33398445e-24, ...,\n",
      "       -1.64756416e-24, -3.07348227e-24, -4.49533924e-24]), array([6.48818645e-23, 6.53203506e-23, 6.57079580e-23, ...,\n",
      "       0.00000000e+00, 0.00000000e+00, 0.00000000e+00]), array([4.18599932e-25, 4.19299270e-25, 4.19794731e-25, ...,\n",
      "       5.54882799e-24, 5.49464025e-24, 5.43634519e-24]), array([-1.32119259e-23, -1.29998616e-23, -1.27782298e-23, ...,\n",
      "       -2.30503436e-23, -2.33366583e-23, -2.35975287e-23]), array([ 2.31749595e-23,  2.32085613e-23,  2.32244701e-23, ...,\n",
      "       -9.55841250e-24, -8.57708950e-24, -7.58476195e-24]), array([1.04974404e-23, 1.08060483e-23, 1.11066428e-23, ...,\n",
      "       2.11199528e-23, 2.11323749e-23, 2.11223119e-23]), array([-7.89761129e-24, -8.50733216e-24, -9.11057344e-24, ...,\n",
      "       -1.75532290e-23, -1.83383901e-23, -1.90999964e-23]), array([ 4.10679600e-25,  4.50925173e-25,  4.90825077e-25, ...,\n",
      "       -5.80128749e-24, -6.00602060e-24, -6.20577914e-24]), array([4.22041709e-24, 4.24604215e-24, 4.26861859e-24, ...,\n",
      "       3.05638059e-24, 2.60027436e-24, 2.14181131e-24]), array([1.06723852e-24, 6.93691085e-25, 3.19398941e-25, ...,\n",
      "       2.55750404e-23, 2.55889616e-23, 2.55749902e-23]), array([ 1.60821985e-24,  1.65922610e-24,  1.70904913e-24, ...,\n",
      "       -3.04452452e-24, -2.70562218e-24, -2.36439267e-24]), array([-9.39645968e-24, -7.29116902e-24, -4.51503761e-24, ...,\n",
      "        0.00000000e+00,  0.00000000e+00,  0.00000000e+00]), array([-5.86698504e-23, -6.08938560e-23, -6.30478204e-23, ...,\n",
      "        0.00000000e+00,  0.00000000e+00,  0.00000000e+00]), array([1.34857504e-25, 9.11923926e-26, 4.74679589e-26, ...,\n",
      "       6.73033642e-24, 6.67408165e-24, 6.61246625e-24]), array([-2.22130705e-24, -2.14751474e-24, -2.07208708e-24, ...,\n",
      "        9.16270018e-24,  9.22079871e-24,  9.27094319e-24]), array([ 4.00414650e-23,  4.02284727e-23,  4.03808238e-23, ...,\n",
      "        8.99743538e-26, -8.06508719e-26, -1.80359974e-25]), array([-2.05863637e-24, -2.13886722e-24, -2.21757474e-24, ...,\n",
      "       -4.96452939e-24, -4.70512284e-24, -4.44165206e-24]), array([-7.21489559e-23, -7.38833153e-23, -7.55329301e-23, ...,\n",
      "        0.00000000e+00,  0.00000000e+00,  0.00000000e+00]), array([-2.82084767e-25, -2.51040572e-25, -2.19827149e-25, ...,\n",
      "        7.87387516e-24,  7.72791942e-24,  7.57555819e-24]), array([-3.76508418e-25, -3.59513719e-25, -3.42269663e-25, ...,\n",
      "        6.19842866e-24,  6.30422528e-24,  6.40497701e-24]), array([-1.98370360e-23, -2.01813116e-23, -2.05112624e-23, ...,\n",
      "        3.42335336e-23,  3.35484182e-23,  3.28161678e-23]), array([-3.45172240e-24, -6.30913058e-24, -7.87532110e-24, ...,\n",
      "        0.00000000e+00,  0.00000000e+00,  0.00000000e+00]), array([-1.30215018e-24, -1.29661539e-24, -1.29018633e-24, ...,\n",
      "        6.29412063e-24,  6.16105890e-24,  6.02290725e-24]), array([-3.59375593e-23, -3.44227631e-23, -3.28823296e-23, ...,\n",
      "        0.00000000e+00,  0.00000000e+00,  0.00000000e+00]), array([-6.53076344e-25, -6.50478358e-25, -6.47277042e-25, ...,\n",
      "        2.02603687e-24,  2.18929967e-24,  2.35111842e-24]), array([-7.98680816e-24, -6.43378988e-24, -4.09929534e-24, ...,\n",
      "        0.00000000e+00,  0.00000000e+00,  0.00000000e+00]), array([-9.36376388e-25, -6.11068420e-25, -2.85161366e-25, ...,\n",
      "        1.73195239e-23,  1.75192144e-23,  1.77013426e-23]), array([ 2.71093201e-24,  2.81906839e-24,  2.92520725e-24, ...,\n",
      "       -5.26917386e-24, -5.61175600e-24, -5.94934583e-24]), array([2.44815623e-23, 2.42628568e-23, 2.40263938e-23, ...,\n",
      "       1.46657826e-23, 1.33282903e-23, 1.19716523e-23]), array([ 5.41413423e-25,  5.62207478e-25,  5.82674323e-25, ...,\n",
      "       -2.29141352e-24, -2.47730424e-24, -2.66100002e-24]), array([-2.84533718e-23, -2.85185371e-23, -2.85620437e-23, ...,\n",
      "        3.49108545e-23,  3.45202149e-23,  3.40780756e-23]), array([5.37942189e-24, 5.45444770e-24, 5.52542394e-24, ...,\n",
      "       3.23246834e-24, 3.59694484e-24, 3.95816904e-24]), array([ 7.75866295e-25,  7.64041632e-25,  7.51661905e-25, ...,\n",
      "       -6.81112770e-24, -6.88554895e-24, -6.95426954e-24]), array([ 7.63027362e-25,  8.02866387e-25,  8.42094131e-25, ...,\n",
      "       -5.46032429e-24, -5.30021001e-24, -5.13565497e-24]), array([-2.90146829e-24, -2.87279199e-24, -2.84199527e-24, ...,\n",
      "       -9.56697805e-24, -9.35921599e-24, -9.14332935e-24]), array([-1.78909901e-24, -1.98170678e-24, -2.17291457e-24, ...,\n",
      "       -1.19636265e-23, -1.20589914e-23, -1.21433534e-23]), array([ 1.06397577e-24,  1.10579541e-24,  1.14681949e-24, ...,\n",
      "       -1.03974527e-23, -1.03930111e-23, -1.03798011e-23]), array([1.48763788e-23, 1.36551637e-23, 1.08861526e-23, ...,\n",
      "       0.00000000e+00, 0.00000000e+00, 0.00000000e+00]), array([ 1.52560741e-25, -2.68595803e-26, -2.06378603e-25, ...,\n",
      "        7.21380600e-24,  6.85509709e-24,  6.49010098e-24]), array([8.42580896e-24, 7.68825986e-24, 6.94471933e-24, ...,\n",
      "       3.01120560e-23, 3.07559586e-23, 3.13540979e-23]), array([ 1.22899543e-24,  1.11527326e-24,  1.00064766e-24, ...,\n",
      "       -1.10433667e-23, -1.07825436e-23, -1.05120488e-23]), array([ 3.83670682e-24,  3.95358861e-24,  4.06762311e-24, ...,\n",
      "       -1.15190294e-23, -1.12807527e-23, -1.10322391e-23]), array([2.70605302e-23, 2.73556110e-23, 2.76317049e-23, ...,\n",
      "       4.24789828e-23, 4.12016450e-23, 3.98474369e-23]), array([-2.09850187e-23, -1.51139740e-23, -8.34732642e-24, ...,\n",
      "        0.00000000e+00,  0.00000000e+00,  0.00000000e+00]), array([ 8.73262609e-25,  8.79515978e-25,  8.85137990e-25, ...,\n",
      "       -3.42581896e-24, -3.60941649e-24, -3.78998585e-24]), array([3.57495773e-24, 3.44243784e-24, 3.30724886e-24, ...,\n",
      "       1.15608062e-23, 1.15377549e-23, 1.15043607e-23]), array([-8.04129427e-24, -7.02219006e-24, -5.02291787e-24, ...,\n",
      "        0.00000000e+00,  0.00000000e+00,  0.00000000e+00]), array([-5.35641965e-23, -5.40938166e-23, -5.45729951e-23, ...,\n",
      "        0.00000000e+00,  0.00000000e+00,  0.00000000e+00]), array([-2.17322976e-23, -2.18800347e-23, -2.20113451e-23, ...,\n",
      "       -3.52660224e-24, -2.49412610e-24, -1.45845163e-24]), array([-7.28047399e-25, -1.16986446e-24, -1.61103039e-24, ...,\n",
      "       -1.87888113e-23, -1.82252059e-23, -1.76412853e-23]), array([2.81236537e-23, 2.76844165e-23, 2.72252072e-23, ...,\n",
      "       2.46454355e-23, 2.63569225e-23, 2.80196157e-23]), array([-3.74574747e-24, -3.64645097e-24, -3.54445208e-24, ...,\n",
      "        3.77698585e-24,  3.18712942e-24,  2.59423290e-24]), array([-2.73577299e-25, -5.33576807e-25, -7.93348053e-25, ...,\n",
      "        1.74769621e-23,  1.77080772e-23,  1.79217556e-23]), array([-5.61131730e-25, -7.98464573e-25, -1.03534509e-24, ...,\n",
      "       -4.42931259e-24, -3.92340092e-24, -3.41371757e-24]), array([1.18785250e-24, 1.30076825e-24, 1.41280265e-24, ...,\n",
      "       1.22442483e-23, 1.21389150e-23, 1.20228624e-23]), array([6.14686512e-23, 5.93401851e-23, 5.71430328e-23, ...,\n",
      "       0.00000000e+00, 0.00000000e+00, 0.00000000e+00]), array([5.25579260e-23, 5.35806012e-23, 5.45634101e-23, ...,\n",
      "       0.00000000e+00, 0.00000000e+00, 0.00000000e+00]), array([-3.08805042e-23, -2.99422051e-23, -2.89799867e-23, ...,\n",
      "        3.00284243e-25,  3.08788466e-25,  1.85604559e-25]), array([-1.38655929e-24, -1.32858657e-24, -1.26960156e-24, ...,\n",
      "       -5.88582414e-24, -5.66384255e-24, -5.43703709e-24]), array([ 8.58451336e-25, -3.35683468e-24, -6.73263707e-24, ...,\n",
      "        0.00000000e+00,  0.00000000e+00,  0.00000000e+00]), array([ 2.61432316e-23,  2.67720284e-23,  2.73810793e-23, ...,\n",
      "       -4.77305510e-23, -4.84053129e-23, -4.89818951e-23]), array([3.51957942e-24, 3.56187508e-24, 3.60163077e-24, ...,\n",
      "       6.85642493e-24, 6.43170619e-24, 6.00118109e-24]), array([2.86151815e-25, 3.03115514e-25, 3.19831797e-25, ...,\n",
      "       6.18058241e-24, 6.09291107e-24, 6.00039092e-24]), array([ 9.23307192e-24,  9.49686068e-24,  9.75378827e-24, ...,\n",
      "       -3.58772274e-24, -4.26215020e-24, -4.93218374e-24]), array([1.00985832e-23, 6.09679822e-24, 1.74364294e-24, ...,\n",
      "       0.00000000e+00, 0.00000000e+00, 0.00000000e+00]), array([3.55250814e-25, 3.74753799e-25, 3.93907853e-25, ...,\n",
      "       7.21781736e-24, 7.13462332e-24, 7.04560196e-24]), array([-1.35574164e-23, -1.36256105e-23, -1.36834903e-23, ...,\n",
      "       -2.41849423e-24, -2.99931604e-24, -3.57708356e-24]), array([2.02693108e-23, 2.20218649e-23, 2.37577270e-23, ...,\n",
      "       0.00000000e+00, 0.00000000e+00, 0.00000000e+00]), array([-5.87247817e-24, -5.73903331e-24, -5.60121145e-24, ...,\n",
      "        9.20420353e-24,  9.50410510e-24,  9.79520996e-24]), array([ 1.08963644e-24,  1.07663546e-24,  1.06303494e-24, ...,\n",
      "       -1.64333071e-24, -1.46911148e-24, -1.29327533e-24]), array([2.00991896e-24, 2.05663523e-24, 2.10181760e-24, ...,\n",
      "       8.43956939e-24, 8.44494046e-24, 8.44317381e-24]), array([ 3.89806321e-24,  2.94914786e-24,  1.99785506e-24, ...,\n",
      "       -4.10254990e-23, -3.99561538e-23, -3.87983983e-23]), array([-2.70868291e-23, -2.85545582e-23, -2.74304682e-23, ...,\n",
      "        0.00000000e+00,  0.00000000e+00,  0.00000000e+00]), array([-2.79036393e-23, -2.73063067e-23, -2.66885895e-23, ...,\n",
      "        3.47059785e-23,  3.29479064e-23,  3.11222313e-23]), array([-1.83059682e-23, -1.81143613e-23, -1.79089036e-23, ...,\n",
      "        2.41523721e-23,  2.40953429e-23,  2.40104752e-23]), array([-1.04806630e-23, -1.07178929e-23, -1.09475200e-23, ...,\n",
      "        2.55305678e-23,  2.54812668e-23,  2.54043334e-23]), array([-1.66794339e-23, -1.54446118e-23, -1.41977470e-23, ...,\n",
      "        3.13007862e-25,  2.31813916e-25,  6.66149159e-26]), array([-1.63148349e-24,  4.93468748e-24,  1.04075839e-23, ...,\n",
      "        0.00000000e+00,  0.00000000e+00,  0.00000000e+00]), array([-1.86194215e-24, -1.86314151e-24, -1.86297738e-24, ...,\n",
      "       -1.16175226e-24, -1.42365332e-24, -1.68435206e-24]), array([-5.40285634e-24, -7.51368609e-24, -8.25872939e-24, ...,\n",
      "        0.00000000e+00,  0.00000000e+00,  0.00000000e+00]), array([-5.01698653e-23, -5.10631251e-23, -5.19098934e-23, ...,\n",
      "        0.00000000e+00,  0.00000000e+00,  0.00000000e+00]), array([4.85172410e-24, 3.13467161e-24, 1.41447524e-24, ...,\n",
      "       0.00000000e+00, 0.00000000e+00, 0.00000000e+00]), array([-6.39311242e-23, -6.34262520e-23, -6.28720124e-23, ...,\n",
      "        0.00000000e+00,  0.00000000e+00,  0.00000000e+00]), array([-3.54410102e-24, -3.45907577e-24, -3.37146470e-24, ...,\n",
      "        1.17561237e-23,  1.16007232e-23,  1.14349800e-23]), array([ 8.91648909e-25,  1.05327909e-24,  1.21425112e-24, ...,\n",
      "       -1.36529134e-23, -1.38425373e-23, -1.40194886e-23]), array([6.29103709e-24, 6.35196115e-24, 6.40829139e-24, ...,\n",
      "       1.06175381e-23, 1.10260250e-23, 1.14241703e-23]), array([-1.23105619e-23, -1.15913563e-23, -1.08628038e-23, ...,\n",
      "        3.29513246e-23,  3.25163318e-23,  3.20298980e-23]), array([ 2.92664160e-24,  2.86950346e-24,  2.81021697e-24, ...,\n",
      "       -1.39756474e-24, -1.77580697e-24, -2.15250691e-24]), array([4.47770439e-23, 4.33725416e-23, 4.19351879e-23, ...,\n",
      "       0.00000000e+00, 0.00000000e+00, 0.00000000e+00]), array([ 8.50894466e-26, -3.14098376e-24, -6.36446492e-24, ...,\n",
      "        0.00000000e+00,  0.00000000e+00,  0.00000000e+00])]\n"
     ]
    }
   ],
   "source": [
    "print(BNS_data)\n",
    "print(len(BNS_data))\n",
    "print(len(BBH_data[0]),len(BBH_data[1]))\n",
    "print(BBH_data)"
   ]
  },
  {
   "cell_type": "code",
   "execution_count": 9,
   "metadata": {},
   "outputs": [
    {
     "name": "stdout",
     "output_type": "stream",
     "text": [
      "0.0 2.99951171875\n"
     ]
    },
    {
     "data": {
      "image/png": "[encoded data removed]",
      "text/plain": [
       "<Figure size 432x288 with 1 Axes>"
      ]
     },
     "metadata": {
      "needs_background": "light"
     },
     "output_type": "display_data"
    },
    {
     "name": "stdout",
     "output_type": "stream",
     "text": [
      "[ 9.60307706e-25  9.75685374e-25  9.90267324e-25 ... -5.66669095e-24\n",
      " -5.81633711e-24 -5.96124289e-24]\n"
     ]
    }
   ],
   "source": [
    "t=np.arange(0,len(BNS_data[0])/sample_rate,1/sample_rate)\n",
    "t2=np.arange(0,len(BBH_data[0])/sample_rate,1/sample_rate)\n",
    "print(0.0,max(t))\n",
    "plt.plot(t,BNS_data[0])\n",
    "plt.plot(t2,BBH_data[0])\n",
    "plt.show()\n",
    "\n",
    "print(BBH_data[0])"
   ]
  },
  {
   "cell_type": "code",
   "execution_count": 10,
   "metadata": {},
   "outputs": [],
   "source": [
    "class_names=[\"BNS\",\"BBH\"]\n"
   ]
  },
  {
   "cell_type": "code",
   "execution_count": 11,
   "metadata": {},
   "outputs": [
    {
     "name": "stdout",
     "output_type": "stream",
     "text": [
      "float64\n"
     ]
    }
   ],
   "source": [
    "BNS_data=np.array(BNS_data)\n",
    "BBH_data=np.array(BBH_data)\n",
    "BNS_check_data=np.array(BNS_check_data)\n",
    "BBH_check_data=np.array(BBH_check_data)\n",
    "train_labels=np.array(train_labels)\n",
    "check_labels=np.array(check_labels)\n",
    "BNS_data.shape\n",
    "BBH_data.shape\n",
    "train_labels=np.array(train_labels)\n",
    "BNS_check_data.shape\n",
    "BBH_check_data.shape\n",
    "\n",
    "train_data=np.concatenate((BNS_data,BBH_data),axis=0)\n",
    "check_data=np.concatenate((BNS_check_data,BBH_check_data),axis=0)\n",
    "\n",
    "\n",
    "train_data = train_data / np.linalg.norm(train_data)\n",
    "check_data = check_data / np.linalg.norm(check_data)\n",
    "\n",
    "train_data.shape\n",
    "#print(BNS_data.type)\n",
    "\n",
    "print(train_data.dtype)"
   ]
  },
  {
   "cell_type": "code",
   "execution_count": 12,
   "metadata": {},
   "outputs": [
    {
     "name": "stdout",
     "output_type": "stream",
     "text": [
      "<tensorflow.python.keras.engine.sequential.Sequential object at 0x1a1dbfe10>\n"
     ]
    }
   ],
   "source": [
    "model = keras.Sequential([\n",
    "    keras.layers.Dense(512, activation=tf.nn.relu),\n",
    "    keras.layers.Dense(2, activation=tf.nn.softmax)\n",
    "])\n",
    "\n",
    "print(model)"
   ]
  },
  {
   "cell_type": "code",
   "execution_count": 13,
   "metadata": {
    "scrolled": true
   },
   "outputs": [
    {
     "name": "stdout",
     "output_type": "stream",
     "text": [
      "<tensorflow.python.keras.engine.sequential.Sequential object at 0x1a1dbfe10>\n",
      "[1 1 1 1 1 1 1 1 1 1 1 1 1 1 1 1 1 1 1 1 1 1 1 1 1 1 1 1 1 1 1 1 1 1 1 1 1\n",
      " 1 1 1 1 1 1 1 1 1 1 1 1 1 1 1 1 1 1 1 1 1 1 1 1 1 1 1 1 1 1 1 1 1 1 1 1 1\n",
      " 1 1 1 1 1 1 1 1 1 1 1 1 1 1 1 1 1 1 1 1 1 1 1 1 1 1 1 1 1 1 1 1 1 1 1 1 1\n",
      " 1 1 1 1 1 1 1 1 1 1 1 1 1 1 1 1 1 1 1 1 1 1 1 1 1 1 1 1 1 1 1 1 1 1 1 1 1\n",
      " 1 1 1 1 1 1 1 1 1 1 1 1 1 1 1 1 1 1 1 1 1 1 1 1 1 1 1 1 1 1 1 1 0 0 0 0 0\n",
      " 0 0 0 0 0 0 0 0 0 0 0 0 0 0 0 0 0 0 0 0 0 0 0 0 0 0 0 0 0 0 0 0 0 0 0 0 0\n",
      " 0 0 0 0 0 0 0 0 0 0 0 0 0 0 0 0 0 0 0 0 0 0 0 0 0 0 0 0 0 0 0 0 0 0 0 0 0\n",
      " 0 0 0 0 0 0 0 0 0 0 0 0 0 0 0 0 0 0 0 0 0 0 0 0 0 0 0 0 0 0 0 0 0 0 0 0 0\n",
      " 0 0 0 0 0 0 0 0 0 0 0 0 0 0 0 0 0 0 0 0 0 0 0 0 0 0 0 0 0 0 0 0 0 0 0 0 0\n",
      " 0 0 0 0 0 0 0 0 0 0 0 0 0 0 0 0 0 0 0 0 0 0 0 0 0 0 0]\n"
     ]
    }
   ],
   "source": [
    "model.compile(optimizer=tf.train.AdamOptimizer(), \n",
    "              loss='sparse_categorical_crossentropy',\n",
    "              metrics=['accuracy'])\n",
    "\n",
    "print(model)\n",
    "print(train_labels)"
   ]
  },
  {
   "cell_type": "code",
   "execution_count": 14,
   "metadata": {},
   "outputs": [
    {
     "name": "stdout",
     "output_type": "stream",
     "text": [
      "Epoch 1/50\n",
      "360/360 [==============================] - 3s 7ms/step - loss: 0.6914 - acc: 0.5611\n",
      "Epoch 2/50\n",
      "360/360 [==============================] - 1s 3ms/step - loss: 0.6726 - acc: 0.7222\n",
      "Epoch 3/50\n",
      "360/360 [==============================] - 1s 3ms/step - loss: 0.6488 - acc: 0.7361\n",
      "Epoch 4/50\n",
      "360/360 [==============================] - 1s 3ms/step - loss: 0.6184 - acc: 0.7639\n",
      "Epoch 5/50\n",
      "360/360 [==============================] - 1s 3ms/step - loss: 0.5851 - acc: 0.7944\n",
      "Epoch 6/50\n",
      "360/360 [==============================] - 1s 3ms/step - loss: 0.5514 - acc: 0.7833\n",
      "Epoch 7/50\n",
      "360/360 [==============================] - 1s 3ms/step - loss: 0.5148 - acc: 0.8194\n",
      "Epoch 8/50\n",
      "360/360 [==============================] - 1s 4ms/step - loss: 0.4801 - acc: 0.8417\n",
      "Epoch 9/50\n",
      "360/360 [==============================] - 1s 4ms/step - loss: 0.4468 - acc: 0.8639\n",
      "Epoch 10/50\n",
      "360/360 [==============================] - 1s 4ms/step - loss: 0.4152 - acc: 0.8694\n",
      "Epoch 11/50\n",
      "360/360 [==============================] - 1s 4ms/step - loss: 0.3887 - acc: 0.8722\n",
      "Epoch 12/50\n",
      "360/360 [==============================] - 1s 4ms/step - loss: 0.3599 - acc: 0.8917\n",
      "Epoch 13/50\n",
      "360/360 [==============================] - 1s 4ms/step - loss: 0.3367 - acc: 0.9028\n",
      "Epoch 14/50\n",
      "360/360 [==============================] - 1s 4ms/step - loss: 0.3168 - acc: 0.9056\n",
      "Epoch 15/50\n",
      "360/360 [==============================] - 1s 4ms/step - loss: 0.2997 - acc: 0.9111\n",
      "Epoch 16/50\n",
      "360/360 [==============================] - 1s 4ms/step - loss: 0.2857 - acc: 0.9111\n",
      "Epoch 17/50\n",
      "360/360 [==============================] - 1s 4ms/step - loss: 0.2719 - acc: 0.9167\n",
      "Epoch 18/50\n",
      "360/360 [==============================] - 1s 4ms/step - loss: 0.2615 - acc: 0.9222\n",
      "Epoch 19/50\n",
      "360/360 [==============================] - 1s 3ms/step - loss: 0.2527 - acc: 0.9250\n",
      "Epoch 20/50\n",
      "360/360 [==============================] - 1s 3ms/step - loss: 0.2454 - acc: 0.9278\n",
      "Epoch 21/50\n",
      "360/360 [==============================] - 1s 3ms/step - loss: 0.2379 - acc: 0.9278\n",
      "Epoch 22/50\n",
      "360/360 [==============================] - 1s 4ms/step - loss: 0.2325 - acc: 0.9306\n",
      "Epoch 23/50\n",
      "360/360 [==============================] - 1s 3ms/step - loss: 0.2283 - acc: 0.9278\n",
      "Epoch 24/50\n",
      "360/360 [==============================] - 1s 3ms/step - loss: 0.2218 - acc: 0.9306\n",
      "Epoch 25/50\n",
      "360/360 [==============================] - 1s 3ms/step - loss: 0.2188 - acc: 0.9333\n",
      "Epoch 26/50\n",
      "360/360 [==============================] - 1s 3ms/step - loss: 0.2141 - acc: 0.9333\n",
      "Epoch 27/50\n",
      "360/360 [==============================] - 1s 3ms/step - loss: 0.2110 - acc: 0.9333\n",
      "Epoch 28/50\n",
      "360/360 [==============================] - 1s 3ms/step - loss: 0.2070 - acc: 0.9333\n",
      "Epoch 29/50\n",
      "360/360 [==============================] - 1s 3ms/step - loss: 0.2041 - acc: 0.9333\n",
      "Epoch 30/50\n",
      "360/360 [==============================] - 1s 3ms/step - loss: 0.2010 - acc: 0.9333\n",
      "Epoch 31/50\n",
      "360/360 [==============================] - 1s 3ms/step - loss: 0.1993 - acc: 0.9361\n",
      "Epoch 32/50\n",
      "360/360 [==============================] - 1s 3ms/step - loss: 0.1972 - acc: 0.9361\n",
      "Epoch 33/50\n",
      "360/360 [==============================] - 1s 3ms/step - loss: 0.1947 - acc: 0.9389\n",
      "Epoch 34/50\n",
      "360/360 [==============================] - 1s 3ms/step - loss: 0.1929 - acc: 0.9389\n",
      "Epoch 35/50\n",
      "360/360 [==============================] - 1s 3ms/step - loss: 0.1941 - acc: 0.9417\n",
      "Epoch 36/50\n",
      "360/360 [==============================] - 1s 3ms/step - loss: 0.1907 - acc: 0.9444\n",
      "Epoch 37/50\n",
      "360/360 [==============================] - 1s 3ms/step - loss: 0.1886 - acc: 0.9444\n",
      "Epoch 38/50\n",
      "360/360 [==============================] - 1s 3ms/step - loss: 0.1867 - acc: 0.9444\n",
      "Epoch 39/50\n",
      "360/360 [==============================] - 1s 3ms/step - loss: 0.1885 - acc: 0.9444\n",
      "Epoch 40/50\n",
      "360/360 [==============================] - 1s 3ms/step - loss: 0.1849 - acc: 0.9472\n",
      "Epoch 41/50\n",
      "360/360 [==============================] - 1s 4ms/step - loss: 0.1845 - acc: 0.9444\n",
      "Epoch 42/50\n",
      "360/360 [==============================] - 1s 3ms/step - loss: 0.1825 - acc: 0.9472\n",
      "Epoch 43/50\n",
      "360/360 [==============================] - 1s 4ms/step - loss: 0.1812 - acc: 0.9472\n",
      "Epoch 44/50\n",
      "360/360 [==============================] - 2s 5ms/step - loss: 0.1805 - acc: 0.9472\n",
      "Epoch 45/50\n",
      "360/360 [==============================] - 1s 4ms/step - loss: 0.1799 - acc: 0.9472\n",
      "Epoch 46/50\n",
      "360/360 [==============================] - 2s 4ms/step - loss: 0.1787 - acc: 0.9472\n",
      "Epoch 47/50\n",
      "360/360 [==============================] - 1s 4ms/step - loss: 0.1785 - acc: 0.9472\n",
      "Epoch 48/50\n",
      "360/360 [==============================] - 2s 4ms/step - loss: 0.1779 - acc: 0.9472\n",
      "Epoch 49/50\n",
      "360/360 [==============================] - 2s 5ms/step - loss: 0.1774 - acc: 0.9472\n",
      "Epoch 50/50\n",
      "360/360 [==============================] - 2s 5ms/step - loss: 0.1768 - acc: 0.9472\n"
     ]
    },
    {
     "data": {
      "text/plain": [
       "<tensorflow.python.keras.callbacks.History at 0x19f842da0>"
      ]
     },
     "execution_count": 14,
     "metadata": {},
     "output_type": "execute_result"
    }
   ],
   "source": [
    "model.fit(train_data, train_labels, epochs=50)"
   ]
  },
  {
   "cell_type": "code",
   "execution_count": 15,
   "metadata": {},
   "outputs": [
    {
     "name": "stdout",
     "output_type": "stream",
     "text": [
      "40/40 [==============================] - 0s 6ms/step\n",
      "Test accuracy: 0.8\n",
      "Test Loss: 0.5363540172576904\n"
     ]
    }
   ],
   "source": [
    "test_loss, test_acc = model.evaluate(check_data,check_labels)\n",
    "\n",
    "print('Test accuracy:', test_acc)\n",
    "print('Test Loss:', test_loss)"
   ]
  },
  {
   "cell_type": "code",
   "execution_count": 16,
   "metadata": {},
   "outputs": [],
   "source": [
    "stop = timeit.default_timer()"
   ]
  },
  {
   "cell_type": "code",
   "execution_count": 17,
   "metadata": {},
   "outputs": [
    {
     "name": "stdout",
     "output_type": "stream",
     "text": [
      "1426.2415983720057 seconds\n",
      "0.0 23.770693306200094 minutes\n",
      "0.39617822177000156 hours\n"
     ]
    }
   ],
   "source": [
    "acttime=stop - start\n",
    "\n",
    "print(str(acttime)+' seconds')\n",
    "print(0.0,str((acttime)/60)+' minutes')\n",
    "print(str((acttime)/3600)+' hours')"
   ]
  },
  {
   "cell_type": "code",
   "execution_count": 18,
   "metadata": {},
   "outputs": [],
   "source": [
    "predictions = model.predict(check_data)"
   ]
  },
  {
   "cell_type": "code",
   "execution_count": 19,
   "metadata": {},
   "outputs": [
    {
     "name": "stdout",
     "output_type": "stream",
     "text": [
      "[0.09435631 0.9056437 ] [1.000000e+00 7.770337e-12]\n",
      "1 0\n"
     ]
    }
   ],
   "source": [
    "print(predictions[0],predictions[-1])\n",
    "print(check_labels[0],check_labels[-1])\n",
    "#print(t)"
   ]
  },
  {
   "cell_type": "code",
   "execution_count": 20,
   "metadata": {},
   "outputs": [
    {
     "data": {
      "image/png": "[encoded data removed]",
      "text/plain": [
       "<Figure size 432x288 with 1 Axes>"
      ]
     },
     "metadata": {
      "needs_background": "light"
     },
     "output_type": "display_data"
    },
    {
     "data": {
      "image/png": "[encoded data removed]",
      "text/plain": [
       "<Figure size 432x288 with 1 Axes>"
      ]
     },
     "metadata": {
      "needs_background": "light"
     },
     "output_type": "display_data"
    }
   ],
   "source": [
    "plt.plot(predictions[0:20,1],'.')\n",
    "#plt.plot(predictions[:,1])\n",
    "plt.ylabel('BNS Confidence')\n",
    "plt.xlabel('Injection Number')\n",
    "plt.show()\n",
    "\n",
    "plt.plot(predictions[20:40,0],'.')\n",
    "#plt.plot(predictions[:,1])\n",
    "plt.ylabel('BBH Confidence')\n",
    "plt.xlabel('Injection Number')\n",
    "plt.show()"
   ]
  },
  {
   "cell_type": "code",
   "execution_count": null,
   "metadata": {},
   "outputs": [],
   "source": []
  },
  {
   "cell_type": "code",
   "execution_count": null,
   "metadata": {},
   "outputs": [],
   "source": []
  }
 ],
 "metadata": {
  "kernelspec": {
   "display_name": "Python 3",
   "language": "python",
   "name": "python3"
  },
  "language_info": {
   "codemirror_mode": {
    "name": "ipython",
    "version": 3
   },
   "file_extension": ".py",
   "mimetype": "text/x-python",
   "name": "python",
   "nbconvert_exporter": "python",
   "pygments_lexer": "ipython3",
   "version": "3.6.6"
  }
 },
 "nbformat": 4,
 "nbformat_minor": 2
}
