{
 "cells": [
  {
   "cell_type": "code",
   "execution_count": 1,
   "metadata": {},
   "outputs": [
    {
     "name": "stderr",
     "output_type": "stream",
     "text": [
      "PyCBC.libutils: pkg-config call failed, setting NO_PKGCONFIG=1\n"
     ]
    }
   ],
   "source": [
    "import pickle\n",
    "import numpy as np\n",
    "import pandas as pd\n",
    "from matplotlib import pyplot as plt\n",
    "import seaborn as sns\n",
    "import scipy.fftpack\n",
    "import glob,os\n",
    "import gwPaPa_func as gwpapa\n",
    "\n",
    "from sklearn.neighbors import KNeighborsClassifier\n",
    "from sklearn.model_selection import train_test_split\n",
    "from skimage.util.shape import view_as_windows\n",
    "\n",
    "import tensorflow as tf\n",
    "from tensorflow import keras\n",
    "\n",
    "import pickle\n",
    "from pycbc import frame,types\n",
    "import timeit"
   ]
  },
  {
   "cell_type": "code",
   "execution_count": 2,
   "metadata": {},
   "outputs": [],
   "source": [
    "###timer\n",
    "start = timeit.default_timer()"
   ]
  },
  {
   "cell_type": "code",
   "execution_count": 3,
   "metadata": {},
   "outputs": [],
   "source": [
    "BNS_test_path='data_BNS'\n",
    "BNS_check_path='data_BNS_check'\n",
    "BBH_test_path='data_BBH'\n",
    "BBH_check_path='data_BBH_check'"
   ]
  },
  {
   "cell_type": "code",
   "execution_count": 4,
   "metadata": {},
   "outputs": [],
   "source": [
    "injections_BNS = pickle.load(open(BNS_test_path+'/injections-BNS.p', \"rb\"))\n",
    "injections_BBH = pickle.load(open(BBH_test_path+'/injections-BBH.p', \"rb\"))\n",
    "injections_BNS_check = pickle.load(open(BNS_check_path+'/injections-BNS.p', \"rb\"))\n",
    "injections_BBH_check = pickle.load(open(BBH_check_path+'/injections-BBH.p', \"rb\"))"
   ]
  },
  {
   "cell_type": "code",
   "execution_count": 169,
   "metadata": {},
   "outputs": [
    {
     "data": {
      "text/plain": [
       "[{'sim-id': 'BNS-3',\n",
       "  'mass_1': 1.361394876088353,\n",
       "  'mass_2': 1.253389357877929,\n",
       "  'S1x': 0.0,\n",
       "  'S1y': 0.0,\n",
       "  'S1z': 0.0,\n",
       "  'S2x': 0.0,\n",
       "  'S2y': 0.0,\n",
       "  'S2z': 0.0,\n",
       "  'distance': 1000.0,\n",
       "  'inclination': 0.0,\n",
       "  'right_ascension': 0.3,\n",
       "  'declination': -0.4,\n",
       "  'psi': 0.0,\n",
       "  'phiRef': 0.0,\n",
       "  'lambda1': 0.0,\n",
       "  'lambda2': 0.0,\n",
       "  'f_min': 20.0,\n",
       "  'f_ref': 20.0,\n",
       "  'deltaT': 0.000244140625,\n",
       "  'start_time': 759,\n",
       "  'duration': 245},\n",
       " <pycbc.types.timeseries.TimeSeries at 0x136ee3668>]"
      ]
     },
     "execution_count": 169,
     "metadata": {},
     "output_type": "execute_result"
    }
   ],
   "source": [
    "injections_BNS[2]"
   ]
  },
  {
   "cell_type": "code",
   "execution_count": 168,
   "metadata": {},
   "outputs": [
    {
     "data": {
      "image/png": "[encoded data removed]",
      "text/plain": [
       "<Figure size 432x288 with 1 Axes>"
      ]
     },
     "metadata": {
      "needs_background": "light"
     },
     "output_type": "display_data"
    }
   ],
   "source": [
    "sample_rate=4096\n",
    "t=np.arange(0,400,1/sample_rate)\n",
    "\n",
    "try:\n",
    "    d0 =injections_BBH[2][1]\n",
    "    t0 = np.arange(0,len(d0)/sample_rate,1/sample_rate)\n",
    "    plt.plot(t0,d0)\n",
    "    plt.show()\n",
    "except:\n",
    "    pass"
   ]
  },
  {
   "cell_type": "code",
   "execution_count": 7,
   "metadata": {},
   "outputs": [
    {
     "name": "stdout",
     "output_type": "stream",
     "text": [
      "180\n",
      "180\n",
      "20\n",
      "20\n",
      "done\n"
     ]
    }
   ],
   "source": [
    "num_BNS_injections=len(injections_BNS)\n",
    "num_BBH_injections=len(injections_BBH)\n",
    "\n",
    "print(num_BNS_injections)\n",
    "print(num_BBH_injections)\n",
    "print(len(injections_BNS_check))\n",
    "print(len(injections_BBH_check))\n",
    "\n",
    "\n",
    "BNS_data=[]\n",
    "BBH_data=[]\n",
    "BNS_check_data=[]\n",
    "BBH_check_data=[]\n",
    "train_labels=[]\n",
    "check_labels=[]\n",
    "t0=50\n",
    "tl=1\n",
    "\n",
    "for i in range(len(injections_BNS)):\n",
    "    d = np.array(injections_BNS[i][1])\n",
    "    t = np.arange(0,len(d)/sample_rate,1/sample_rate)\n",
    "    BNS_data.append(gwpapa.twindow(t,d,t0,tl))\n",
    "    train_labels.append(1)\n",
    "    \n",
    "for i in range(len(injections_BNS_check)):\n",
    "    d = np.array(injections_BNS_check[i][1])\n",
    "    t = np.arange(0,len(d)/sample_rate,1/sample_rate)\n",
    "    BNS_check_data.append(gwpapa.twindow(t,d,t0,tl))\n",
    "    check_labels.append(1)\n",
    " \n",
    "t0=7\n",
    "tl=1\n",
    "\n",
    "for i in range(len(injections_BBH)):\n",
    "    d = np.array(injections_BBH[i][1])\n",
    "    t = np.arange(0,len(d)/sample_rate,1/sample_rate)\n",
    "    BBH_data.append(gwpapa.twindow(t,d,t0,tl))\n",
    "    train_labels.append(0)\n",
    "    \n",
    "for i in range(len(injections_BBH_check)):\n",
    "    d = np.array(injections_BBH_check[i][1])\n",
    "    t = np.arange(0,len(d)/sample_rate,1/sample_rate)\n",
    "    BBH_check_data.append(gwpapa.twindow(t,d,t0,tl))\n",
    "    check_labels.append(0)\n",
    "\n",
    "print('done')"
   ]
  },
  {
   "cell_type": "code",
   "execution_count": 8,
   "metadata": {},
   "outputs": [
    {
     "name": "stdout",
     "output_type": "stream",
     "text": [
      "[array([-5.31160811e-25, -5.18380959e-25, -5.05147085e-25, ...,\n",
      "        3.34305118e-25,  3.16466307e-25,  2.98330399e-25]), array([4.16018917e-25, 4.38817114e-25, 4.61100203e-25, ...,\n",
      "       2.35788887e-26, 4.99558353e-26, 7.61807129e-26]), array([-4.62009039e-25, -4.76726619e-25, -4.91008399e-25, ...,\n",
      "        6.35460334e-25,  6.42426025e-25,  6.48817923e-25]), array([-8.08501157e-25, -8.06473487e-25, -8.03804289e-25, ...,\n",
      "       -4.60983341e-25, -4.81088428e-25, -5.00850309e-25]), array([-2.82223294e-26, -2.75038202e-27,  2.26190456e-26, ...,\n",
      "       -6.36721277e-25, -6.19822529e-25, -6.02450142e-25]), array([6.59707800e-25, 6.74235928e-25, 6.88039044e-25, ...,\n",
      "       2.68535291e-26, 5.19269418e-26, 7.68529766e-26]), array([-8.05438520e-25, -8.19216155e-25, -8.32289891e-25, ...,\n",
      "       -9.30052418e-25, -9.29429537e-25, -9.27994127e-25]), array([-6.53262444e-25, -6.58909238e-25, -6.64008498e-25, ...,\n",
      "        6.80992913e-25,  6.78795409e-25,  6.75940558e-25]), array([-6.28123146e-25, -6.44871871e-25, -6.61123156e-25, ...,\n",
      "       -2.96167738e-25, -3.20143755e-25, -3.43923733e-25]), array([ 4.62800364e-25,  4.51364535e-25,  4.39572168e-25, ...,\n",
      "       -5.97688534e-25, -5.97628469e-25, -5.96994956e-25]), array([-2.95402651e-25, -3.13414001e-25, -3.31120452e-25, ...,\n",
      "        4.72012350e-25,  4.86247788e-25,  5.00068512e-25]), array([ 4.14326587e-25,  3.87446397e-25,  3.60145603e-25, ...,\n",
      "       -3.96068141e-25, -4.22975650e-25, -4.49529970e-25]), array([ 4.02118642e-25,  4.19921685e-25,  4.37273112e-25, ...,\n",
      "       -7.19613366e-25, -7.19835142e-25, -7.19468601e-25]), array([ 5.03425194e-25,  4.99331290e-25,  4.94772418e-25, ...,\n",
      "       -1.13113443e-25, -1.28094660e-25, -1.42993710e-25]), array([ 1.31502975e-25,  1.52888862e-25,  1.74084014e-25, ...,\n",
      "       -6.51737794e-25, -6.60944384e-25, -6.69598310e-25]), array([ 6.67709742e-25,  6.71067254e-25,  6.73833878e-25, ...,\n",
      "       -6.56152536e-25, -6.50510594e-25, -6.44264828e-25]), array([ 3.88000403e-25,  4.04118057e-25,  4.19778800e-25, ...,\n",
      "       -5.11782897e-25, -5.24384751e-25, -5.36605203e-25]), array([ 4.59343337e-25,  4.45332781e-25,  4.30875450e-25, ...,\n",
      "       -4.05619988e-25, -3.90088840e-25, -3.74251943e-25]), array([-9.15054293e-26, -6.43319958e-26, -3.71966239e-26, ...,\n",
      "        2.91060569e-26,  5.64827675e-26,  8.37069793e-26]), array([ 5.53246636e-25,  5.53166451e-25,  5.52593500e-25, ...,\n",
      "       -2.43339063e-25, -2.58001251e-25, -2.72442785e-25]), array([-4.35307326e-25, -4.52753932e-25, -4.69837030e-25, ...,\n",
      "        7.25279802e-25,  7.22212879e-25,  7.18439054e-25]), array([1.88468881e-25, 1.67668846e-25, 1.46605641e-25, ...,\n",
      "       4.59155562e-25, 4.75577569e-25, 4.91456263e-25]), array([3.68108143e-25, 3.42595623e-25, 3.16657874e-25, ...,\n",
      "       1.33234594e-25, 1.05595195e-25, 7.77536068e-26]), array([3.40458052e-25, 3.16494498e-25, 2.92130124e-25, ...,\n",
      "       6.06905093e-25, 5.88298276e-25, 5.69034133e-25]), array([ 6.60203152e-25,  6.54029580e-25,  6.47245257e-25, ...,\n",
      "       -4.69504199e-25, -4.54074089e-25, -4.38251319e-25]), array([6.03104623e-25, 6.21757055e-25, 6.39723424e-25, ...,\n",
      "       3.16854775e-25, 3.41427098e-25, 3.65573849e-25]), array([-4.59800207e-25, -4.43877919e-25, -4.27596390e-25, ...,\n",
      "        1.26050120e-25,  1.05377177e-25,  8.45691470e-26]), array([ 6.62564748e-25,  6.56887914e-25,  6.50617674e-25, ...,\n",
      "       -5.42006765e-25, -5.29043390e-25, -5.15602025e-25]), array([-6.41517931e-25, -6.35170239e-25, -6.28252127e-25, ...,\n",
      "        5.30007414e-25,  5.17269649e-25,  5.04064888e-25]), array([-6.21522317e-25, -6.22965763e-25, -6.23738068e-25, ...,\n",
      "        5.87015213e-25,  5.93116948e-25,  5.98803567e-25]), array([ 6.32037531e-25,  6.37509540e-25,  6.42439341e-25, ...,\n",
      "       -6.57524805e-25, -6.59490910e-25, -6.60831830e-25]), array([ 1.42674244e-25,  1.24359382e-25,  1.06001099e-25, ...,\n",
      "       -2.77953362e-25, -2.61031542e-25, -2.43808171e-25]), array([-3.89372346e-25, -4.06441336e-25, -4.23225745e-25, ...,\n",
      "        6.69271043e-25,  6.74690480e-25,  6.79415683e-25]), array([ 6.21248685e-26,  8.24533141e-26,  1.02598961e-25, ...,\n",
      "       -2.61853644e-25, -2.80572203e-25, -2.99144128e-25]), array([-5.03777348e-25, -4.86813352e-25, -4.69466382e-25, ...,\n",
      "       -4.38433798e-25, -4.56602250e-25, -4.74412000e-25]), array([-7.96678505e-25, -7.95642712e-25, -7.93966806e-25, ...,\n",
      "       -3.12357086e-25, -3.34538417e-25, -3.56502723e-25]), array([-4.39982027e-26, -2.46818394e-26, -5.39445437e-27, ...,\n",
      "        6.38012398e-26,  4.45131676e-26,  2.51332307e-26]), array([ 4.38715857e-25,  4.56597367e-25,  4.73988328e-25, ...,\n",
      "       -7.29063487e-25, -7.24385677e-25, -7.19117996e-25]), array([-2.55693854e-25, -2.36803128e-25, -2.17683187e-25, ...,\n",
      "        5.88019496e-26,  3.84811228e-26,  1.81431769e-26]), array([-4.73178937e-25, -4.76223079e-25, -4.78894420e-25, ...,\n",
      "       -2.92319667e-25, -2.80720986e-25, -2.68918182e-25]), array([-4.17880559e-25, -4.34218688e-25, -4.50222494e-25, ...,\n",
      "        6.62056098e-25,  6.67892959e-25,  6.73067598e-25]), array([ 4.05055890e-25,  3.92549819e-25,  3.79720634e-25, ...,\n",
      "       -5.80393050e-25, -5.80161169e-25, -5.79391635e-25]), array([-4.62118893e-26, -2.59567096e-26, -5.68472150e-27, ...,\n",
      "       -1.97125636e-25, -2.16504917e-25, -2.35693537e-25]), array([ 7.27506041e-25,  7.23680952e-25,  7.19140581e-25, ...,\n",
      "       -1.70255346e-25, -1.48419924e-25, -1.26502347e-25]), array([ 5.86257655e-25,  5.75887364e-25,  5.65006197e-25, ...,\n",
      "       -4.33310670e-25, -4.17476632e-25, -4.01256571e-25]), array([-4.66100458e-25, -4.80453084e-25, -4.94361911e-25, ...,\n",
      "        5.96636451e-25,  6.05787222e-25,  6.14404151e-25]), array([ 6.26506073e-25,  6.39465287e-25,  6.51731508e-25, ...,\n",
      "       -4.48171758e-25, -4.29115594e-25, -4.09770071e-25]), array([7.55542787e-25, 7.63274595e-25, 7.70196052e-25, ...,\n",
      "       1.26926460e-25, 1.51051181e-25, 1.74931338e-25]), array([-2.54428526e-25, -2.67770903e-25, -2.80877583e-25, ...,\n",
      "       -4.26945322e-25, -4.17857201e-25, -4.08401383e-25]), array([-8.12722817e-25, -8.02960654e-25, -7.92475352e-25, ...,\n",
      "       -8.70299594e-25, -8.70066897e-25, -8.69045228e-25]), array([-1.76720022e-25, -1.97858016e-25, -2.18870574e-25, ...,\n",
      "        6.79644350e-25,  6.87235047e-25,  6.94146040e-25]), array([2.45975413e-25, 2.73228700e-25, 3.00125014e-25, ...,\n",
      "       6.98483043e-25, 7.16806286e-25, 7.34347217e-25]), array([ 7.06487481e-25,  7.02934256e-25,  6.98666584e-25, ...,\n",
      "       -3.31750212e-25, -3.12401519e-25, -2.92842058e-25]), array([1.06141636e-25, 8.54394596e-26, 6.46443263e-26, ...,\n",
      "       2.66248050e-25, 2.85525802e-25, 3.04530642e-25]), array([-1.23805237e-25, -9.96558511e-26, -7.55084183e-26, ...,\n",
      "       -7.50872557e-25, -7.41902754e-25, -7.32336516e-25]), array([ 2.27154670e-26,  4.32468788e-27, -1.40332265e-26, ...,\n",
      "       -2.28152007e-25, -2.10940197e-25, -1.93503360e-25]), array([-7.44166068e-25, -7.49128084e-25, -7.53501289e-25, ...,\n",
      "        2.94902670e-25,  2.73374712e-25,  2.51499925e-25]), array([ 5.22933364e-25,  5.13535158e-25,  5.03722068e-25, ...,\n",
      "       -6.07190941e-25, -6.06894681e-25, -6.06017435e-25]), array([-4.25040937e-25, -4.12940817e-25, -4.00440621e-25, ...,\n",
      "        5.84594677e-25,  5.85370566e-25,  5.85663112e-25]), array([ 5.07918365e-25,  5.17082096e-25,  5.25813689e-25, ...,\n",
      "       -2.93841412e-25, -3.09291293e-25, -3.24439087e-25]), array([-3.13336829e-25, -3.26950592e-25, -3.40273341e-25, ...,\n",
      "       -2.35405598e-25, -2.20199920e-25, -2.04796785e-25]), array([ 6.73970849e-25,  6.76726820e-25,  6.78873457e-25, ...,\n",
      "       -6.37307267e-25, -6.29655467e-25, -6.21430551e-25]), array([7.03831738e-25, 6.95138059e-25, 6.85723693e-25, ...,\n",
      "       9.31780763e-26, 1.15974049e-25, 1.38579562e-25]), array([-7.11425988e-25, -7.07912628e-25, -7.03796351e-25, ...,\n",
      "        3.55288458e-25,  3.36225833e-25,  3.16818533e-25]), array([ 5.63911750e-25,  5.75706305e-25,  5.86971295e-25, ...,\n",
      "       -6.92549724e-25, -6.92913528e-25, -6.92656956e-25]), array([8.48643385e-25, 8.44847878e-25, 8.40156283e-25, ...,\n",
      "       8.46354834e-25, 8.50293912e-25, 8.53328056e-25]), array([-7.93370810e-26, -9.79834436e-26, -1.16462963e-25, ...,\n",
      "       -2.82948506e-26, -9.48480113e-27,  9.41342142e-27]), array([-6.36319839e-25, -6.31487050e-25, -6.26041622e-25, ...,\n",
      "        6.05351450e-25,  5.97520051e-25,  5.89197677e-25]), array([-2.40953342e-25, -2.19133698e-25, -1.97202511e-25, ...,\n",
      "       -6.80785156e-25, -6.90454828e-25, -6.99577231e-25]), array([ 3.58363327e-25,  3.79383070e-25,  3.99952152e-25, ...,\n",
      "       -5.70577994e-25, -5.53881759e-25, -5.36773576e-25]), array([ 5.95749770e-25,  5.92689416e-25,  5.89142620e-25, ...,\n",
      "       -5.76423071e-25, -5.81549059e-25, -5.86116764e-25]), array([-6.49738739e-25, -6.42919187e-25, -6.35534509e-25, ...,\n",
      "        4.48812500e-25,  4.32997682e-25,  4.16777064e-25]), array([ 5.06328962e-25,  4.97437471e-25,  4.88138040e-25, ...,\n",
      "       -5.73029955e-25, -5.76272879e-25, -5.78972554e-25]), array([ 6.74292270e-25,  6.80520231e-25,  6.86106936e-25, ...,\n",
      "       -6.18463859e-25, -6.07683843e-25, -5.96373196e-25]), array([-3.82137829e-25, -3.63710967e-25, -3.44989060e-25, ...,\n",
      "       -1.73282548e-25, -1.94190960e-25, -2.14955623e-25]), array([-5.39181383e-26, -3.29158427e-26, -1.19834304e-26, ...,\n",
      "       -4.10451677e-25, -4.27270873e-25, -4.43799712e-25]), array([4.09113663e-25, 3.84158253e-25, 3.58740931e-25, ...,\n",
      "       2.52427893e-25, 2.25514023e-25, 1.98286369e-25]), array([7.28521945e-25, 7.38679881e-25, 7.48051496e-25, ...,\n",
      "       5.38802954e-26, 7.84484198e-26, 1.02841316e-25]), array([-5.27023019e-25, -5.10858782e-25, -4.94289045e-25, ...,\n",
      "       -3.24932664e-25, -3.45083762e-25, -3.64977736e-25]), array([-2.99345495e-25, -2.80296127e-25, -2.61083413e-25, ...,\n",
      "       -7.09470249e-26, -9.17398593e-26, -1.12537323e-25]), array([-2.18009375e-25, -2.02901472e-25, -1.87615934e-25, ...,\n",
      "        5.52123031e-25,  5.52139543e-25,  5.51669058e-25]), array([ 6.47337432e-25,  6.52818308e-25,  6.57699707e-25, ...,\n",
      "       -6.68380026e-25, -6.64964896e-25, -6.60957666e-25]), array([-5.82525865e-25, -5.62950988e-25, -5.42955703e-25, ...,\n",
      "       -7.98650604e-25, -7.88470982e-25, -7.77656297e-25]), array([-4.67039907e-25, -4.49751129e-25, -4.32103960e-25, ...,\n",
      "       -3.26954218e-25, -3.46665130e-25, -3.66108661e-25]), array([-4.55991226e-25, -4.65218396e-25, -4.74013290e-25, ...,\n",
      "       -9.66507347e-26, -8.03567937e-26, -6.39686276e-26]), array([8.21300910e-25, 8.13312218e-25, 8.04464180e-25, ...,\n",
      "       8.41706212e-25, 8.46827614e-25, 8.51054223e-25]), array([ 3.81735518e-25,  3.97631705e-25,  4.13129945e-25, ...,\n",
      "       -4.37649612e-25, -4.52212369e-25, -4.66407671e-25]), array([-4.70288984e-25, -4.55085505e-25, -4.39483100e-25, ...,\n",
      "        2.06738592e-25,  1.86944974e-25,  1.66972577e-25]), array([ 6.78212112e-25,  6.75752806e-25,  6.72595980e-25, ...,\n",
      "       -5.81489824e-25, -5.70391087e-25, -5.58862684e-25]), array([-7.08599035e-25, -7.13465318e-25, -7.17795299e-25, ...,\n",
      "        5.03152964e-25,  4.86959413e-25,  4.70208755e-25]), array([ 1.37992215e-25,  1.61818850e-25,  1.85403135e-25, ...,\n",
      "       -6.83611521e-25, -6.70684963e-25, -6.57228444e-25]), array([ 3.58015452e-25,  3.46416600e-25,  3.34493365e-25, ...,\n",
      "       -4.29512279e-25, -4.38422070e-25, -4.46969277e-25]), array([-1.35843236e-25, -1.17625045e-25, -9.92365869e-26, ...,\n",
      "        3.39358475e-25,  3.23463907e-25,  3.07346671e-25]), array([ 4.40350009e-25,  4.25028250e-25,  4.09354269e-25, ...,\n",
      "       -2.23466846e-25, -2.04393681e-25, -1.85104176e-25]), array([7.78570324e-25, 7.73178151e-25, 7.66976936e-25, ...,\n",
      "       4.61433843e-25, 4.81088723e-25, 5.00202103e-25]), array([-7.42313622e-25, -7.52758334e-25, -7.62605777e-25, ...,\n",
      "       -2.68653825e-25, -2.92297359e-25, -3.15769280e-25]), array([-3.73850615e-25, -3.61953702e-25, -3.49721892e-25, ...,\n",
      "        5.08047127e-25,  5.13700729e-25,  5.18918945e-25]), array([-3.17546852e-25, -2.98046464e-25, -2.78330117e-25, ...,\n",
      "       -2.31377045e-25, -2.51736045e-25, -2.71918399e-25]), array([ 6.46934483e-25,  6.49107816e-25,  6.50749641e-25, ...,\n",
      "       -6.50916435e-25, -6.52272687e-25, -6.52992098e-25]), array([ 4.87090890e-25,  5.00770453e-25,  5.13988322e-25, ...,\n",
      "       -6.33607782e-25, -6.40146491e-25, -6.46115240e-25]), array([ 5.05527890e-25,  5.17377566e-25,  5.28637748e-25, ...,\n",
      "       -5.21449025e-25, -5.32610655e-25, -5.43417142e-25]), array([ 1.32148649e-25,  1.13090136e-25,  9.38922488e-26, ...,\n",
      "       -1.53768819e-25, -1.34743738e-25, -1.15633660e-25]), array([ 1.91506668e-26,  4.15164899e-26,  6.37863271e-26, ...,\n",
      "       -7.20839040e-25, -7.25664544e-25, -7.29880560e-25]), array([-6.42265661e-25, -6.37455905e-25, -6.32054788e-25, ...,\n",
      "        5.79005662e-25,  5.69164922e-25,  5.58830538e-25]), array([-1.64516866e-25, -1.90984582e-25, -2.17374488e-25, ...,\n",
      "       -1.20843381e-25, -1.47678306e-25, -1.74475532e-25]), array([ 5.38076303e-25,  5.30372630e-25,  5.22224123e-25, ...,\n",
      "       -5.86427189e-25, -5.89041191e-25, -5.91106386e-25]), array([ 5.04534768e-25,  5.18855157e-25,  5.32662948e-25, ...,\n",
      "       -6.95148047e-25, -6.97215046e-25, -6.98690781e-25]), array([1.40896927e-25, 1.20156112e-25, 9.92711972e-26, ...,\n",
      "       2.77427981e-25, 2.96803870e-25, 3.15876761e-25]), array([-2.22098929e-25, -2.00891844e-25, -1.79564809e-25, ...,\n",
      "       -5.70111774e-25, -5.83793697e-25, -5.97002533e-25]), array([-6.65363318e-25, -6.54644135e-25, -6.43394077e-25, ...,\n",
      "       -1.17944722e-25, -1.40289264e-25, -1.62570385e-25]), array([8.20566200e-25, 8.16060419e-25, 8.10689420e-25, ...,\n",
      "       7.45492772e-25, 7.56600579e-25, 7.66895436e-25]), array([-4.09325742e-25, -3.95765760e-25, -3.81809710e-25, ...,\n",
      "        5.53122561e-25,  5.45257869e-25,  5.36951024e-25]), array([-1.16158102e-25, -9.98762632e-26, -8.34941332e-26, ...,\n",
      "        5.33004281e-25,  5.27626704e-25,  5.21795616e-25]), array([ 3.44429175e-25,  3.60812248e-25,  3.76904121e-25, ...,\n",
      "       -4.12959292e-25, -4.27938679e-25, -4.42499445e-25]), array([-1.47059714e-25, -1.25147650e-25, -1.03232059e-25, ...,\n",
      "       -6.13884892e-25, -6.25932688e-25, -6.37517214e-25]), array([ 1.13686416e-25,  1.37222121e-25,  1.60527462e-25, ...,\n",
      "       -7.39421069e-25, -7.30955059e-25, -7.21916357e-25]), array([ 7.16550109e-25,  7.26008486e-25,  7.34692812e-25, ...,\n",
      "       -2.45712907e-25, -2.22840918e-25, -1.99869536e-25]), array([4.07679186e-25, 3.86388667e-25, 3.64636909e-25, ...,\n",
      "       7.99072116e-25, 8.02494731e-25, 8.05069236e-25]), array([-5.24981383e-25, -5.14576935e-25, -5.03649535e-25, ...,\n",
      "        5.82967157e-25,  5.75736327e-25,  5.68054677e-25]), array([ 4.95298243e-25,  4.87657632e-25,  4.79582278e-25, ...,\n",
      "       -4.66633538e-25, -4.75387341e-25, -4.83727464e-25]), array([-2.42858217e-26, -1.25253322e-27,  2.16731250e-26, ...,\n",
      "       -7.57371360e-25, -7.59033601e-25, -7.60104959e-25]), array([ 1.78233570e-25,  1.59169584e-25,  1.39993175e-25, ...,\n",
      "       -1.19290448e-25, -9.98078498e-26, -8.02040131e-26]), array([ 7.34467792e-25,  7.44305380e-25,  7.53349594e-25, ...,\n",
      "       -1.15325996e-26,  1.31339939e-26,  3.76828598e-26]), array([-4.48512009e-25, -4.34760084e-25, -4.20588582e-25, ...,\n",
      "        5.24029728e-25,  5.12814465e-25,  5.01172939e-25]), array([-4.66624505e-25, -4.48831857e-25, -4.30702350e-25, ...,\n",
      "       -3.68517149e-25, -3.87958639e-25, -4.07115721e-25]), array([-8.00738941e-26, -5.61929245e-26, -3.23488583e-26, ...,\n",
      "       -7.76530131e-25, -7.71774620e-25, -7.66391999e-25]), array([-5.47849592e-25, -5.52866768e-25, -5.57378164e-25, ...,\n",
      "        1.79155198e-25,  1.95359672e-25,  2.11409777e-25]), array([-5.04684968e-26, -3.34359034e-26, -1.63629337e-26, ...,\n",
      "        4.75068039e-25,  4.65159274e-25,  4.54849431e-25]), array([-1.80524081e-25, -1.56526071e-25, -1.32488136e-25, ...,\n",
      "       -7.67245658e-25, -7.59253770e-25, -7.50660194e-25]), array([ 7.17391929e-25,  7.13662716e-25,  7.09225285e-25, ...,\n",
      "       -3.00327234e-25, -2.80139415e-25, -2.59753611e-25]), array([-4.48329031e-25, -4.63843974e-25, -4.78951269e-25, ...,\n",
      "        6.35988518e-25,  6.43794489e-25,  6.51008972e-25]), array([ 5.95761535e-25,  5.89421800e-25,  5.82607145e-25, ...,\n",
      "       -6.23679220e-25, -6.20713247e-25, -6.17139656e-25]), array([-3.78592938e-25, -3.95881936e-25, -4.12904492e-25, ...,\n",
      "        6.61727912e-25,  6.67923882e-25,  6.73423469e-25]), array([-5.97060245e-25, -5.83140225e-25, -5.68753578e-25, ...,\n",
      "       -3.04575778e-25, -3.25141842e-25, -3.45474322e-25]), array([-4.47728801e-25, -4.64851883e-25, -4.81601658e-25, ...,\n",
      "        7.05253996e-25,  6.99278194e-25,  6.92613312e-25]), array([-3.89807205e-26, -1.51638884e-26,  8.57488863e-27, ...,\n",
      "       -7.70544173e-25, -7.65551447e-25, -7.59941203e-25]), array([-2.83524746e-25, -2.98507534e-25, -3.13201828e-25, ...,\n",
      "       -1.28042119e-25, -1.11077137e-25, -9.39892390e-26]), array([ 3.65241865e-25,  3.52152097e-25,  3.38763649e-25, ...,\n",
      "       -5.67855721e-25, -5.68736630e-25, -5.69103218e-25]), array([ 3.74027414e-25,  3.95298636e-25,  4.16104020e-25, ...,\n",
      "       -5.65357605e-25, -5.47851450e-25, -5.29938442e-25]), array([ 9.98025845e-26,  8.26415379e-26,  6.54285111e-26, ...,\n",
      "       -4.38761651e-25, -4.27072466e-25, -4.14983032e-25]), array([-6.11173445e-25, -6.11741911e-25, -6.11729275e-25, ...,\n",
      "        5.24615528e-25,  5.33802655e-25,  5.42552326e-25]), array([8.68510792e-25, 8.79049112e-25, 8.88667863e-25, ...,\n",
      "       8.41599964e-25, 8.28295973e-25, 8.14115363e-25]), array([ 6.95381123e-25,  7.00056231e-25,  7.04058393e-25, ...,\n",
      "       -5.37991012e-25, -5.23463746e-25, -5.08494104e-25]), array([ 7.15021867e-25,  7.16104627e-25,  7.16429751e-25, ...,\n",
      "       -5.45217265e-25, -5.30839684e-25, -5.16086659e-25]), array([-1.78028284e-25, -1.62471752e-25, -1.46778087e-25, ...,\n",
      "        5.52627045e-25,  5.52201166e-25,  5.51283751e-25]), array([ 6.50050987e-25,  6.52766870e-25,  6.54808733e-25, ...,\n",
      "       -6.58593078e-25, -6.58262306e-25, -6.57424875e-25]), array([-1.55619138e-25, -1.79074179e-25, -2.02466246e-25, ...,\n",
      "        6.54359907e-25,  6.40471993e-25,  6.25887699e-25]), array([-5.91396463e-25, -5.83177756e-25, -5.74414596e-25, ...,\n",
      "        5.65818794e-25,  5.55992540e-25,  5.45689424e-25]), array([-2.32860637e-25, -2.15150619e-25, -1.97157944e-25, ...,\n",
      "        3.21522813e-25,  3.04906188e-25,  2.88106954e-25]), array([-2.91440535e-25, -3.08783103e-25, -3.25820340e-25, ...,\n",
      "        3.15206517e-25,  3.32199290e-25,  3.48923656e-25]), array([ 6.88747171e-26,  9.09099324e-26,  1.12801473e-25, ...,\n",
      "       -6.78851568e-25, -6.87021735e-25, -6.94623032e-25]), array([ 3.00457151e-25,  3.18589489e-25,  3.36427732e-25, ...,\n",
      "       -5.45039826e-25, -5.57000253e-25, -5.68461778e-25]), array([7.87723057e-25, 7.99990946e-25, 8.11402319e-25, ...,\n",
      "       8.06354557e-25, 8.17612073e-25, 8.27992257e-25]), array([1.11689958e-25, 8.74218883e-26, 6.29681729e-26, ...,\n",
      "       7.74796179e-25, 7.67520165e-25, 7.59427602e-25]), array([ 4.29034056e-27,  2.65877704e-26,  4.87913123e-26, ...,\n",
      "       -6.44294484e-25, -6.54934094e-25, -6.65043292e-25]), array([8.12542323e-25, 8.02939033e-25, 7.92479627e-25, ...,\n",
      "       8.62975812e-25, 8.59499578e-25, 8.55110045e-25]), array([ 7.19701820e-25,  7.21380753e-25,  7.22361972e-25, ...,\n",
      "       -4.71368428e-25, -4.54538502e-25, -4.37334496e-25]), array([-7.58012644e-25, -7.55714668e-25, -7.52803605e-25, ...,\n",
      "        7.51355434e-26,  5.21554170e-26,  2.90505068e-26]), array([ 7.54622733e-25,  7.54809241e-25,  7.54218416e-25, ...,\n",
      "       -6.56764192e-26, -4.27508427e-26, -1.98699601e-26]), array([-7.17845137e-25, -7.22455383e-25, -7.26460860e-25, ...,\n",
      "        4.05308748e-25,  3.86494025e-25,  3.67272416e-25]), array([ 6.72336676e-25,  6.69197400e-25,  6.65417440e-25, ...,\n",
      "       -5.79677285e-25, -5.68698857e-25, -5.57242193e-25]), array([-1.91589590e-25, -1.71632689e-25, -1.51537486e-25, ...,\n",
      "       -2.03710185e-25, -2.23436507e-25, -2.42975302e-25]), array([-8.01485203e-25, -7.98380040e-25, -7.94641172e-25, ...,\n",
      "       -4.12022981e-25, -4.32946318e-25, -4.53571393e-25]), array([1.47643073e-25, 1.27473993e-25, 1.07185894e-25, ...,\n",
      "       1.63682147e-25, 1.83676221e-25, 2.03501575e-25]), array([-1.51698292e-25, -1.33528522e-25, -1.15138871e-25, ...,\n",
      "        2.83011301e-25,  2.66077602e-25,  2.49006262e-25]), array([ 1.04808101e-25,  8.68880525e-26,  6.89305639e-26, ...,\n",
      "       -3.21879673e-25, -3.06323425e-25, -2.90454015e-25]), array([1.29747816e-25, 1.57416457e-25, 1.84836792e-25, ...,\n",
      "       4.96087201e-25, 5.19470492e-25, 5.42259562e-25]), array([-3.50464897e-26, -9.77464171e-27,  1.54011193e-26, ...,\n",
      "       -5.41987802e-25, -5.22517361e-25, -5.02662972e-25]), array([-4.42405859e-25, -4.17903739e-25, -3.93101803e-25, ...,\n",
      "       -2.24194176e-25, -1.96976481e-25, -1.69667028e-25]), array([-5.91537501e-25, -5.95332852e-25, -5.98556043e-25, ...,\n",
      "        4.18985514e-25,  4.31902721e-25,  4.44480308e-25]), array([8.00905925e-25, 8.05951232e-25, 8.10148158e-25, ...,\n",
      "       2.99717050e-25, 3.22964571e-25, 3.45810315e-25]), array([ 4.84177062e-25,  4.99378160e-25,  5.14091851e-25, ...,\n",
      "       -7.05625650e-25, -7.05214820e-25, -7.04195010e-25]), array([2.27983998e-25, 2.03172897e-25, 1.78097415e-25, ...,\n",
      "       6.16711275e-25, 5.98847352e-25, 5.80346618e-25]), array([5.13495707e-25, 4.93673903e-25, 4.73292885e-25, ...,\n",
      "       8.25832112e-25, 8.25244695e-25, 8.23787568e-25]), array([-7.72277830e-25, -7.68271316e-25, -7.63646924e-25, ...,\n",
      "       -1.47731767e-25, -1.70963360e-25, -1.94123459e-25]), array([ 6.78450978e-25,  6.74042924e-25,  6.69016530e-25, ...,\n",
      "       -5.02306216e-25, -4.87694507e-25, -4.72648847e-25]), array([-7.00848422e-25, -6.88872388e-25, -6.76361980e-25, ...,\n",
      "       -5.46700577e-25, -5.64158893e-25, -5.81194351e-25]), array([-5.68336332e-26, -8.13246818e-26, -1.05837002e-25, ...,\n",
      "        6.13963484e-25,  5.97579844e-25,  5.80543965e-25]), array([-8.29583728e-26, -9.94797576e-26, -1.15909408e-25, ...,\n",
      "       -4.35430023e-25, -4.24544172e-25, -4.13279538e-25]), array([-4.37838947e-25, -4.22440951e-25, -4.06649730e-25, ...,\n",
      "        2.99974599e-25,  2.81797309e-25,  2.63380981e-25])]\n",
      "180\n",
      "4095 4095\n",
      "[array([8.17946428e-25, 8.00289893e-25, 7.81999660e-25, ...,\n",
      "       3.15115465e-24, 3.15484124e-24, 3.15613873e-24]), array([ 7.78344787e-26, -1.10943119e-26, -1.00086817e-25, ...,\n",
      "        5.37777765e-25,  3.32366773e-25,  1.26640307e-25]), array([-1.39614009e-23, -1.36069088e-23, -1.32422978e-23, ...,\n",
      "        7.86210146e-25,  1.55120171e-24,  2.31489664e-24]), array([-1.92026170e-24, -1.95701902e-24, -1.99231292e-24, ...,\n",
      "       -4.32556962e-24, -4.42450635e-24, -4.52000209e-24]), array([-9.99513989e-23, -9.86977084e-23, -9.73505441e-23, ...,\n",
      "        7.51933124e-25,  2.79877610e-24,  3.94359071e-24]), array([-2.15668106e-23, -2.17900821e-23, -2.19978162e-23, ...,\n",
      "       -2.90219344e-23, -2.86538581e-23, -2.82615520e-23]), array([1.99642918e-24, 2.01819228e-24, 2.03846755e-24, ...,\n",
      "       5.77546543e-25, 7.65589272e-25, 9.53095926e-25]), array([5.19014970e-24, 5.13872998e-24, 5.08342542e-24, ...,\n",
      "       8.63596152e-24, 8.47729546e-24, 8.31193251e-24]), array([-2.99772493e-23, -3.04129464e-23, -3.08244548e-23, ...,\n",
      "        2.44597331e-24,  3.56983586e-24,  4.69028306e-24]), array([-1.68283066e-25, -1.49432797e-25, -1.30433889e-25, ...,\n",
      "       -2.55101570e-24, -2.54571444e-24, -2.53843265e-24]), array([-2.25225756e-23, -1.71900452e-23, -1.06934508e-23, ...,\n",
      "        0.00000000e+00,  0.00000000e+00,  0.00000000e+00]), array([-6.99699483e-24, -8.14067300e-24, -7.91245262e-24, ...,\n",
      "        0.00000000e+00,  0.00000000e+00,  0.00000000e+00]), array([-8.98949149e-25, -9.12696598e-25, -9.25803413e-25, ...,\n",
      "        2.13604026e-24,  2.04267055e-24,  1.94769921e-24]), array([1.51115350e-23, 1.44608028e-23, 1.21423975e-23, ...,\n",
      "       0.00000000e+00, 0.00000000e+00, 0.00000000e+00]), array([7.56582466e-25, 6.73784556e-25, 5.90429304e-25, ...,\n",
      "       9.48493203e-24, 9.53408006e-24, 9.57597648e-24]), array([ 5.13775474e-24,  7.01213129e-24,  8.88099341e-24, ...,\n",
      "       -2.61550893e-24, -5.47244630e-24, -8.32290343e-24]), array([2.30933092e-23, 2.26309319e-23, 2.21509706e-23, ...,\n",
      "       2.96456716e-23, 2.97238842e-23, 2.97749111e-23]), array([1.60996931e-24, 1.55484785e-24, 1.49851407e-24, ...,\n",
      "       6.58463879e-24, 6.53283148e-24, 6.47595389e-24]), array([-6.22836960e-25, -5.87995606e-25, -5.52545923e-25, ...,\n",
      "       -2.29240822e-24, -2.21205591e-24, -2.12976455e-24]), array([1.32878958e-23, 1.30955439e-23, 1.28937501e-23, ...,\n",
      "       2.29625733e-23, 2.33881869e-23, 2.37950729e-23]), array([ 7.57725047e-23,  7.68317776e-23,  7.77987045e-23, ...,\n",
      "       -2.14107795e-24, -1.17879748e-24, -9.52121233e-26]), array([-7.33644724e-24, -7.39447168e-24, -7.44703406e-24, ...,\n",
      "       -1.37664154e-23, -1.38434987e-23, -1.39096520e-23]), array([-6.92890313e-25, -6.96550742e-25, -6.99635636e-25, ...,\n",
      "       -7.08778688e-25, -7.69784059e-25, -8.30119961e-25]), array([-3.42224367e-25, -2.87665861e-25, -2.32846364e-25, ...,\n",
      "       -2.40303480e-24, -2.27150423e-24, -2.13814953e-24]), array([-7.61699507e-24, -7.90646839e-24, -6.89052131e-24, ...,\n",
      "        0.00000000e+00,  0.00000000e+00,  0.00000000e+00]), array([-2.45614835e-23, -2.49384138e-23, -2.52961840e-23, ...,\n",
      "        8.26621586e-25, -6.91815346e-26, -9.64963119e-25]), array([-4.29600578e-23, -4.31222871e-23, -4.32497765e-23, ...,\n",
      "       -1.07185774e-23, -1.22506425e-23, -1.37696806e-23]), array([1.08412879e-23, 1.06031935e-23, 1.03574047e-23, ...,\n",
      "       2.13607854e-23, 2.18397492e-23, 2.23013457e-23]), array([9.17381289e-25, 8.96894902e-25, 8.75954225e-25, ...,\n",
      "       2.98034390e-24, 2.95393184e-24, 2.92554467e-24]), array([-8.59560737e-24, -8.45695624e-24, -8.31198905e-24, ...,\n",
      "       -1.54179282e-23, -1.51676121e-23, -1.49052018e-23]), array([1.53299867e-25, 1.02051000e-25, 5.06694120e-26, ...,\n",
      "       6.97089205e-24, 6.96347976e-24, 6.95076005e-24]), array([-1.78478399e-24, -1.81579795e-24, -1.84548401e-24, ...,\n",
      "       -3.74473244e-24, -3.85173109e-24, -3.95577641e-24]), array([-1.11179011e-23, -1.12761610e-23, -1.14264105e-23, ...,\n",
      "       -7.03901036e-24, -7.67018001e-24, -8.29527461e-24]), array([-3.87271056e-24, -3.83634589e-24, -3.79716087e-24, ...,\n",
      "       -5.10362972e-24, -5.42095082e-24, -5.73419874e-24]), array([-8.14526185e-24, -8.20239483e-24, -8.25343538e-24, ...,\n",
      "       -1.40513435e-23, -1.39926367e-23, -1.39228008e-23]), array([ 6.48410559e-25,  6.80637109e-25,  7.12371130e-25, ...,\n",
      "       -4.29704579e-24, -4.22239682e-24, -4.14452905e-24]), array([ 3.70615650e-23,  3.57482326e-23,  3.44007278e-23, ...,\n",
      "       -3.91946945e-23, -3.70478591e-23, -3.48423783e-23]), array([-8.14035458e-25, -7.46986861e-25, -6.79390241e-25, ...,\n",
      "       -3.69534079e-24, -3.54683399e-24, -3.39559433e-24]), array([-5.18543704e-23, -4.95181145e-23, -4.71287275e-23, ...,\n",
      "        5.80912250e-26,  1.82160966e-24,  3.07023437e-24]), array([-9.30554592e-24, -7.18905469e-24, -4.41164907e-24, ...,\n",
      "        0.00000000e+00,  0.00000000e+00,  0.00000000e+00]), array([-6.78957724e-25, -6.41403306e-25, -6.03380577e-25, ...,\n",
      "       -3.34603371e-24, -3.27676476e-24, -3.20495148e-24]), array([ 3.25820461e-23,  3.27802129e-23,  3.29519077e-23, ...,\n",
      "       -3.31204428e-23, -3.35348099e-23, -3.39158098e-23]), array([5.81988005e-23, 5.87955626e-23, 5.93428560e-23, ...,\n",
      "       6.54024530e-23, 6.40107244e-23, 6.25301189e-23]), array([ 6.44168012e-23,  6.65544726e-23,  6.86198900e-23, ...,\n",
      "        8.91038366e-25, -6.62500201e-25, -1.81156582e-24]), array([-1.81789162e-23, -1.82475138e-23, -1.83024475e-23, ...,\n",
      "        7.89700406e-24,  8.48998017e-24,  9.07581168e-24]), array([-4.54248367e-24, -6.95110765e-24, -7.99890259e-24, ...,\n",
      "        0.00000000e+00,  0.00000000e+00,  0.00000000e+00]), array([ 2.98359651e-25,  3.29924083e-25,  3.61239455e-25, ...,\n",
      "       -3.01598037e-24, -2.94470115e-24, -2.87116110e-24]), array([3.48510300e-24, 4.29057859e-24, 4.13807025e-24, ...,\n",
      "       0.00000000e+00, 0.00000000e+00, 0.00000000e+00]), array([-9.54513866e-23, -9.66930510e-23, -9.78434472e-23, ...,\n",
      "        2.95830976e-24,  4.45540262e-24,  4.94804666e-24]), array([-4.99293347e-23, -4.74955869e-23, -4.50041262e-23, ...,\n",
      "       -1.91861864e-24, -1.19305503e-24, -2.39551742e-25]), array([-2.74835786e-23, -2.69731336e-23, -2.64399715e-23, ...,\n",
      "       -3.38319299e-23, -3.41315626e-23, -3.43957795e-23]), array([-2.82601948e-23, -2.87655677e-23, -2.92503058e-23, ...,\n",
      "        2.22792142e-23,  2.32421332e-23,  2.41843589e-23]), array([ 4.11690345e-23,  3.85991088e-23,  3.59809580e-23, ...,\n",
      "       -1.10541233e-24, -1.50419449e-25,  6.71944068e-25]), array([ 1.27749316e-23,  1.25802050e-23,  1.23758065e-23, ...,\n",
      "       -1.67108593e-23, -1.67748928e-23, -1.68249082e-23]), array([-1.23898270e-23, -1.23794592e-23, -1.23598362e-23, ...,\n",
      "       -9.39313848e-24, -8.96585187e-24, -8.53127617e-24]), array([-5.72535474e-24, -7.58909712e-24, -8.05880648e-24, ...,\n",
      "        0.00000000e+00,  0.00000000e+00,  0.00000000e+00]), array([ 5.92106428e-23,  5.94017985e-23,  5.95415171e-23, ...,\n",
      "       -6.17340530e-23, -6.30427086e-23, -6.42621098e-23]), array([1.63654472e-24, 1.64968430e-24, 1.66157534e-24, ...,\n",
      "       1.34738820e-24, 1.49088606e-24, 1.63326730e-24]), array([-6.12202741e-24, -6.07968306e-24, -6.03298500e-24, ...,\n",
      "        8.80219856e-24,  8.32332355e-24,  7.83799157e-24]), array([-2.32090453e-24, -2.28998129e-24, -2.25735308e-24, ...,\n",
      "       -6.88779959e-24, -6.89525082e-24, -6.89739673e-24]), array([-9.64028916e-24, -9.53314017e-24, -9.41903250e-24, ...,\n",
      "       -1.68908038e-23, -1.71863839e-23, -1.74684651e-23]), array([1.44762807e-23, 1.28508781e-23, 9.77654103e-24, ...,\n",
      "       0.00000000e+00, 0.00000000e+00, 0.00000000e+00]), array([-6.63109678e-24, -6.66937855e-24, -6.70276827e-24, ...,\n",
      "       -1.08793153e-23, -1.11072947e-23, -1.13266123e-23]), array([-1.31804063e-24, -1.32132730e-24, -1.32365311e-24, ...,\n",
      "       -1.22581415e-24, -1.34374339e-24, -1.46070395e-24]), array([ 6.26285191e-23,  6.23918197e-23,  6.21049884e-23, ...,\n",
      "       -4.51146606e-23, -4.29049436e-23, -4.06385381e-23]), array([ 3.17764805e-23,  3.21450904e-23,  3.24877654e-23, ...,\n",
      "       -3.25939400e-23, -3.31023953e-23, -3.35778352e-23]), array([-3.02012068e-24, -3.06955475e-24, -3.11681164e-24, ...,\n",
      "        7.90493619e-24,  7.64837971e-24,  7.38592597e-24]), array([-3.71995278e-24, -3.41258964e-24, -3.10256022e-24, ...,\n",
      "       -2.30755898e-23, -2.29726936e-23, -2.28516199e-23]), array([-3.42983793e-23, -3.51286960e-23, -3.59319809e-23, ...,\n",
      "        1.28133053e-23,  1.43565049e-23,  1.58849861e-23]), array([6.57297086e-24, 6.79147341e-24, 7.00508554e-24, ...,\n",
      "       1.29003285e-23, 1.32392816e-23, 1.35676868e-23]), array([-1.98290488e-23, -1.81567831e-23, -1.64689455e-23, ...,\n",
      "        5.23601832e-23,  5.42163108e-23,  5.59976327e-23]), array([3.41192150e-24, 3.36335609e-24, 3.31255192e-24, ...,\n",
      "       2.36741935e-23, 2.37318721e-23, 2.37727895e-23]), array([-6.86202785e-23, -6.64060553e-23, -6.41203814e-23, ...,\n",
      "        1.90709461e-24,  3.04422120e-25, -1.11938139e-24]), array([4.60647765e-25, 4.57375940e-25, 4.53889672e-25, ...,\n",
      "       9.59000840e-25, 9.97303021e-25, 1.03506962e-24]), array([0., 0., 0., ..., 0., 0., 0.]), array([-1.96642414e-24, -1.94147684e-24, -1.91506892e-24, ...,\n",
      "       -5.68113483e-24, -5.66641292e-24, -5.64730115e-24]), array([-5.21101285e-23, -5.29696345e-23, -5.37832063e-23, ...,\n",
      "        6.05545486e-23,  6.19665775e-23,  6.32903246e-23]), array([ 4.92178191e-24,  4.86586232e-24,  4.80651807e-24, ...,\n",
      "       -1.82488990e-23, -1.82866307e-23, -1.83107435e-23]), array([1.22651313e-24, 1.16659038e-24, 1.10575913e-24, ...,\n",
      "       8.02857657e-24, 8.08853418e-24, 8.14233164e-24]), array([-1.64669859e-23, -1.64568305e-23, -1.64341465e-23, ...,\n",
      "        1.56536462e-23,  1.59521444e-23,  1.62372187e-23]), array([-1.62250346e-24, -1.61877990e-24, -1.61388092e-24, ...,\n",
      "       -2.02865735e-24, -2.17239594e-24, -2.31455385e-24]), array([ 4.01879662e-23,  3.99073901e-23,  3.95920228e-23, ...,\n",
      "       -3.04461473e-23, -2.92521642e-23, -2.80238501e-23]), array([5.67942118e-24, 5.60014720e-24, 5.51667360e-24, ...,\n",
      "       1.16585081e-23, 1.15415753e-23, 1.14155710e-23]), array([-3.05233944e-23, -2.96797770e-23, -2.88109522e-23, ...,\n",
      "        4.18273101e-23,  4.25326968e-23,  4.31898748e-23]), array([-4.55737041e-24, -3.94568990e-24, -3.33089751e-24, ...,\n",
      "       -3.71681949e-25,  5.15774188e-25,  1.40285419e-24]), array([-2.13397336e-24, -2.09213804e-24, -2.04876536e-24, ...,\n",
      "       -5.77303025e-24, -5.97279298e-24, -6.16810024e-24]), array([-3.79198199e-24, -3.87912021e-24, -3.96351198e-24, ...,\n",
      "        6.17246833e-24,  5.85615997e-24,  5.53528144e-24]), array([ 8.04411128e-24,  7.82582604e-24,  7.60155060e-24, ...,\n",
      "       -8.25383323e-24, -8.62879115e-24, -8.99673846e-24]), array([-9.15100339e-24, -2.18735078e-24,  4.37870750e-24, ...,\n",
      "        0.00000000e+00,  0.00000000e+00,  0.00000000e+00]), array([ 4.71918571e-24,  4.07933397e-25, -3.46627400e-24, ...,\n",
      "        0.00000000e+00,  0.00000000e+00,  0.00000000e+00]), array([ 5.63863382e-23,  5.73887375e-23,  5.83460283e-23, ...,\n",
      "       -5.53096933e-23, -5.73276274e-23, -5.92717000e-23]), array([ 5.38611098e-23,  5.33426536e-23,  5.27739473e-23, ...,\n",
      "       -5.74287541e-23, -5.86926106e-23, -5.98657848e-23]), array([-6.29101569e-24, -5.52808005e-24, -4.76081164e-24, ...,\n",
      "       -2.98487127e-23, -2.98880744e-23, -2.99004245e-23]), array([-1.44727810e-23, -1.33371890e-23, -1.21902838e-23, ...,\n",
      "        4.42321908e-23,  4.47114071e-23,  4.51402295e-23]), array([-2.69492268e-23, -2.58898935e-23, -2.48099367e-23, ...,\n",
      "       -3.63971163e-23, -3.75035316e-23, -3.85698400e-23]), array([ 2.21282293e-25,  2.52726960e-25,  2.83974086e-25, ...,\n",
      "       -4.28734499e-24, -4.25788661e-24, -4.22523105e-24]), array([2.51220566e-24, 2.43754496e-24, 2.36096765e-24, ...,\n",
      "       4.57481304e-24, 4.40048123e-24, 4.22263760e-24]), array([-3.76351029e-23, -3.88155413e-23, -3.99626203e-23, ...,\n",
      "       -2.25463388e-23, -2.02344054e-23, -1.78938613e-23]), array([-3.83779937e-23, -3.96486581e-23, -4.08843829e-23, ...,\n",
      "        6.51258307e-23,  6.43287809e-23,  6.34383303e-23]), array([-2.02478945e-23, -1.98080009e-23, -1.93534005e-23, ...,\n",
      "        2.95905590e-23,  2.98912189e-23,  3.01660169e-23]), array([-4.22133852e-24, -4.25923879e-24, -4.29404634e-24, ...,\n",
      "       -7.05843496e-24, -7.27649507e-24, -7.48897194e-24]), array([4.26289114e-25, 4.04608079e-25, 3.82686158e-25, ...,\n",
      "       2.79869976e-24, 2.78109892e-24, 2.76148642e-24]), array([-1.02107468e-23, -8.48717071e-24, -6.75607277e-24, ...,\n",
      "        7.15621082e-23,  7.13567159e-23,  7.10514217e-23]), array([-8.38181432e-24, -8.45904926e-24, -8.52996457e-24, ...,\n",
      "       -1.24611296e-23, -1.22696486e-23, -1.20683207e-23]), array([ 1.50249902e-24,  1.12194516e-24,  7.40434600e-25, ...,\n",
      "       -1.66409674e-23, -1.65222185e-23, -1.63898119e-23]), array([-1.15920606e-24, -1.16146405e-24, -1.16271683e-24, ...,\n",
      "       -2.84276627e-24, -2.88741934e-24, -2.92968047e-24]), array([-2.83248529e-23, -2.72504528e-23, -2.38688231e-23, ...,\n",
      "        0.00000000e+00,  0.00000000e+00,  0.00000000e+00]), array([5.73415342e-23, 5.94117369e-23, 6.14184479e-23, ...,\n",
      "       4.72453853e-24, 4.56818533e-24, 3.77360979e-24]), array([ 8.67297293e-24,  1.15479885e-23,  1.44093804e-23, ...,\n",
      "       -1.72845568e-24, -8.81224232e-25,  7.43035904e-26]), array([8.58375679e-24, 8.61387935e-24, 8.63764928e-24, ...,\n",
      "       1.54589834e-23, 1.55120957e-23, 1.55529215e-23]), array([-3.56721786e-23, -3.71452315e-23, -3.85883497e-23, ...,\n",
      "        7.46001865e-23,  7.40496959e-23,  7.34013458e-23]), array([1.07131548e-24, 1.08828863e-24, 1.10457722e-24, ...,\n",
      "       2.10959820e-24, 2.18331422e-24, 2.25555968e-24]), array([1.34118360e-23, 1.53612757e-23, 1.53686480e-23, ...,\n",
      "       0.00000000e+00, 0.00000000e+00, 0.00000000e+00]), array([-4.72233576e-25, -1.65997046e-25,  1.40544745e-25, ...,\n",
      "       -1.17174732e-23, -1.12649418e-23, -1.08034535e-23]), array([9.59770930e-24, 7.84738378e-24, 6.08974248e-24, ...,\n",
      "       6.56741761e-23, 6.47018199e-23, 6.36337554e-23]), array([-4.74826742e-23, -4.85882681e-23, -4.96523513e-23, ...,\n",
      "       -1.04830393e-23, -7.74479670e-24, -4.99505944e-24]), array([6.48207071e-25, 6.37927848e-25, 6.27170329e-25, ...,\n",
      "       2.18946804e-24, 2.22542157e-24, 2.25975016e-24]), array([-1.53791818e-23, -1.70407658e-23, -1.86863249e-23, ...,\n",
      "        1.84470151e-25,  2.81772836e-24,  5.44708186e-24]), array([-5.51765079e-24,  1.31175170e-24,  7.37478748e-24, ...,\n",
      "        0.00000000e+00,  0.00000000e+00,  0.00000000e+00]), array([-6.70836042e-24, -6.74060054e-24, -6.76788794e-24, ...,\n",
      "       -1.12455931e-23, -1.14625638e-23, -1.16705878e-23]), array([4.19528144e-24, 3.91595669e-24, 2.85476325e-24, ...,\n",
      "       0.00000000e+00, 0.00000000e+00, 0.00000000e+00]), array([-2.48706566e-24, -2.36846967e-24, -2.24805938e-24, ...,\n",
      "       -7.71529942e-24, -7.49950534e-24, -7.27783640e-24]), array([-2.29001848e-23, -2.13590000e-23, -1.97962879e-23, ...,\n",
      "       -1.00630040e-23, -7.51626123e-24, -4.95665652e-24]), array([1.12364818e-23, 1.17650816e-23, 1.22850463e-23, ...,\n",
      "       2.08945147e-24, 1.34022983e-24, 5.89820317e-25]), array([-7.90467525e-24, -7.62985825e-24, -6.15787735e-24, ...,\n",
      "        0.00000000e+00,  0.00000000e+00,  0.00000000e+00]), array([ 9.38411392e-25,  9.68567213e-25,  9.98006076e-25, ...,\n",
      "       -8.65138354e-25, -7.37312861e-25, -6.08878719e-25]), array([7.97247124e-25, 7.86713479e-25, 7.75865944e-25, ...,\n",
      "       2.51765258e-24, 2.52255938e-24, 2.52591902e-24]), array([-1.17015783e-24, -1.19586436e-24, -1.22073402e-24, ...,\n",
      "        3.63052845e-24,  3.50645463e-24,  3.37965494e-24]), array([-3.16477243e-23, -3.25758123e-23, -3.34784667e-23, ...,\n",
      "        4.31882891e-23,  4.39981669e-23,  4.47618616e-23]), array([-1.42114642e-23, -7.39917103e-24, -4.74339772e-25, ...,\n",
      "        0.00000000e+00,  0.00000000e+00,  0.00000000e+00]), array([-9.25123152e-24, -8.93674074e-24, -8.61544677e-24, ...,\n",
      "        1.19575520e-23,  1.23959484e-23,  1.28241387e-23]), array([1.28052475e-24, 1.30842625e-24, 1.33548089e-24, ...,\n",
      "       2.71236794e-24, 2.79763684e-24, 2.88093453e-24]), array([1.48937568e-23, 1.54630247e-23, 1.41902927e-23, ...,\n",
      "       0.00000000e+00, 0.00000000e+00, 0.00000000e+00]), array([ 3.94893032e-23,  3.98893523e-23,  4.02577807e-23, ...,\n",
      "       -4.12508387e-23, -4.05546602e-23, -3.98156082e-23]), array([1.92013812e-24, 1.90522744e-24, 1.88895325e-24, ...,\n",
      "       4.67704817e-24, 4.65380683e-24, 4.62706417e-24]), array([ 1.13015260e-23,  1.18786760e-23,  1.24466462e-23, ...,\n",
      "       -1.65585105e-23, -1.59992021e-23, -1.54255624e-23]), array([ 2.14322163e-23,  2.16795199e-23,  2.19102918e-23, ...,\n",
      "       -2.30716582e-23, -2.27658693e-23, -2.24400655e-23]), array([5.49744931e-24, 5.52103979e-24, 5.54056331e-24, ...,\n",
      "       9.72361752e-24, 9.92287947e-24, 1.01144319e-23]), array([5.92521811e-24, 5.72928386e-24, 5.52904567e-24, ...,\n",
      "       1.70184421e-23, 1.68933976e-23, 1.67550474e-23]), array([4.83093069e-25, 4.84156084e-25, 4.85064877e-25, ...,\n",
      "       7.57586331e-25, 7.98121064e-25, 8.38373590e-25]), array([ 3.46882803e-23,  3.45987141e-23,  3.44836873e-23, ...,\n",
      "       -3.02503852e-23, -2.94476998e-23, -2.86181260e-23]), array([ 1.26120138e-23,  1.23452587e-23,  1.20691046e-23, ...,\n",
      "       -1.70297603e-23, -1.72770933e-23, -1.75100202e-23]), array([-4.16191743e-23, -4.18112767e-23, -4.19681273e-23, ...,\n",
      "       -5.72881549e-24, -4.13869987e-24, -2.54375845e-24]), array([-1.06299322e-23, -1.07213588e-23, -1.08047841e-23, ...,\n",
      "       -1.27279012e-23, -1.24694166e-23, -1.22008611e-23]), array([ 2.36655143e-25,  4.29785660e-26, -1.50830976e-25, ...,\n",
      "       -6.68658035e-24, -6.95166847e-24, -7.21127094e-24]), array([-3.08850736e-24, -3.12948577e-24, -3.16817965e-24, ...,\n",
      "       -6.68102533e-24, -6.77706545e-24, -6.86787941e-24]), array([-2.90637087e-23, -3.06048822e-23, -3.21191786e-23, ...,\n",
      "        6.69993820e-23,  6.60529544e-23,  6.50097864e-23]), array([2.38263474e-23, 2.38191670e-23, 2.37931704e-23, ...,\n",
      "       2.29684483e-23, 2.32288273e-23, 2.34681727e-23]), array([-3.37576577e-25, -3.17225711e-25, -2.96602242e-25, ...,\n",
      "       -2.81922842e-24, -2.81856890e-24, -2.81571982e-24]), array([-2.44548805e-24, -3.68645851e-24, -4.92437963e-24, ...,\n",
      "       -2.91516501e-23, -3.04193126e-23, -3.16533118e-23]), array([1.31924436e-24, 1.32330278e-24, 1.32630944e-24, ...,\n",
      "       2.77675193e-24, 2.84975621e-24, 2.92057178e-24]), array([1.38968999e-23, 1.57453714e-23, 1.56796443e-23, ...,\n",
      "       0.00000000e+00, 0.00000000e+00, 0.00000000e+00]), array([-2.01164235e-23, -1.93231571e-23, -1.85144526e-23, ...,\n",
      "        3.57908826e-23,  3.55501522e-23,  3.52743200e-23]), array([1.83580275e-23, 1.85867667e-23, 1.88019846e-23, ...,\n",
      "       1.88139725e-23, 1.82825826e-23, 1.77358657e-23]), array([3.05000098e-24, 3.19884639e-24, 3.34539991e-24, ...,\n",
      "       3.81171284e-24, 4.14013340e-24, 4.46534523e-24]), array([-7.53052008e-23, -7.62388521e-23, -7.70744519e-23, ...,\n",
      "        3.57287318e-25,  9.81685960e-25,  1.15176984e-24]), array([-5.64624772e-24, -7.88749221e-24, -8.78634189e-24, ...,\n",
      "        0.00000000e+00,  0.00000000e+00,  0.00000000e+00]), array([-3.30334894e-23, -3.03854080e-23, -2.77001251e-23, ...,\n",
      "       -2.22531820e-24, -1.43579056e-24, -4.18318001e-25]), array([-2.06813285e-23, -1.47911382e-23, -8.02235576e-24, ...,\n",
      "        0.00000000e+00,  0.00000000e+00,  0.00000000e+00]), array([-5.68522926e-24, -5.73207574e-24, -5.77465031e-24, ...,\n",
      "       -1.03567346e-23, -1.03156396e-23, -1.02664090e-23]), array([-7.85232105e-24, -8.19191442e-24, -8.52551976e-24, ...,\n",
      "       -1.87556484e-23, -1.86089573e-23, -1.84469715e-23]), array([-3.15240159e-23, -3.22726466e-23, -3.29924344e-23, ...,\n",
      "       -1.43925467e-23, -1.58605305e-23, -1.73095564e-23]), array([ 6.15241501e-24,  5.71765927e-24,  5.27843796e-24, ...,\n",
      "       -1.19290934e-23, -1.15010121e-23, -1.10631981e-23]), array([-6.89365829e-25, -6.93427404e-25, -6.96996709e-25, ...,\n",
      "        2.97701587e-25,  2.25140163e-25,  1.52373212e-25]), array([-1.18198465e-24, -1.21978904e-24, -1.25674834e-24, ...,\n",
      "        4.94722215e-24,  4.81563801e-24,  4.68033169e-24]), array([-4.69167998e-23, -4.60123218e-23, -4.50629871e-23, ...,\n",
      "       -3.36988742e-23, -3.58917972e-23, -3.80276135e-23]), array([ 1.53031076e-23,  1.51006837e-23,  1.48869744e-23, ...,\n",
      "       -4.00004358e-24, -4.63497465e-24, -5.26605414e-24]), array([ 2.85080080e-25,  3.15186255e-25,  3.45054445e-25, ...,\n",
      "       -4.07814856e-24, -4.04126384e-24, -4.00132723e-24]), array([1.50102806e-24, 1.32990407e-24, 1.15767872e-24, ...,\n",
      "       1.45130026e-23, 1.43707595e-23, 1.42173306e-23]), array([ 2.20310405e-23,  2.25003890e-23,  2.29530573e-23, ...,\n",
      "       -2.92429313e-23, -2.95480807e-23, -2.98271253e-23]), array([ 6.32860814e-23,  6.52454245e-23,  6.71290466e-23, ...,\n",
      "       -2.14018837e-24, -2.32853661e-24, -1.89790550e-24]), array([1.31248486e-24, 1.29236071e-24, 1.27125102e-24, ...,\n",
      "       4.41560392e-24, 4.48516300e-24, 4.55132066e-24]), array([-1.66340495e-23, -1.64085431e-23, -1.61710406e-23, ...,\n",
      "       -1.90731628e-23, -1.85428279e-23, -1.79972148e-23]), array([-6.29011376e-24, -6.27761007e-24, -6.26052091e-24, ...,\n",
      "       -8.15177161e-24, -8.50853292e-24, -8.85875608e-24]), array([-7.65037075e-24, -7.64164737e-24, -7.62717896e-24, ...,\n",
      "       -1.02501979e-23, -1.00327664e-23, -9.80733194e-24]), array([3.22503789e-23, 3.26902624e-23, 3.31052780e-23, ...,\n",
      "       2.82245562e-23, 2.90151525e-23, 2.97783331e-23]), array([-5.10929614e-24, -5.30955981e-24, -5.50627396e-24, ...,\n",
      "        2.23986684e-23,  2.25580689e-23,  2.27001226e-23]), array([-3.20169274e-23, -3.20898000e-23, -3.21355334e-23, ...,\n",
      "       -2.80813867e-23, -2.87414376e-23, -2.93715510e-23]), array([ 1.48091954e-23,  1.56874377e-23,  1.65531120e-23, ...,\n",
      "       -6.88923164e-25, -1.83826677e-24, -2.98588078e-24]), array([-3.27203356e-23, -3.28452709e-23, -3.29429570e-23, ...,\n",
      "        8.86205226e-24,  7.75137050e-24,  6.63268209e-24])]\n"
     ]
    }
   ],
   "source": [
    "print(BNS_data)\n",
    "print(len(BNS_data))\n",
    "print(len(BBH_data[0]),len(BBH_data[1]))\n",
    "print(BBH_data)"
   ]
  },
  {
   "cell_type": "code",
   "execution_count": 9,
   "metadata": {},
   "outputs": [
    {
     "name": "stdout",
     "output_type": "stream",
     "text": [
      "0.0 0.99951171875\n"
     ]
    },
    {
     "data": {
      "image/png": "[encoded data removed]",
      "text/plain": [
       "<Figure size 432x288 with 1 Axes>"
      ]
     },
     "metadata": {
      "needs_background": "light"
     },
     "output_type": "display_data"
    },
    {
     "name": "stdout",
     "output_type": "stream",
     "text": [
      "[8.17946428e-25 8.00289893e-25 7.81999660e-25 ... 3.15115465e-24\n",
      " 3.15484124e-24 3.15613873e-24]\n"
     ]
    }
   ],
   "source": [
    "t=np.arange(0,len(BNS_data[0])/sample_rate,1/sample_rate)\n",
    "t2=np.arange(0,len(BBH_data[0])/sample_rate,1/sample_rate)\n",
    "print(0.0,max(t))\n",
    "plt.plot(t,BNS_data[0])\n",
    "plt.plot(t2,BBH_data[0])\n",
    "plt.show()\n",
    "\n",
    "print(BBH_data[0])"
   ]
  },
  {
   "cell_type": "code",
   "execution_count": 11,
   "metadata": {},
   "outputs": [],
   "source": [
    "class_names=[\"BNS\",\"BBH\"]\n"
   ]
  },
  {
   "cell_type": "code",
   "execution_count": 30,
   "metadata": {},
   "outputs": [
    {
     "name": "stdout",
     "output_type": "stream",
     "text": [
      "float64\n"
     ]
    }
   ],
   "source": [
    "BNS_data=np.array(BNS_data)\n",
    "BBH_data=np.array(BBH_data)\n",
    "BNS_check_data=np.array(BNS_check_data)\n",
    "BBH_check_data=np.array(BBH_check_data)\n",
    "train_labels=np.array(train_labels)\n",
    "check_labels=np.array(check_labels)\n",
    "BNS_data.shape\n",
    "BBH_data.shape\n",
    "train_labels=np.array(train_labels)\n",
    "BNS_check_data.shape\n",
    "BBH_check_data.shape\n",
    "\n",
    "train_data=np.concatenate((BNS_data,BBH_data),axis=0)\n",
    "check_data=np.concatenate((BNS_check_data,BBH_check_data),axis=0)\n",
    "\n",
    "\n",
    "train_data = train_data / np.linalg.norm(train_data)\n",
    "check_data = check_data / np.linalg.norm(check_data)\n",
    "\n",
    "train_data.shape\n",
    "#print(BNS_data.type)\n",
    "\n",
    "print(train_data.dtype)"
   ]
  },
  {
   "cell_type": "code",
   "execution_count": 154,
   "metadata": {},
   "outputs": [
    {
     "name": "stdout",
     "output_type": "stream",
     "text": [
      "<tensorflow.python.keras.engine.sequential.Sequential object at 0x1aa4e8c18>\n"
     ]
    }
   ],
   "source": [
    "model = keras.Sequential([\n",
    "    keras.layers.Dense(512, activation=tf.nn.relu),\n",
    "    keras.layers.Dense(2, activation=tf.nn.softmax)\n",
    "])\n",
    "\n",
    "print(model)"
   ]
  },
  {
   "cell_type": "code",
   "execution_count": 155,
   "metadata": {
    "scrolled": true
   },
   "outputs": [
    {
     "name": "stdout",
     "output_type": "stream",
     "text": [
      "<tensorflow.python.keras.engine.sequential.Sequential object at 0x1aa4e8c18>\n",
      "[1 1 1 1 1 1 1 1 1 1 1 1 1 1 1 1 1 1 1 1 1 1 1 1 1 1 1 1 1 1 1 1 1 1 1 1 1\n",
      " 1 1 1 1 1 1 1 1 1 1 1 1 1 1 1 1 1 1 1 1 1 1 1 1 1 1 1 1 1 1 1 1 1 1 1 1 1\n",
      " 1 1 1 1 1 1 1 1 1 1 1 1 1 1 1 1 1 1 1 1 1 1 1 1 1 1 1 1 1 1 1 1 1 1 1 1 1\n",
      " 1 1 1 1 1 1 1 1 1 1 1 1 1 1 1 1 1 1 1 1 1 1 1 1 1 1 1 1 1 1 1 1 1 1 1 1 1\n",
      " 1 1 1 1 1 1 1 1 1 1 1 1 1 1 1 1 1 1 1 1 1 1 1 1 1 1 1 1 1 1 1 1 0 0 0 0 0\n",
      " 0 0 0 0 0 0 0 0 0 0 0 0 0 0 0 0 0 0 0 0 0 0 0 0 0 0 0 0 0 0 0 0 0 0 0 0 0\n",
      " 0 0 0 0 0 0 0 0 0 0 0 0 0 0 0 0 0 0 0 0 0 0 0 0 0 0 0 0 0 0 0 0 0 0 0 0 0\n",
      " 0 0 0 0 0 0 0 0 0 0 0 0 0 0 0 0 0 0 0 0 0 0 0 0 0 0 0 0 0 0 0 0 0 0 0 0 0\n",
      " 0 0 0 0 0 0 0 0 0 0 0 0 0 0 0 0 0 0 0 0 0 0 0 0 0 0 0 0 0 0 0 0 0 0 0 0 0\n",
      " 0 0 0 0 0 0 0 0 0 0 0 0 0 0 0 0 0 0 0 0 0 0 0 0 0 0 0]\n"
     ]
    }
   ],
   "source": [
    "model.compile(optimizer=tf.train.AdamOptimizer(), \n",
    "              loss='sparse_categorical_crossentropy',\n",
    "              metrics=['accuracy'])\n",
    "\n",
    "print(model)\n",
    "print(train_labels)"
   ]
  },
  {
   "cell_type": "code",
   "execution_count": 156,
   "metadata": {},
   "outputs": [
    {
     "name": "stdout",
     "output_type": "stream",
     "text": [
      "Epoch 1/50\n",
      "360/360 [==============================] - 1s 2ms/step - loss: 0.6915 - acc: 0.5306\n",
      "Epoch 2/50\n",
      "360/360 [==============================] - 0s 659us/step - loss: 0.6765 - acc: 0.6611\n",
      "Epoch 3/50\n",
      "360/360 [==============================] - 0s 636us/step - loss: 0.6573 - acc: 0.8250\n",
      "Epoch 4/50\n",
      "360/360 [==============================] - 0s 686us/step - loss: 0.6339 - acc: 0.8250\n",
      "Epoch 5/50\n",
      "360/360 [==============================] - 0s 730us/step - loss: 0.6101 - acc: 0.8472\n",
      "Epoch 6/50\n",
      "360/360 [==============================] - 0s 631us/step - loss: 0.5827 - acc: 0.8472\n",
      "Epoch 7/50\n",
      "360/360 [==============================] - 0s 614us/step - loss: 0.5546 - acc: 0.8389\n",
      "Epoch 8/50\n",
      "360/360 [==============================] - 0s 855us/step - loss: 0.5279 - acc: 0.8361\n",
      "Epoch 9/50\n",
      "360/360 [==============================] - 0s 771us/step - loss: 0.5007 - acc: 0.8361\n",
      "Epoch 10/50\n",
      "360/360 [==============================] - 0s 757us/step - loss: 0.4730 - acc: 0.8389\n",
      "Epoch 11/50\n",
      "360/360 [==============================] - 0s 782us/step - loss: 0.4504 - acc: 0.8417\n",
      "Epoch 12/50\n",
      "360/360 [==============================] - 0s 666us/step - loss: 0.4302 - acc: 0.8444\n",
      "Epoch 13/50\n",
      "360/360 [==============================] - 0s 704us/step - loss: 0.4134 - acc: 0.8444\n",
      "Epoch 14/50\n",
      "360/360 [==============================] - 0s 718us/step - loss: 0.4004 - acc: 0.8500\n",
      "Epoch 15/50\n",
      "360/360 [==============================] - 0s 656us/step - loss: 0.3858 - acc: 0.8472\n",
      "Epoch 16/50\n",
      "360/360 [==============================] - 0s 694us/step - loss: 0.3722 - acc: 0.8500\n",
      "Epoch 17/50\n",
      "360/360 [==============================] - 0s 792us/step - loss: 0.3620 - acc: 0.8500\n",
      "Epoch 18/50\n",
      "360/360 [==============================] - 0s 719us/step - loss: 0.3532 - acc: 0.8611\n",
      "Epoch 19/50\n",
      "360/360 [==============================] - 0s 653us/step - loss: 0.3445 - acc: 0.8528\n",
      "Epoch 20/50\n",
      "360/360 [==============================] - 0s 732us/step - loss: 0.3359 - acc: 0.8611\n",
      "Epoch 21/50\n",
      "360/360 [==============================] - 0s 815us/step - loss: 0.3284 - acc: 0.8667\n",
      "Epoch 22/50\n",
      "360/360 [==============================] - 0s 656us/step - loss: 0.3219 - acc: 0.8639\n",
      "Epoch 23/50\n",
      "360/360 [==============================] - 0s 651us/step - loss: 0.3162 - acc: 0.8667\n",
      "Epoch 24/50\n",
      "360/360 [==============================] - 0s 747us/step - loss: 0.3122 - acc: 0.8750\n",
      "Epoch 25/50\n",
      "360/360 [==============================] - 0s 716us/step - loss: 0.3056 - acc: 0.8694\n",
      "Epoch 26/50\n",
      "360/360 [==============================] - 0s 677us/step - loss: 0.2998 - acc: 0.8778\n",
      "Epoch 27/50\n",
      "360/360 [==============================] - 0s 690us/step - loss: 0.2949 - acc: 0.8778\n",
      "Epoch 28/50\n",
      "360/360 [==============================] - 0s 747us/step - loss: 0.2902 - acc: 0.8944\n",
      "Epoch 29/50\n",
      "360/360 [==============================] - 0s 671us/step - loss: 0.2869 - acc: 0.8944\n",
      "Epoch 30/50\n",
      "360/360 [==============================] - 0s 660us/step - loss: 0.2824 - acc: 0.9028\n",
      "Epoch 31/50\n",
      "360/360 [==============================] - 0s 724us/step - loss: 0.2776 - acc: 0.9028\n",
      "Epoch 32/50\n",
      "360/360 [==============================] - 0s 717us/step - loss: 0.2747 - acc: 0.9083\n",
      "Epoch 33/50\n",
      "360/360 [==============================] - 0s 719us/step - loss: 0.2704 - acc: 0.9028\n",
      "Epoch 34/50\n",
      "360/360 [==============================] - 0s 694us/step - loss: 0.2672 - acc: 0.9139\n",
      "Epoch 35/50\n",
      "360/360 [==============================] - 0s 654us/step - loss: 0.2664 - acc: 0.9111\n",
      "Epoch 36/50\n",
      "360/360 [==============================] - 0s 674us/step - loss: 0.2633 - acc: 0.9139\n",
      "Epoch 37/50\n",
      "360/360 [==============================] - 0s 721us/step - loss: 0.2596 - acc: 0.9083\n",
      "Epoch 38/50\n",
      "360/360 [==============================] - 0s 784us/step - loss: 0.2543 - acc: 0.9167\n",
      "Epoch 39/50\n",
      "360/360 [==============================] - 0s 763us/step - loss: 0.2536 - acc: 0.9167\n",
      "Epoch 40/50\n",
      "360/360 [==============================] - 0s 681us/step - loss: 0.2513 - acc: 0.9222\n",
      "Epoch 41/50\n",
      "360/360 [==============================] - 0s 732us/step - loss: 0.2498 - acc: 0.9194\n",
      "Epoch 42/50\n",
      "360/360 [==============================] - 0s 668us/step - loss: 0.2449 - acc: 0.9222\n",
      "Epoch 43/50\n",
      "360/360 [==============================] - 0s 661us/step - loss: 0.2420 - acc: 0.9250\n",
      "Epoch 44/50\n",
      "360/360 [==============================] - 0s 746us/step - loss: 0.2410 - acc: 0.9250\n",
      "Epoch 45/50\n",
      "360/360 [==============================] - 0s 710us/step - loss: 0.2388 - acc: 0.9250\n",
      "Epoch 46/50\n",
      "360/360 [==============================] - 0s 673us/step - loss: 0.2361 - acc: 0.9250\n",
      "Epoch 47/50\n",
      "360/360 [==============================] - 0s 663us/step - loss: 0.2336 - acc: 0.9278\n",
      "Epoch 48/50\n",
      "360/360 [==============================] - 0s 728us/step - loss: 0.2321 - acc: 0.9278\n",
      "Epoch 49/50\n",
      "360/360 [==============================] - 0s 687us/step - loss: 0.2294 - acc: 0.9278\n",
      "Epoch 50/50\n",
      "360/360 [==============================] - 0s 706us/step - loss: 0.2289 - acc: 0.9278\n"
     ]
    },
    {
     "data": {
      "text/plain": [
       "<tensorflow.python.keras.callbacks.History at 0x1ab327dd8>"
      ]
     },
     "execution_count": 156,
     "metadata": {},
     "output_type": "execute_result"
    }
   ],
   "source": [
    "model.fit(train_data, train_labels, epochs=50)"
   ]
  },
  {
   "cell_type": "code",
   "execution_count": 157,
   "metadata": {},
   "outputs": [
    {
     "name": "stdout",
     "output_type": "stream",
     "text": [
      "40/40 [==============================] - 0s 6ms/step\n",
      "Test accuracy: 1.0\n",
      "Test Loss: 0.08985842466345843\n"
     ]
    }
   ],
   "source": [
    "test_loss, test_acc = model.evaluate(check_data,check_labels)\n",
    "\n",
    "print('Test accuracy:', test_acc)\n",
    "print('Test Loss:', test_loss)"
   ]
  },
  {
   "cell_type": "code",
   "execution_count": 158,
   "metadata": {},
   "outputs": [],
   "source": [
    "stop = timeit.default_timer()"
   ]
  },
  {
   "cell_type": "code",
   "execution_count": 159,
   "metadata": {},
   "outputs": [
    {
     "name": "stdout",
     "output_type": "stream",
     "text": [
      "13055.714698901 seconds\n",
      "0.0 217.59524498168332 minutes\n",
      "3.6265874163613887 hours\n"
     ]
    }
   ],
   "source": [
    "acttime=stop - start\n",
    "\n",
    "print(str(acttime)+' seconds')\n",
    "print(0.0,str((acttime)/60)+' minutes')\n",
    "print(str((acttime)/3600)+' hours')"
   ]
  },
  {
   "cell_type": "code",
   "execution_count": 160,
   "metadata": {},
   "outputs": [],
   "source": [
    "predictions = model.predict(check_data)"
   ]
  },
  {
   "cell_type": "code",
   "execution_count": 161,
   "metadata": {},
   "outputs": [
    {
     "name": "stdout",
     "output_type": "stream",
     "text": [
      "[0.14454277 0.8554572 ] [9.9999976e-01 1.9396472e-07]\n",
      "1 0\n"
     ]
    }
   ],
   "source": [
    "print(predictions[0],predictions[-1])\n",
    "print(check_labels[0],check_labels[-1])\n",
    "#print(t)"
   ]
  },
  {
   "cell_type": "code",
   "execution_count": 162,
   "metadata": {},
   "outputs": [
    {
     "data": {
      "image/png": "[encoded data removed]",
      "text/plain": [
       "<Figure size 432x288 with 1 Axes>"
      ]
     },
     "metadata": {
      "needs_background": "light"
     },
     "output_type": "display_data"
    },
    {
     "data": {
      "image/png": "[encoded data removed]",
      "text/plain": [
       "<Figure size 432x288 with 1 Axes>"
      ]
     },
     "metadata": {
      "needs_background": "light"
     },
     "output_type": "display_data"
    }
   ],
   "source": [
    "plt.plot(predictions[0:20,1])\n",
    "#plt.plot(predictions[:,1])\n",
    "plt.ylabel('BNS Confidence')\n",
    "plt.xlabel('Injection Number')\n",
    "plt.show()\n",
    "\n",
    "plt.plot(predictions[20:40,0])\n",
    "#plt.plot(predictions[:,1])\n",
    "plt.ylabel('BBH Confidence')\n",
    "plt.xlabel('Injection Number')\n",
    "plt.show()"
   ]
  },
  {
   "cell_type": "code",
   "execution_count": null,
   "metadata": {},
   "outputs": [],
   "source": []
  },
  {
   "cell_type": "code",
   "execution_count": null,
   "metadata": {},
   "outputs": [],
   "source": []
  }
 ],
 "metadata": {
  "kernelspec": {
   "display_name": "Python 3",
   "language": "python",
   "name": "python3"
  },
  "language_info": {
   "codemirror_mode": {
    "name": "ipython",
    "version": 3
   },
   "file_extension": ".py",
   "mimetype": "text/x-python",
   "name": "python",
   "nbconvert_exporter": "python",
   "pygments_lexer": "ipython3",
   "version": "3.6.7"
  }
 },
 "nbformat": 4,
 "nbformat_minor": 2
}
