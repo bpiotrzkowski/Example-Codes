{
 "cells": [
  {
   "cell_type": "code",
   "execution_count": 1,
   "metadata": {},
   "outputs": [
    {
     "name": "stderr",
     "output_type": "stream",
     "text": [
      "/home/brandon/anaconda3/envs/machlearn/lib/python3.5/site-packages/h5py/__init__.py:36: FutureWarning: Conversion of the second argument of issubdtype from `float` to `np.floating` is deprecated. In future, it will be treated as `np.float64 == np.dtype(float).type`.\n",
      "  from ._conv import register_converters as _register_converters\n",
      "PyCBC.libutils: pkg-config call failed, setting NO_PKGCONFIG=1\n"
     ]
    }
   ],
   "source": [
    "import pickle\n",
    "import numpy as np\n",
    "import pandas as pd\n",
    "from matplotlib import pyplot as plt\n",
    "import seaborn as sns\n",
    "import scipy.fftpack\n",
    "import glob,os\n",
    "import gwPaPa_func as gwpapa\n",
    "\n",
    "from sklearn.preprocessing import normalize\n",
    "from sklearn.neighbors import KNeighborsClassifier\n",
    "from sklearn.model_selection import train_test_split\n",
    "from skimage.util.shape import view_as_windows\n",
    "\n",
    "import tensorflow as tf\n",
    "from tensorflow import keras\n",
    "\n",
    "import pickle\n",
    "from pycbc import frame,types"
   ]
  },
  {
   "cell_type": "code",
   "execution_count": 2,
   "metadata": {},
   "outputs": [],
   "source": [
    "BNS_test_path='data'\n",
    "BNS_check_path='data_check'\n",
    "BBH_test_path='data2'\n",
    "BBH_check_test_path='data2_check'"
   ]
  },
  {
   "cell_type": "code",
   "execution_count": 3,
   "metadata": {},
   "outputs": [
    {
     "data": {
      "image/png": "[encoded data removed]",
      "text/plain": [
       "<Figure size 432x288 with 1 Axes>"
      ]
     },
     "metadata": {},
     "output_type": "display_data"
    }
   ],
   "source": [
    "sample_rate=4096\n",
    "t=np.arange(0,400,1/sample_rate)\n",
    "\n",
    "try:\n",
    "    d0 =np.array(frame.read_frame('data2/L-L1_STRAIN-1186741835-30.gwf','L1:STRAIN'))\n",
    "    t0 = np.arange(0,len(d0)/sample_rate,1/sample_rate)\n",
    "    plt.plot(t0,d0)\n",
    "    plt.show()\n",
    "except:\n",
    "    pass"
   ]
  },
  {
   "cell_type": "code",
   "execution_count": null,
   "metadata": {},
   "outputs": [
    {
     "name": "stdout",
     "output_type": "stream",
     "text": [
      "0.0 129\n",
      "0.0 53\n"
     ]
    }
   ],
   "source": [
    "num_BNS_injections=len(glob.glob('data/*.gwf'))\n",
    "num_BBH_injections=len(glob.glob('data2/*.gwf'))\n",
    "\n",
    "print(0.0,num_BNS_injections)\n",
    "print(0.0,num_BBH_injections)\n",
    "\n",
    "BNS_data=[]\n",
    "BBH_data=[]\n",
    "BNS_check_data=[]\n",
    "BBH_check_data=[]\n",
    "train_labels=[]\n",
    "check_labels=[]\n",
    "t0=50\n",
    "tl=1\n",
    "\n",
    "for file in glob.glob(BNS_test_path+'/*.gwf'):\n",
    "    ###add np.nonzero here?\n",
    "    d = np.array(frame.read_frame(file,'L1:STRAIN'))\n",
    "    t = np.arange(0,len(d)/sample_rate,1/sample_rate)\n",
    "    BNS_data.append(gwpapa.twindow(t,d,t0,tl))\n",
    "    train_labels.append(1)\n",
    "    \n",
    "for file in glob.glob(BNS_check_path+'/*.gwf'):\n",
    "    ###add np.nonzero here?\n",
    "    d = np.array(frame.read_frame(file,'L1:STRAIN'))\n",
    "    t = np.arange(0,len(d)/sample_rate,1/sample_rate)\n",
    "    BNS_check_data.append(gwpapa.twindow(t,d,t0,tl))\n",
    "    check_labels.append(1)\n",
    " \n",
    "t0=7\n",
    "tl=1\n",
    "\n",
    "for file in glob.glob(BNS_test_path+'/*.gwf'):\n",
    "    ###add np.nonzero here?\n",
    "    d = np.array(frame.read_frame(file,'L1:STRAIN'))\n",
    "    t = np.arange(0,len(d)/sample_rate,1/sample_rate)\n",
    "    BBH_data.append(gwpapa.twindow(t,d,t0,tl))\n",
    "    train_labels.append(0)\n",
    "    \n",
    "for file in glob.glob(BNS_check_path+'/*.gwf'):\n",
    "    ###add np.nonzero here?\n",
    "    d = np.array(frame.read_frame(file,'L1:STRAIN'))\n",
    "    t = np.arange(0,len(d)/sample_rate,1/sample_rate)\n",
    "    BBH_check_data.append(gwpapa.twindow(t,d,t0,tl))\n",
    "    check_labels.append(0)\n",
    "\n"
   ]
  },
  {
   "cell_type": "code",
   "execution_count": null,
   "metadata": {},
   "outputs": [],
   "source": [
    "print(0.0,BNS_data)\n",
    "print(0.0,len(BNS_data),len(BBH_data))\n",
    "print(0.0,len(BBH_data[0]),len(BBH_data[1]))\n",
    "print(BBH_data[0])"
   ]
  },
  {
   "cell_type": "code",
   "execution_count": null,
   "metadata": {},
   "outputs": [],
   "source": [
    "t=np.arange(0,len(BNS_data[0])/sample_rate,1/sample_rate)\n",
    "t2=np.arange(0,len(BBH_data[0])/sample_rate,1/sample_rate)\n",
    "print(0.0,max(t))\n",
    "plt.plot(t,BNS_data[0])\n",
    "plt.plot(t2,BBH_data[0])\n",
    "plt.show()\n",
    "\n",
    "print(BBH_data[0])"
   ]
  },
  {
   "cell_type": "code",
   "execution_count": null,
   "metadata": {},
   "outputs": [],
   "source": [
    "class_names=[\"BNS\",\"BBH\"]"
   ]
  },
  {
   "cell_type": "code",
   "execution_count": null,
   "metadata": {},
   "outputs": [],
   "source": [
    "BNS_data=np.array(BNS_data)\n",
    "BBH_data=np.array(BBH_data)\n",
    "BNS_check_data=np.array(BNS_check_data)\n",
    "BBH_check_data=np.array(BBH_check_data)\n",
    "train_labels=np.array(train_labels)\n",
    "check_labels=np.array(check_labels)\n",
    "\n",
    "\n",
    "train_data=np.concatenate((BNS_data,BBH_data),axis=0)\n",
    "check_data=np.concatenate((BNS_check_data,BBH_check_data),axis=0)\n",
    "\n",
    "#normalize\n",
    "train_data=train_data/ np.linalg.norm(train_data)\n",
    "check_data=check_data/ np.linalg.norm(check_data)\n"
   ]
  },
  {
   "cell_type": "code",
   "execution_count": null,
   "metadata": {},
   "outputs": [],
   "source": [
    "model = keras.Sequential([\n",
    "    keras.layers.Dense(128, activation=tf.nn.relu),\n",
    "    keras.layers.Dense(2, activation=tf.nn.softmax)\n",
    "])\n",
    "\n",
    "print(model)"
   ]
  },
  {
   "cell_type": "code",
   "execution_count": null,
   "metadata": {
    "scrolled": true
   },
   "outputs": [],
   "source": [
    "model.compile(optimizer=tf.train.AdamOptimizer(), \n",
    "              loss='sparse_categorical_crossentropy',\n",
    "              metrics=['accuracy'])\n",
    "\n",
    "print(model)\n",
    "print(train_labels)"
   ]
  },
  {
   "cell_type": "code",
   "execution_count": null,
   "metadata": {},
   "outputs": [],
   "source": [
    "model.fit(train_data, train_labels, epochs=5)"
   ]
  },
  {
   "cell_type": "code",
   "execution_count": null,
   "metadata": {},
   "outputs": [],
   "source": [
    "test_loss, test_acc = model.evaluate(check_data,check_labels)\n",
    "\n",
    "print('Test accuracy:', test_acc)\n",
    "print('Test Loss:', test_loss)"
   ]
  },
  {
   "cell_type": "code",
   "execution_count": null,
   "metadata": {},
   "outputs": [],
   "source": [
    "predictions = model.predict(check_data)\n",
    "print(check_data[2])"
   ]
  },
  {
   "cell_type": "code",
   "execution_count": null,
   "metadata": {},
   "outputs": [],
   "source": [
    "print(np.nan,predictions[0],predictions[1],predictions[100])\n",
    "print(np.nan,np.argmax(predictions[0]))"
   ]
  },
  {
   "cell_type": "code",
   "execution_count": null,
   "metadata": {},
   "outputs": [],
   "source": [
    "plt.plot(check_data[0])\n",
    "plt.plot(check_data[100])\n",
    "plt.show()\n",
    "\n",
    "print(np.nan,check_labels[0],check_labels[1])"
   ]
  },
  {
   "cell_type": "code",
   "execution_count": null,
   "metadata": {},
   "outputs": [],
   "source": []
  }
 ],
 "metadata": {
  "kernelspec": {
   "display_name": "Python 3",
   "language": "python",
   "name": "python3"
  },
  "language_info": {
   "codemirror_mode": {
    "name": "ipython",
    "version": 3
   },
   "file_extension": ".py",
   "mimetype": "text/x-python",
   "name": "python",
   "nbconvert_exporter": "python",
   "pygments_lexer": "ipython3",
   "version": "3.5.5"
  }
 },
 "nbformat": 4,
 "nbformat_minor": 2
}
