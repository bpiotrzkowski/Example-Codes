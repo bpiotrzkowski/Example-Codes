{
 "cells": [
  {
   "cell_type": "code",
   "execution_count": 1,
   "metadata": {},
   "outputs": [],
   "source": [
    "import pickle\n",
    "import numpy as np\n",
    "import pandas as pd\n",
    "from matplotlib import pyplot as plt\n",
    "import seaborn as sns\n",
    "\n",
    "from sklearn.neighbors import KNeighborsClassifier\n",
    "from sklearn.model_selection import train_test_split\n",
    "import pickle\n",
    "import gwPaPa_func as gwpapa\n",
    "#from injections import "
   ]
  },
  {
   "cell_type": "code",
   "execution_count": null,
   "metadata": {},
   "outputs": [],
   "source": []
  },
  {
   "cell_type": "code",
   "execution_count": 2,
   "metadata": {},
   "outputs": [],
   "source": [
    "#BBH_path='data_BBH'\n",
    "BNS_path='data_BNS'\n",
    "#BBH_check_path='data_BBH_check'\n",
    "BNS_check_path='data_BNS_check'"
   ]
  },
  {
   "cell_type": "code",
   "execution_count": 3,
   "metadata": {},
   "outputs": [
    {
     "name": "stderr",
     "output_type": "stream",
     "text": [
      "PyCBC.libutils: pkg-config call failed, setting NO_PKGCONFIG=1\n"
     ]
    }
   ],
   "source": [
    "injections_BNS = pickle.load(open(BNS_path+'/injections-BNS.p', \"rb\"))\n",
    "#injections_BBH = pickle.load(open(BBH_path+'/injections-BBH.p', \"rb\"))\n",
    "injections_BNS_check = pickle.load(open(BNS_check_path+'/injections-BNS.p', \"rb\"))\n",
    "#injections_check_BBH = pickle.load(open(BBH_check_path+'/injections-BBH.p', \"rb\"))"
   ]
  },
  {
   "cell_type": "code",
   "execution_count": 4,
   "metadata": {},
   "outputs": [
    {
     "name": "stdout",
     "output_type": "stream",
     "text": [
      "[{'sim-id': 'BNS-1', 'mass_1': 1.5242401922792246, 'mass_2': 1.4415945204073988, 'S1x': 0.0, 'S1y': 0.0, 'S1z': 0.0, 'S2x': 0.0, 'S2y': 0.0, 'S2z': 0.0, 'distance': 1000.0, 'inclination': 0.0, 'right_ascension': 0.3, 'declination': -0.4, 'psi': 0.0, 'phiRef': 0.0, 'lambda1': 0.0, 'lambda2': 0.0, 'f_min': 20.0, 'f_ref': 20.0, 'deltaT': 0.000244140625, 'start_time': 802, 'duration': 202}, <pycbc.types.timeseries.TimeSeries object at 0x103235978>]\n",
      "0.000244140625\n"
     ]
    }
   ],
   "source": [
    "print(injections_BNS[0])\n",
    "dt=injections_BNS[0][0]['deltaT']\n",
    "print(dt)"
   ]
  },
  {
   "cell_type": "code",
   "execution_count": 31,
   "metadata": {},
   "outputs": [
    {
     "name": "stdout",
     "output_type": "stream",
     "text": [
      "180\n",
      "20\n",
      "done\n"
     ]
    }
   ],
   "source": [
    "num_BNS_injections=len(injections_BNS)\n",
    "#num_BBH_injections=len(injections_BBH)\n",
    "num_BNS_injections_check=len(injections_BNS_check)\n",
    "#num_BBH_injections_check=len(injections_BBH_check)\n",
    "\n",
    "print(num_BNS_injections)\n",
    "#print(num_BBH_injections)\n",
    "print(len(injections_BNS_check))\n",
    "#print(len(injections_BBH_check))\n",
    "\n",
    "\n",
    "BNS_data=[]\n",
    "#BBH_data=[]\n",
    "BNS_data_check=[]\n",
    "#BBH_check_data=[]\n",
    "#train_labels=[]\n",
    "#check_labels=[]\n",
    "t0=50\n",
    "tl=100\n",
    "\n",
    "for i in range(len(injections_BNS)):\n",
    "    d = np.array(injections_BNS[i][1])\n",
    "    t = np.arange(0,len(d)*dt,dt)\n",
    "    BNS_data.append(gwpapa.twindow(t,d,t0,tl))\n",
    "    \n",
    "for i in range(len(injections_BNS_check)):\n",
    "    d = np.array(injections_BNS_check[i][1])\n",
    "    t = np.arange(0,len(d)*dt,dt)\n",
    "    BNS_data_check.append(gwpapa.twindow(t,d,t0,tl))\n",
    " \n",
    "t0=7\n",
    "tl=1\n",
    "\n",
    "#for i in range(len(injections_BBH)):\n",
    "    #d = np.array(injections_BBH[i][1])\n",
    "    #t = np.arange(0,len(d)/sample_rate,1/sample_rate)\n",
    "    #BBH_data.append(gwpapa.twindow(t,d,t0,tl))\n",
    "    \n",
    "#for i in range(len(injections_BBH_check)):\n",
    "    #d = np.array(injections_BBH_check[i][1])\n",
    "    #t = np.arange(0,len(d)/sample_rate,1/sample_rate)\n",
    "    #BBH_check_data.append(gwpapa.twindow(t,d,t0,tl))\n",
    "\n",
    "print('done')"
   ]
  },
  {
   "cell_type": "code",
   "execution_count": 32,
   "metadata": {},
   "outputs": [],
   "source": [
    "mass_1=np.array([])\n",
    "mass_2=np.array([])\n",
    "mass_1_check=np.array([])\n",
    "mass_2_check=np.array([])\n",
    "#identity=np.array([],dtype=bool)\n",
    "#identity_check=np.array([],dtype=bool)\n",
    "num_injections=len(injections_BNS)#+len(injections_BBH)\n",
    "num_injections_check=len(injections_BNS_check)#+len(injections_check_BBH)\n",
    "\n",
    "for i in range(len(injections_BNS)):\n",
    "    mass_1=np.append(mass_1,injections_BNS[i][0][\"mass_1\"])\n",
    "    mass_2=np.append(mass_2,injections_BNS[i][0][\"mass_2\"])\n",
    "\n",
    "#for i in range(len(injections_BBH)):\n",
    "    #mass_1=np.append(mass_1,injections_BBH[i][0][\"mass_1\"])\n",
    "    #mass_2=np.append(mass_2,injections_BBH[i][0][\"mass_2\"])\n",
    "    \n",
    "for i in range(len(injections_BNS_check)):\n",
    "    mass_1_check=np.append(mass_1_check,injections_BNS_check[i][0][\"mass_1\"])\n",
    "    mass_2_check=np.append(mass_2_check,injections_BNS_check[i][0][\"mass_2\"])\n",
    "\n",
    "#for i in range(len(injections_check_BBH)):\n",
    "    #mass_1_check=np.append(mass_1_check,injections_check_BBH[i][0][\"mass_1\"])\n",
    "    #mass_2_check=np.append(mass_2_check,injections_check_BBH[i][0][\"mass_2\"])"
   ]
  },
  {
   "cell_type": "code",
   "execution_count": 33,
   "metadata": {},
   "outputs": [],
   "source": [
    "M_chirp=(mass_1*mass_2)**(3/5)/(mass_1+mass_2)**(1/5)\n",
    "eta=(mass_1*mass_2)/(mass_1+mass_2)**2.0\n",
    "\n",
    "M_chirp_check=(mass_1_check*mass_2_check)**(3/5)/(mass_1_check+mass_2_check)**(1/5)\n",
    "eta_check=(mass_1_check*mass_2_check)/(mass_1_check+mass_2_check)**2.0"
   ]
  },
  {
   "cell_type": "code",
   "execution_count": 34,
   "metadata": {},
   "outputs": [
    {
     "data": {
      "image/png": "[encoded data removed]",
      "text/plain": [
       "<Figure size 432x288 with 1 Axes>"
      ]
     },
     "metadata": {
      "needs_background": "light"
     },
     "output_type": "display_data"
    }
   ],
   "source": [
    "sample_rate=4096\n",
    "#t=np.arange(0,500,1/sample_rate)\n",
    "\n",
    "try:\n",
    "    d0 =injections_BNS[2][1]\n",
    "    t0 = np.arange(0,len(d0)/sample_rate,1/sample_rate)\n",
    "    plt.plot(t0,d0)\n",
    "    plt.show()\n",
    "except:\n",
    "    pass"
   ]
  },
  {
   "cell_type": "code",
   "execution_count": null,
   "metadata": {},
   "outputs": [],
   "source": [
    "fftfreq=np.fft.fftfreq(len(BNS_data[0]),dt)\n",
    "freqmax=np.array([])\n",
    "freqmax_check=np.array([])\n",
    "                       \n",
    "for i in range(len(injections_BNS)):\n",
    "    fft=np.fft.fft(BNS_data[i])\n",
    "    freqmax=np.append(freqmax,np.abs(fftfreq[np.argmax(np.abs(fft))]))\n",
    "    #plt.plot(fftfreq,np.abs(fft),alpha=.1)\n",
    "\n",
    "    \n",
    "    \n",
    "for i in range(len(injections_BNS_check)):\n",
    "    window=np.blackman(len(BNS_data_check[i]))\n",
    "    fft=np.fft.fft(BNS_data_check[i]*window)\n",
    "    freqmax=np.append(freqmax,np.abs(fftfreq[np.argmax(np.abs(fft))]))\n",
    "    plt.plot(fftfreq,np.abs(fft),alpha=.2)\n",
    "    #plt.plot(fftfreq,np.abs(fft),'.',alpha=.2)\n",
    "    \n",
    "#plt.plot(fftfreq,np.abs(fft))\n",
    "#plt.plot(fftfreq,np.abs(fft),alpha=.2)\n",
    "#plt.plot(fftfreq,np.abs(fft),'.',alpha=.2)\n",
    "\n",
    "path='w-window'\n",
    "plt.xlabel('frequency (Hz)')\n",
    "plt.ylabel('h(t)')\n",
    "plt.xlim(0,40)\n",
    "plt.grid(alpha=.2)\n",
    "plt.title('FFT of BNS Waveforms')\n",
    "plt.savefig('pics/'+path+'.png',dpi=300)\n",
    "plt.show()"
   ]
  },
  {
   "cell_type": "code",
   "execution_count": null,
   "metadata": {},
   "outputs": [],
   "source": [
    "#print(freqmax)\n",
    "plt.hist(freqmax)\n",
    "plt.ylabel('Counts')\n",
    "plt.xlabel('frequency (Hz)')\n",
    "plt.savefig('pics/hist-'+path+'.png',dpi=300)\n",
    "plt.show()\n",
    "\n",
    "t=np.arange(0,len(BNS_data[0])*dt,dt)\n",
    "\n",
    "for i in range(len(BNS_data_check)):\n",
    "    plt.plot(t,BNS_data[i],alpha=.5)\n",
    "plt.xlim(0,.2)\n",
    "plt.savefig('pics/ht-'+path+'.png',dpi=300)\n",
    "plt.show()\n",
    "\n",
    "print(freqmax)\n",
    "\n",
    "plt.specgram(BNS_data[0],NFFT=4095,Fs=4096)\n",
    "plt.ylim(0,100)\n",
    "plt.xlabel('time (s)')\n",
    "plt.ylabel('frequency (Hz)')\n",
    "plt.savefig('pics/exspec-'+path+'.png',dpi=300)\n",
    "plt.show()"
   ]
  },
  {
   "cell_type": "code",
   "execution_count": 10,
   "metadata": {},
   "outputs": [],
   "source": [
    "# For now we have 2features, so let's use 2N+1 neighbors\n",
    "num_neighbors = 5\n",
    "KNC = KNeighborsClassifier(num_neighbors)"
   ]
  },
  {
   "cell_type": "code",
   "execution_count": 11,
   "metadata": {},
   "outputs": [
    {
     "ename": "NameError",
     "evalue": "name 'identity' is not defined",
     "output_type": "error",
     "traceback": [
      "\u001b[0;31m---------------------------------------------------------------------------\u001b[0m",
      "\u001b[0;31mNameError\u001b[0m                                 Traceback (most recent call last)",
      "\u001b[0;32m<ipython-input-11-2fd3ae910250>\u001b[0m in \u001b[0;36m<module>\u001b[0;34m\u001b[0m\n\u001b[1;32m      1\u001b[0m \u001b[0mX_train\u001b[0m \u001b[0;34m=\u001b[0m \u001b[0mnp\u001b[0m\u001b[0;34m.\u001b[0m\u001b[0marray\u001b[0m\u001b[0;34m(\u001b[0m\u001b[0;34m[\u001b[0m\u001b[0mM_chirp\u001b[0m\u001b[0;34m,\u001b[0m\u001b[0meta\u001b[0m\u001b[0;34m]\u001b[0m\u001b[0;34m)\u001b[0m\u001b[0;34m\u001b[0m\u001b[0m\n\u001b[0;32m----> 2\u001b[0;31m \u001b[0mY_train\u001b[0m \u001b[0;34m=\u001b[0m \u001b[0midentity\u001b[0m\u001b[0;34m\u001b[0m\u001b[0m\n\u001b[0m\u001b[1;32m      3\u001b[0m \u001b[0;34m\u001b[0m\u001b[0m\n\u001b[1;32m      4\u001b[0m \u001b[0;31m#print(X_train)\u001b[0m\u001b[0;34m\u001b[0m\u001b[0;34m\u001b[0m\u001b[0m\n\u001b[1;32m      5\u001b[0m \u001b[0;31m#print(Y_train)\u001b[0m\u001b[0;34m\u001b[0m\u001b[0;34m\u001b[0m\u001b[0m\n",
      "\u001b[0;31mNameError\u001b[0m: name 'identity' is not defined"
     ]
    }
   ],
   "source": [
    "X_train = np.array([M_chirp,eta])\n",
    "Y_train = identity\n",
    "\n",
    "#print(X_train)\n",
    "#print(Y_train)\n",
    "\n",
    "X_train=np.reshape(X_train,(num_injections,2))\n",
    "\n",
    "X_train.shape, Y_train.shape"
   ]
  },
  {
   "cell_type": "code",
   "execution_count": null,
   "metadata": {},
   "outputs": [],
   "source": [
    "KNC.fit(X_train, Y_train)"
   ]
  },
  {
   "cell_type": "code",
   "execution_count": null,
   "metadata": {},
   "outputs": [],
   "source": [
    "X_check=np.array([M_chirp_check,eta_check])\n",
    "print(len(X_check[0]))\n",
    "Y_check= identity_check\n",
    "X_check=np.reshape(X_check,(num_injections_check,2))\n",
    "    \n",
    "real_sol=KNC.predict(X_check)\n",
    "#print(Y_check,real_sol)\n",
    "\n",
    "Comparison=[Y_check==real_sol]\n",
    "ind=[~Y_check==real_sol]\n",
    "num_right=np.sum(Comparison)\n",
    "    \n",
    "print(Comparison)\n",
    "#ind=np.where(X_check[Comparison])\n",
    "print(X_check[ind])\n",
    "frac_right=num_right/num_injections_check\n",
    "    \n",
    "#tot_num_right=tot_num_right+num_right\n",
    "print(frac_right)\n",
    "\n",
    "\n",
    "#print(tot_num_right/(checks*check_points))"
   ]
  },
  {
   "cell_type": "code",
   "execution_count": null,
   "metadata": {},
   "outputs": [],
   "source": [
    "data={'M_chirp' : M_chirp,'eta' : eta, 'identity' : identity}\n",
    "datapanda=pd.DataFrame(data=data)\n",
    "\n",
    "data_check={'M_chirp' : M_chirp_check,'eta' : eta_check, 'identity' : identity_check}\n",
    "datapanda_check=pd.DataFrame(data=data_check)"
   ]
  },
  {
   "cell_type": "code",
   "execution_count": null,
   "metadata": {},
   "outputs": [],
   "source": [
    "pairplots = sns.pairplot(datapanda,vars=['M_chirp','eta'],hue='identity',diag_kind='auto')"
   ]
  },
  {
   "cell_type": "code",
   "execution_count": null,
   "metadata": {},
   "outputs": [],
   "source": [
    "pairplots_check = sns.pairplot(datapanda_check,vars=['M_chirp','eta'],hue='identity',diag_kind='auto')"
   ]
  },
  {
   "cell_type": "code",
   "execution_count": null,
   "metadata": {},
   "outputs": [],
   "source": []
  }
 ],
 "metadata": {
  "kernelspec": {
   "display_name": "Python 3",
   "language": "python",
   "name": "python3"
  },
  "language_info": {
   "codemirror_mode": {
    "name": "ipython",
    "version": 3
   },
   "file_extension": ".py",
   "mimetype": "text/x-python",
   "name": "python",
   "nbconvert_exporter": "python",
   "pygments_lexer": "ipython3",
   "version": "3.6.6"
  }
 },
 "nbformat": 4,
 "nbformat_minor": 2
}
